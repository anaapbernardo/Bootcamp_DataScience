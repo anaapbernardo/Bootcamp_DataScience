{
 "cells": [
  {
   "cell_type": "markdown",
   "metadata": {},
   "source": [
    "Author: *Ana Paula Bernardo*\n",
    "\n",
    "Linkedin: https://www.linkedin.com/in/ana-paula-sbernardo/\n",
    "\n",
    "GitHub: https://github.com/anaapbernardo"
   ]
  },
  {
   "cell_type": "markdown",
   "metadata": {},
   "source": [
    "# Introduction"
   ]
  },
  {
   "cell_type": "markdown",
   "metadata": {},
   "source": [
    "This project is a general analysis of the eating habits of the students who answered the PeNSE survey of 2015.\n",
    "    \n",
    "PeNSE is a survey research that investigates information that makes it possible to know and measure the risk factors and health protection of teenagers.\n",
    "\n",
    "The survey provides information about:\n",
    "\n",
    "- Socioeconomic aspects; \n",
    "- Social and family contexts; \n",
    "- Behavioral risk factors related to eating habits, physical inactivity, smoking, alcohol consumption and other drugs; \n",
    "- Sexual and reproductive health; \n",
    "- Exposure to accidents and violence; \n",
    "- Hygiene habits; \n",
    "- Oral health; \n",
    "- Mental health; \n",
    "- Perception of body image, among other topics. \n",
    "    \n",
    "Characteristics of the school environment and surroundings are also considered, including information related to:\n",
    "- Infrastructure available for food and physical activity; \n",
    "- Accessibility; Sanitation; \n",
    "- Existence of rules and standards of conduct adopted by schools; \n",
    "- Health care policies; Safety level of the surroundings, among other aspects. \n",
    "\n",
    "Source: https://www.ibge.gov.br/estatisticas/sociais/educacao/9134-pesquisa-nacional-de-saude-do-escolar.html?=&t=o-que-e\n",
    "\n",
    "More information can be found at:\n",
    "\n",
    "https://biblioteca.ibge.gov.br/visualizacao/livros/liv97870.pdf\n",
    "\n",
    "https://www.youtube.com/watch?v=z4BBCHZUvD4&ab_channel=IBGE"
   ]
  },
  {
   "cell_type": "markdown",
   "metadata": {},
   "source": [
    "# Preliminary Analysis"
   ]
  },
  {
   "cell_type": "code",
   "execution_count": 64,
   "metadata": {},
   "outputs": [],
   "source": [
    "# Libraries\n",
    "import pandas as pd\n",
    "import numpy as np\n",
    "import matplotlib.pyplot as plt\n",
    "import seaborn as sns\n",
    "\n",
    "from scipy.stats import chi2_contingency"
   ]
  },
  {
   "cell_type": "code",
   "execution_count": 2,
   "metadata": {},
   "outputs": [],
   "source": [
    "# Links\n",
    "url_data = 'https://github.com/anaapbernardo/Bootcamp_DataScience/blob/main/Files%20-%20Bootcamp%20Data%20Science/PENSE_AMOSTRA2_ALUNO.CSV?raw=true'\n",
    "url_dict = 'https://github.com/anaapbernardo/Bootcamp_DataScience/blob/main/Files%20-%20Bootcamp%20Data%20Science/Dicionario_PENSE_Microdados_AMOSTRA2.xls?raw=true'"
   ]
  },
  {
   "cell_type": "code",
   "execution_count": 3,
   "metadata": {},
   "outputs": [],
   "source": [
    "# Reading the dataset\n",
    "df = pd.read_csv(url_data, sep=';', thousands='.', decimal=',', na_values=99)\n",
    "\n",
    "# Reading the Q&A dictionary\n",
    "df_dict = pd.read_excel(url_dict)"
   ]
  },
  {
   "cell_type": "markdown",
   "metadata": {},
   "source": [
    "### Dictionaries"
   ]
  },
  {
   "cell_type": "code",
   "execution_count": 4,
   "metadata": {},
   "outputs": [],
   "source": [
    "dict_color = {1: 'White',\n",
    "              2: 'Black',\n",
    "              3: 'Yellow (Asian descendants)',\n",
    "              4: 'Brown (Pardo)',\n",
    "              5: 'Indian',\n",
    "              99: 'Not informed'\n",
    "             }"
   ]
  },
  {
   "cell_type": "code",
   "execution_count": 5,
   "metadata": {},
   "outputs": [],
   "source": [
    "dict_answers = {1: 'None',\n",
    "                2: '1 day',\n",
    "                3: '2 days',\n",
    "                4: '3 days',\n",
    "                5: '4 days',\n",
    "                6: '5 days',\n",
    "                7: '6 days',\n",
    "                8: 'Everyday',\n",
    "                99: 'Not informed'\n",
    "               }"
   ]
  },
  {
   "cell_type": "code",
   "execution_count": 6,
   "metadata": {},
   "outputs": [],
   "source": [
    "dict_answers_hungry = {1: 'Never',\n",
    "                       2: 'Rarely',\n",
    "                       3: 'Sometimes',\n",
    "                       4: 'Most of the time',\n",
    "                       5: 'Always',\n",
    "                       99: 'Not informed'\n",
    "                      }"
   ]
  },
  {
   "cell_type": "markdown",
   "metadata": {},
   "source": [
    "### Functions"
   ]
  },
  {
   "cell_type": "code",
   "execution_count": 7,
   "metadata": {},
   "outputs": [],
   "source": [
    "# Dictionary to interpret the question's code\n",
    "\n",
    "def get_question_description(colum_name) -> dict:\n",
    "    \n",
    "    return_dict = dict()\n",
    "\n",
    "    description_row = df_dict.query(f'VARIÁVEL == \"{colum_name}\"')['QUESTIONÁRIO DO ALUNO']\n",
    "    return_dict['Question'] = description_row.values[0]\n",
    "   \n",
    "    values = list()\n",
    "    index = description_row.index[0] + 1\n",
    "    value = df_dict.iloc[index]['VARIÁVEL']\n",
    "    \n",
    "    # Verifying if caracter is or not equal as some answers has the result -1\n",
    "    while str(value)[0].isnumeric() or str(value)[0] == '-':\n",
    "        values.append([value, df_dict.iloc[index]['QUESTIONÁRIO DO ALUNO']])\n",
    "        index += 1\n",
    "        value = df_dict.iloc[index]['VARIÁVEL']\n",
    "    return_dict['Description'] = dict(values)\n",
    "    \n",
    "    return return_dict"
   ]
  },
  {
   "cell_type": "code",
   "execution_count": 8,
   "metadata": {},
   "outputs": [],
   "source": [
    "def get_cross_frequency(dataframe: pd.DataFrame, \n",
    "                        question1: str, question2: str, \n",
    "                        dict1: dict, dict2: dict):\n",
    "    \n",
    "    cross_frequency = pd.crosstab(dataframe[question1], dataframe[question2], normalize = 'index') * 100\n",
    "    cross_frequency.rename(index = dict1, inplace = True)\n",
    "    cross_frequency.rename(columns = dict2, inplace = True)\n",
    "    \n",
    "    return cross_frequency.round(2)"
   ]
  },
  {
   "cell_type": "markdown",
   "metadata": {},
   "source": [
    "# Data Cleaning"
   ]
  },
  {
   "cell_type": "code",
   "execution_count": 9,
   "metadata": {},
   "outputs": [
    {
     "data": {
      "text/html": [
       "<div>\n",
       "<style scoped>\n",
       "    .dataframe tbody tr th:only-of-type {\n",
       "        vertical-align: middle;\n",
       "    }\n",
       "\n",
       "    .dataframe tbody tr th {\n",
       "        vertical-align: top;\n",
       "    }\n",
       "\n",
       "    .dataframe thead th {\n",
       "        text-align: right;\n",
       "    }\n",
       "</style>\n",
       "<table border=\"1\" class=\"dataframe\">\n",
       "  <thead>\n",
       "    <tr style=\"text-align: right;\">\n",
       "      <th></th>\n",
       "      <th>ANOPESQ</th>\n",
       "      <th>PAIS</th>\n",
       "      <th>REGEOGR</th>\n",
       "      <th>VB00004</th>\n",
       "      <th>VB01001</th>\n",
       "      <th>VB01002</th>\n",
       "      <th>VB01003</th>\n",
       "      <th>VB01004</th>\n",
       "      <th>VB01005</th>\n",
       "      <th>VB01006</th>\n",
       "      <th>...</th>\n",
       "      <th>ESTRATO_EXP</th>\n",
       "      <th>ESTRATOGEOREG</th>\n",
       "      <th>PESO</th>\n",
       "      <th>V0006</th>\n",
       "      <th>V0007</th>\n",
       "      <th>V0008</th>\n",
       "      <th>V0041</th>\n",
       "      <th>aluno</th>\n",
       "      <th>escola</th>\n",
       "      <th>turma</th>\n",
       "    </tr>\n",
       "  </thead>\n",
       "  <tbody>\n",
       "    <tr>\n",
       "      <th>0</th>\n",
       "      <td>2015</td>\n",
       "      <td>76</td>\n",
       "      <td>1</td>\n",
       "      <td>1</td>\n",
       "      <td>2</td>\n",
       "      <td>1.0</td>\n",
       "      <td>13</td>\n",
       "      <td>7.0</td>\n",
       "      <td>7.0</td>\n",
       "      <td>1.0</td>\n",
       "      <td>...</td>\n",
       "      <td>1223</td>\n",
       "      <td>1</td>\n",
       "      <td>299.735235</td>\n",
       "      <td>1</td>\n",
       "      <td>2</td>\n",
       "      <td>4</td>\n",
       "      <td>1</td>\n",
       "      <td>1.0</td>\n",
       "      <td>1.0</td>\n",
       "      <td>296.0</td>\n",
       "    </tr>\n",
       "    <tr>\n",
       "      <th>1</th>\n",
       "      <td>2015</td>\n",
       "      <td>76</td>\n",
       "      <td>1</td>\n",
       "      <td>1</td>\n",
       "      <td>2</td>\n",
       "      <td>1.0</td>\n",
       "      <td>14</td>\n",
       "      <td>4.0</td>\n",
       "      <td>7.0</td>\n",
       "      <td>1.0</td>\n",
       "      <td>...</td>\n",
       "      <td>1223</td>\n",
       "      <td>1</td>\n",
       "      <td>355.170081</td>\n",
       "      <td>1</td>\n",
       "      <td>2</td>\n",
       "      <td>4</td>\n",
       "      <td>1</td>\n",
       "      <td>2.0</td>\n",
       "      <td>1.0</td>\n",
       "      <td>296.0</td>\n",
       "    </tr>\n",
       "    <tr>\n",
       "      <th>2</th>\n",
       "      <td>2015</td>\n",
       "      <td>76</td>\n",
       "      <td>1</td>\n",
       "      <td>1</td>\n",
       "      <td>1</td>\n",
       "      <td>4.0</td>\n",
       "      <td>13</td>\n",
       "      <td>6.0</td>\n",
       "      <td>7.0</td>\n",
       "      <td>1.0</td>\n",
       "      <td>...</td>\n",
       "      <td>1223</td>\n",
       "      <td>1</td>\n",
       "      <td>299.735235</td>\n",
       "      <td>1</td>\n",
       "      <td>2</td>\n",
       "      <td>4</td>\n",
       "      <td>1</td>\n",
       "      <td>3.0</td>\n",
       "      <td>1.0</td>\n",
       "      <td>296.0</td>\n",
       "    </tr>\n",
       "    <tr>\n",
       "      <th>3</th>\n",
       "      <td>2015</td>\n",
       "      <td>76</td>\n",
       "      <td>1</td>\n",
       "      <td>1</td>\n",
       "      <td>1</td>\n",
       "      <td>1.0</td>\n",
       "      <td>14</td>\n",
       "      <td>6.0</td>\n",
       "      <td>7.0</td>\n",
       "      <td>1.0</td>\n",
       "      <td>...</td>\n",
       "      <td>1223</td>\n",
       "      <td>1</td>\n",
       "      <td>355.170081</td>\n",
       "      <td>1</td>\n",
       "      <td>2</td>\n",
       "      <td>4</td>\n",
       "      <td>1</td>\n",
       "      <td>4.0</td>\n",
       "      <td>1.0</td>\n",
       "      <td>296.0</td>\n",
       "    </tr>\n",
       "    <tr>\n",
       "      <th>4</th>\n",
       "      <td>2015</td>\n",
       "      <td>76</td>\n",
       "      <td>1</td>\n",
       "      <td>1</td>\n",
       "      <td>1</td>\n",
       "      <td>1.0</td>\n",
       "      <td>13</td>\n",
       "      <td>9.0</td>\n",
       "      <td>7.0</td>\n",
       "      <td>1.0</td>\n",
       "      <td>...</td>\n",
       "      <td>1223</td>\n",
       "      <td>1</td>\n",
       "      <td>299.735235</td>\n",
       "      <td>1</td>\n",
       "      <td>2</td>\n",
       "      <td>4</td>\n",
       "      <td>1</td>\n",
       "      <td>5.0</td>\n",
       "      <td>1.0</td>\n",
       "      <td>296.0</td>\n",
       "    </tr>\n",
       "  </tbody>\n",
       "</table>\n",
       "<p>5 rows × 181 columns</p>\n",
       "</div>"
      ],
      "text/plain": [
       "   ANOPESQ  PAIS  REGEOGR  VB00004  VB01001  VB01002  VB01003  VB01004  \\\n",
       "0     2015    76        1        1        2      1.0       13      7.0   \n",
       "1     2015    76        1        1        2      1.0       14      4.0   \n",
       "2     2015    76        1        1        1      4.0       13      6.0   \n",
       "3     2015    76        1        1        1      1.0       14      6.0   \n",
       "4     2015    76        1        1        1      1.0       13      9.0   \n",
       "\n",
       "   VB01005  VB01006  ...  ESTRATO_EXP  ESTRATOGEOREG        PESO  V0006  \\\n",
       "0      7.0      1.0  ...         1223              1  299.735235      1   \n",
       "1      7.0      1.0  ...         1223              1  355.170081      1   \n",
       "2      7.0      1.0  ...         1223              1  299.735235      1   \n",
       "3      7.0      1.0  ...         1223              1  355.170081      1   \n",
       "4      7.0      1.0  ...         1223              1  299.735235      1   \n",
       "\n",
       "   V0007  V0008  V0041  aluno  escola  turma  \n",
       "0      2      4      1    1.0     1.0  296.0  \n",
       "1      2      4      1    2.0     1.0  296.0  \n",
       "2      2      4      1    3.0     1.0  296.0  \n",
       "3      2      4      1    4.0     1.0  296.0  \n",
       "4      2      4      1    5.0     1.0  296.0  \n",
       "\n",
       "[5 rows x 181 columns]"
      ]
     },
     "execution_count": 9,
     "metadata": {},
     "output_type": "execute_result"
    }
   ],
   "source": [
    "# Printing original dataframe\n",
    "df.head()"
   ]
  },
  {
   "cell_type": "code",
   "execution_count": 10,
   "metadata": {},
   "outputs": [
    {
     "data": {
      "text/plain": [
       "(16556, 181)"
      ]
     },
     "execution_count": 10,
     "metadata": {},
     "output_type": "execute_result"
    }
   ],
   "source": [
    "df.shape"
   ]
  },
  {
   "cell_type": "markdown",
   "metadata": {},
   "source": [
    "As a data cleaning step, I decided to remove all rows that had 'Not Informed' answers. This way I could work with only the full answered dataset."
   ]
  },
  {
   "cell_type": "code",
   "execution_count": 11,
   "metadata": {},
   "outputs": [
    {
     "data": {
      "text/html": [
       "<div>\n",
       "<style scoped>\n",
       "    .dataframe tbody tr th:only-of-type {\n",
       "        vertical-align: middle;\n",
       "    }\n",
       "\n",
       "    .dataframe tbody tr th {\n",
       "        vertical-align: top;\n",
       "    }\n",
       "\n",
       "    .dataframe thead th {\n",
       "        text-align: right;\n",
       "    }\n",
       "</style>\n",
       "<table border=\"1\" class=\"dataframe\">\n",
       "  <thead>\n",
       "    <tr style=\"text-align: right;\">\n",
       "      <th></th>\n",
       "      <th>ANOPESQ</th>\n",
       "      <th>PAIS</th>\n",
       "      <th>REGEOGR</th>\n",
       "      <th>VB00004</th>\n",
       "      <th>VB01001</th>\n",
       "      <th>VB01002</th>\n",
       "      <th>VB01003</th>\n",
       "      <th>VB01004</th>\n",
       "      <th>VB01005</th>\n",
       "      <th>VB01006</th>\n",
       "      <th>...</th>\n",
       "      <th>ESTRATO_EXP</th>\n",
       "      <th>ESTRATOGEOREG</th>\n",
       "      <th>PESO</th>\n",
       "      <th>V0006</th>\n",
       "      <th>V0007</th>\n",
       "      <th>V0008</th>\n",
       "      <th>V0041</th>\n",
       "      <th>aluno</th>\n",
       "      <th>escola</th>\n",
       "      <th>turma</th>\n",
       "    </tr>\n",
       "  </thead>\n",
       "  <tbody>\n",
       "    <tr>\n",
       "      <th>0</th>\n",
       "      <td>2015</td>\n",
       "      <td>76</td>\n",
       "      <td>1</td>\n",
       "      <td>1</td>\n",
       "      <td>2</td>\n",
       "      <td>1.0</td>\n",
       "      <td>13</td>\n",
       "      <td>7.0</td>\n",
       "      <td>7.0</td>\n",
       "      <td>1.0</td>\n",
       "      <td>...</td>\n",
       "      <td>1223</td>\n",
       "      <td>1</td>\n",
       "      <td>299.735235</td>\n",
       "      <td>1</td>\n",
       "      <td>2</td>\n",
       "      <td>4</td>\n",
       "      <td>1</td>\n",
       "      <td>1.0</td>\n",
       "      <td>1.0</td>\n",
       "      <td>296.0</td>\n",
       "    </tr>\n",
       "    <tr>\n",
       "      <th>1</th>\n",
       "      <td>2015</td>\n",
       "      <td>76</td>\n",
       "      <td>1</td>\n",
       "      <td>1</td>\n",
       "      <td>2</td>\n",
       "      <td>1.0</td>\n",
       "      <td>14</td>\n",
       "      <td>4.0</td>\n",
       "      <td>7.0</td>\n",
       "      <td>1.0</td>\n",
       "      <td>...</td>\n",
       "      <td>1223</td>\n",
       "      <td>1</td>\n",
       "      <td>355.170081</td>\n",
       "      <td>1</td>\n",
       "      <td>2</td>\n",
       "      <td>4</td>\n",
       "      <td>1</td>\n",
       "      <td>2.0</td>\n",
       "      <td>1.0</td>\n",
       "      <td>296.0</td>\n",
       "    </tr>\n",
       "    <tr>\n",
       "      <th>3</th>\n",
       "      <td>2015</td>\n",
       "      <td>76</td>\n",
       "      <td>1</td>\n",
       "      <td>1</td>\n",
       "      <td>1</td>\n",
       "      <td>1.0</td>\n",
       "      <td>14</td>\n",
       "      <td>6.0</td>\n",
       "      <td>7.0</td>\n",
       "      <td>1.0</td>\n",
       "      <td>...</td>\n",
       "      <td>1223</td>\n",
       "      <td>1</td>\n",
       "      <td>355.170081</td>\n",
       "      <td>1</td>\n",
       "      <td>2</td>\n",
       "      <td>4</td>\n",
       "      <td>1</td>\n",
       "      <td>4.0</td>\n",
       "      <td>1.0</td>\n",
       "      <td>296.0</td>\n",
       "    </tr>\n",
       "    <tr>\n",
       "      <th>4</th>\n",
       "      <td>2015</td>\n",
       "      <td>76</td>\n",
       "      <td>1</td>\n",
       "      <td>1</td>\n",
       "      <td>1</td>\n",
       "      <td>1.0</td>\n",
       "      <td>13</td>\n",
       "      <td>9.0</td>\n",
       "      <td>7.0</td>\n",
       "      <td>1.0</td>\n",
       "      <td>...</td>\n",
       "      <td>1223</td>\n",
       "      <td>1</td>\n",
       "      <td>299.735235</td>\n",
       "      <td>1</td>\n",
       "      <td>2</td>\n",
       "      <td>4</td>\n",
       "      <td>1</td>\n",
       "      <td>5.0</td>\n",
       "      <td>1.0</td>\n",
       "      <td>296.0</td>\n",
       "    </tr>\n",
       "    <tr>\n",
       "      <th>5</th>\n",
       "      <td>2015</td>\n",
       "      <td>76</td>\n",
       "      <td>1</td>\n",
       "      <td>1</td>\n",
       "      <td>2</td>\n",
       "      <td>4.0</td>\n",
       "      <td>14</td>\n",
       "      <td>12.0</td>\n",
       "      <td>6.0</td>\n",
       "      <td>1.0</td>\n",
       "      <td>...</td>\n",
       "      <td>1223</td>\n",
       "      <td>1</td>\n",
       "      <td>355.170081</td>\n",
       "      <td>1</td>\n",
       "      <td>2</td>\n",
       "      <td>4</td>\n",
       "      <td>1</td>\n",
       "      <td>6.0</td>\n",
       "      <td>1.0</td>\n",
       "      <td>296.0</td>\n",
       "    </tr>\n",
       "  </tbody>\n",
       "</table>\n",
       "<p>5 rows × 181 columns</p>\n",
       "</div>"
      ],
      "text/plain": [
       "   ANOPESQ  PAIS  REGEOGR  VB00004  VB01001  VB01002  VB01003  VB01004  \\\n",
       "0     2015    76        1        1        2      1.0       13      7.0   \n",
       "1     2015    76        1        1        2      1.0       14      4.0   \n",
       "3     2015    76        1        1        1      1.0       14      6.0   \n",
       "4     2015    76        1        1        1      1.0       13      9.0   \n",
       "5     2015    76        1        1        2      4.0       14     12.0   \n",
       "\n",
       "   VB01005  VB01006  ...  ESTRATO_EXP  ESTRATOGEOREG        PESO  V0006  \\\n",
       "0      7.0      1.0  ...         1223              1  299.735235      1   \n",
       "1      7.0      1.0  ...         1223              1  355.170081      1   \n",
       "3      7.0      1.0  ...         1223              1  355.170081      1   \n",
       "4      7.0      1.0  ...         1223              1  299.735235      1   \n",
       "5      6.0      1.0  ...         1223              1  355.170081      1   \n",
       "\n",
       "   V0007  V0008  V0041  aluno  escola  turma  \n",
       "0      2      4      1    1.0     1.0  296.0  \n",
       "1      2      4      1    2.0     1.0  296.0  \n",
       "3      2      4      1    4.0     1.0  296.0  \n",
       "4      2      4      1    5.0     1.0  296.0  \n",
       "5      2      4      1    6.0     1.0  296.0  \n",
       "\n",
       "[5 rows x 181 columns]"
      ]
     },
     "execution_count": 11,
     "metadata": {},
     "output_type": "execute_result"
    }
   ],
   "source": [
    "# Removing all Not Informed (99 answers) that I set as NaN\n",
    "df_clean = df.dropna()\n",
    "df_clean.head()"
   ]
  },
  {
   "cell_type": "code",
   "execution_count": 12,
   "metadata": {},
   "outputs": [
    {
     "data": {
      "text/plain": [
       "(14749, 181)"
      ]
     },
     "execution_count": 12,
     "metadata": {},
     "output_type": "execute_result"
    }
   ],
   "source": [
    "df_clean.shape"
   ]
  },
  {
   "cell_type": "markdown",
   "metadata": {},
   "source": [
    "\n",
    "# Data Analysis"
   ]
  },
  {
   "cell_type": "markdown",
   "metadata": {},
   "source": [
    "For this analysis, I would like to assess whether the students' skin color influences their eating habits."
   ]
  },
  {
   "cell_type": "markdown",
   "metadata": {},
   "source": [
    "## **Distribuition of the students according to their skin color**"
   ]
  },
  {
   "cell_type": "code",
   "execution_count": 13,
   "metadata": {},
   "outputs": [
    {
     "data": {
      "text/plain": [
       "{'Question': 'Qual é a sua cor ou raça?',\n",
       " 'Description': {'1': 'Branca',\n",
       "  '2': 'Preta',\n",
       "  '3': 'Amarela',\n",
       "  '4': 'Parda',\n",
       "  '5': 'Indígena',\n",
       "  99: 'Não informado'}}"
      ]
     },
     "execution_count": 13,
     "metadata": {},
     "output_type": "execute_result"
    }
   ],
   "source": [
    "get_question_description('VB01002')"
   ]
  },
  {
   "cell_type": "code",
   "execution_count": 14,
   "metadata": {},
   "outputs": [
    {
     "data": {
      "text/html": [
       "<div>\n",
       "<style scoped>\n",
       "    .dataframe tbody tr th:only-of-type {\n",
       "        vertical-align: middle;\n",
       "    }\n",
       "\n",
       "    .dataframe tbody tr th {\n",
       "        vertical-align: top;\n",
       "    }\n",
       "\n",
       "    .dataframe thead th {\n",
       "        text-align: right;\n",
       "    }\n",
       "</style>\n",
       "<table border=\"1\" class=\"dataframe\">\n",
       "  <thead>\n",
       "    <tr style=\"text-align: right;\">\n",
       "      <th>What is your skin color?</th>\n",
       "      <th>Frequency</th>\n",
       "      <th>Percentage</th>\n",
       "    </tr>\n",
       "  </thead>\n",
       "  <tbody>\n",
       "    <tr>\n",
       "      <th>Brown (Pardo)</th>\n",
       "      <td>5979</td>\n",
       "      <td>40.54</td>\n",
       "    </tr>\n",
       "    <tr>\n",
       "      <th>White</th>\n",
       "      <td>5956</td>\n",
       "      <td>40.38</td>\n",
       "    </tr>\n",
       "    <tr>\n",
       "      <th>Black</th>\n",
       "      <td>1672</td>\n",
       "      <td>11.34</td>\n",
       "    </tr>\n",
       "    <tr>\n",
       "      <th>Yellow (Asian descendants)</th>\n",
       "      <td>636</td>\n",
       "      <td>4.31</td>\n",
       "    </tr>\n",
       "    <tr>\n",
       "      <th>Indian</th>\n",
       "      <td>506</td>\n",
       "      <td>3.43</td>\n",
       "    </tr>\n",
       "  </tbody>\n",
       "</table>\n",
       "</div>"
      ],
      "text/plain": [
       "What is your skin color?    Frequency  Percentage\n",
       "Brown (Pardo)                    5979       40.54\n",
       "White                            5956       40.38\n",
       "Black                            1672       11.34\n",
       "Yellow (Asian descendants)        636        4.31\n",
       "Indian                            506        3.43"
      ]
     },
     "execution_count": 14,
     "metadata": {},
     "output_type": "execute_result"
    }
   ],
   "source": [
    "# Calculating frequency and percentage of the students\n",
    "frequency = df_clean['VB01002'].value_counts()\n",
    "percentage = (df_clean['VB01002'].value_counts(normalize = True) * 100).round(2)\n",
    "\n",
    "# Creating a frequency table\n",
    "freq_distribuition = pd.DataFrame({'Frequency': frequency, 'Percentage': percentage})\n",
    "freq_distribuition.rename(index = dict_color, inplace = True)\n",
    "freq_distribuition.rename_axis('What is your skin color?', axis=1, inplace = True)\n",
    "freq_distribuition"
   ]
  },
  {
   "cell_type": "code",
   "execution_count": 63,
   "metadata": {},
   "outputs": [
    {
     "data": {
      "image/png": "[encoded data removed]",
      "text/plain": [
       "<Figure size 864x432 with 1 Axes>"
      ]
     },
     "metadata": {},
     "output_type": "display_data"
    }
   ],
   "source": [
    "sns.set_style('darkgrid')\n",
    "\n",
    "ax = sns.barplot(x = freq_distribuition.index, y = 'Frequency', data = freq_distribuition)\n",
    "\n",
    "ax.figure.set_size_inches(12, 6)\n",
    "ax.set_title('Frequency distribuition os students by color/race', weight='bold', size=18)\n",
    "ax.set_xlabel('Student Color or Race', weight='bold', size=14)\n",
    "ax.set_ylabel('Number of Students', weight='bold', size=14)\n",
    "ax.set_xaxis()\n",
    "\n",
    "ax;"
   ]
  },
  {
   "cell_type": "markdown",
   "metadata": {},
   "source": [
    "More than 80% of the students who participated of PENSE survey answered that they were Brown or White, and the other 20% were distributed between Black, Yellow, and Indian students."
   ]
  },
  {
   "cell_type": "markdown",
   "metadata": {},
   "source": [
    "## **Eating habits**"
   ]
  },
  {
   "cell_type": "markdown",
   "metadata": {},
   "source": [
    "### Healthy eating markers"
   ]
  },
  {
   "cell_type": "markdown",
   "metadata": {},
   "source": [
    "#### Beans"
   ]
  },
  {
   "cell_type": "code",
   "execution_count": 16,
   "metadata": {},
   "outputs": [
    {
     "data": {
      "text/plain": [
       "{'Question': 'NOS ÚLTIMOS 7 DIAS, em quantos dias você comeu feijão?',\n",
       " 'Description': {'1': 'Não comi feijão nos últimos 7 dias (0 dia)',\n",
       "  '2': '1 dia nos últimos 7 dias ',\n",
       "  '3': '2 dias nos últimos 7 dias ',\n",
       "  '4': '3 dias nos últimos 7 dias ',\n",
       "  '5': '4 dias nos últimos 7 dias ',\n",
       "  '6': '5 dias nos últimos 7 dias ',\n",
       "  '7': '6 dias nos últimos 7 dias ',\n",
       "  '8': 'Todos os dias nos últimos 7 dias',\n",
       "  99: 'Não informado'}}"
      ]
     },
     "execution_count": 16,
     "metadata": {},
     "output_type": "execute_result"
    }
   ],
   "source": [
    "question_beans = get_question_description('VB02001')\n",
    "question_beans"
   ]
  },
  {
   "cell_type": "code",
   "execution_count": 17,
   "metadata": {},
   "outputs": [
    {
     "data": {
      "text/html": [
       "<div>\n",
       "<style scoped>\n",
       "    .dataframe tbody tr th:only-of-type {\n",
       "        vertical-align: middle;\n",
       "    }\n",
       "\n",
       "    .dataframe tbody tr th {\n",
       "        vertical-align: top;\n",
       "    }\n",
       "\n",
       "    .dataframe thead th {\n",
       "        text-align: right;\n",
       "    }\n",
       "</style>\n",
       "<table border=\"1\" class=\"dataframe\">\n",
       "  <thead>\n",
       "    <tr style=\"text-align: right;\">\n",
       "      <th>VB02001</th>\n",
       "      <th>None</th>\n",
       "      <th>1 day</th>\n",
       "      <th>2 days</th>\n",
       "      <th>3 days</th>\n",
       "      <th>4 days</th>\n",
       "      <th>5 days</th>\n",
       "      <th>6 days</th>\n",
       "      <th>Everyday</th>\n",
       "    </tr>\n",
       "    <tr>\n",
       "      <th>VB01002</th>\n",
       "      <th></th>\n",
       "      <th></th>\n",
       "      <th></th>\n",
       "      <th></th>\n",
       "      <th></th>\n",
       "      <th></th>\n",
       "      <th></th>\n",
       "      <th></th>\n",
       "    </tr>\n",
       "  </thead>\n",
       "  <tbody>\n",
       "    <tr>\n",
       "      <th>White</th>\n",
       "      <td>12.94</td>\n",
       "      <td>8.88</td>\n",
       "      <td>8.58</td>\n",
       "      <td>8.81</td>\n",
       "      <td>8.55</td>\n",
       "      <td>8.36</td>\n",
       "      <td>7.87</td>\n",
       "      <td>36.00</td>\n",
       "    </tr>\n",
       "    <tr>\n",
       "      <th>Black</th>\n",
       "      <td>10.05</td>\n",
       "      <td>9.51</td>\n",
       "      <td>7.60</td>\n",
       "      <td>8.61</td>\n",
       "      <td>6.64</td>\n",
       "      <td>6.82</td>\n",
       "      <td>6.46</td>\n",
       "      <td>44.32</td>\n",
       "    </tr>\n",
       "    <tr>\n",
       "      <th>Yellow (Asian descendants)</th>\n",
       "      <td>11.32</td>\n",
       "      <td>8.49</td>\n",
       "      <td>7.70</td>\n",
       "      <td>8.02</td>\n",
       "      <td>6.29</td>\n",
       "      <td>8.02</td>\n",
       "      <td>8.96</td>\n",
       "      <td>41.19</td>\n",
       "    </tr>\n",
       "    <tr>\n",
       "      <th>Brown (Pardo)</th>\n",
       "      <td>10.12</td>\n",
       "      <td>8.16</td>\n",
       "      <td>7.61</td>\n",
       "      <td>9.07</td>\n",
       "      <td>7.26</td>\n",
       "      <td>8.20</td>\n",
       "      <td>7.12</td>\n",
       "      <td>42.47</td>\n",
       "    </tr>\n",
       "    <tr>\n",
       "      <th>Indian</th>\n",
       "      <td>15.02</td>\n",
       "      <td>7.91</td>\n",
       "      <td>4.55</td>\n",
       "      <td>8.89</td>\n",
       "      <td>7.71</td>\n",
       "      <td>6.72</td>\n",
       "      <td>7.51</td>\n",
       "      <td>41.70</td>\n",
       "    </tr>\n",
       "  </tbody>\n",
       "</table>\n",
       "</div>"
      ],
      "text/plain": [
       "VB02001                      None  1 day  2 days  3 days  4 days  5 days  \\\n",
       "VB01002                                                                    \n",
       "White                       12.94   8.88    8.58    8.81    8.55    8.36   \n",
       "Black                       10.05   9.51    7.60    8.61    6.64    6.82   \n",
       "Yellow (Asian descendants)  11.32   8.49    7.70    8.02    6.29    8.02   \n",
       "Brown (Pardo)               10.12   8.16    7.61    9.07    7.26    8.20   \n",
       "Indian                      15.02   7.91    4.55    8.89    7.71    6.72   \n",
       "\n",
       "VB02001                     6 days  Everyday  \n",
       "VB01002                                       \n",
       "White                         7.87     36.00  \n",
       "Black                         6.46     44.32  \n",
       "Yellow (Asian descendants)    8.96     41.19  \n",
       "Brown (Pardo)                 7.12     42.47  \n",
       "Indian                        7.51     41.70  "
      ]
     },
     "execution_count": 17,
     "metadata": {},
     "output_type": "execute_result"
    }
   ],
   "source": [
    "# Create Frequency Table (Percentage) - Eating Beans\n",
    "eating_frequency_beans = get_cross_frequency(df_clean, 'VB01002', 'VB02001', dict_color, dict_answers)\n",
    "eating_frequency_beans"
   ]
  },
  {
   "cell_type": "code",
   "execution_count": 18,
   "metadata": {},
   "outputs": [
    {
     "data": {
      "text/plain": [
       "0.9999992908235432"
      ]
     },
     "execution_count": 18,
     "metadata": {},
     "output_type": "execute_result"
    }
   ],
   "source": [
    "chi2, p, dof, expected = chi2_contingency(eating_frequency_beans)\n",
    "p"
   ]
  },
  {
   "cell_type": "markdown",
   "metadata": {},
   "source": [
    "The frequency table indicates that the habit of eating-beans is quite similar among students, regardless of skin color. In addition, most students eat beans every day, which is an indicator of healthy eating.\n",
    "\n",
    "According to the chi-square analysis, the null hypothesis is valid (p-value> 0.05). Therefore, when comparing the eating frequency (column), no difference was found between the students and the eating-beans habit."
   ]
  },
  {
   "cell_type": "markdown",
   "metadata": {},
   "source": [
    "#### Vegetables"
   ]
  },
  {
   "cell_type": "code",
   "execution_count": 19,
   "metadata": {},
   "outputs": [
    {
     "data": {
      "text/plain": [
       "{'Question': 'NOS ÚLTIMOS 7 DIAS, em quantos dias você comeu pelo menos um tipo de legume ou verdura? Exemplos: alface, abóbora, brócolis, cebola, cenoura, chuchu, couve, espinafre, pepino, tomate etc. Não inclua batata e aipim (mandioca/macaxeira).',\n",
       " 'Description': {'1': 'Não comi nenhum tipo de salada crua, legume ou verdura cozidos nos últimos 7 dias (0 dia)',\n",
       "  '2': '1 dia nos últimos 7 dias',\n",
       "  '3': '2 dias nos últimos 7 dias',\n",
       "  '4': '3 dias nos últimos 7 dias',\n",
       "  '5': '4 dias nos últimos 7 dias',\n",
       "  '6': '5 dias nos últimos 7 dias',\n",
       "  '7': '6 dias nos últimos 7 dias',\n",
       "  '8': 'Todos os dias nos últimos 7 dias',\n",
       "  99: 'Não informado'}}"
      ]
     },
     "execution_count": 19,
     "metadata": {},
     "output_type": "execute_result"
    }
   ],
   "source": [
    "question_vegetables = get_question_description('VB02004A')\n",
    "question_vegetables"
   ]
  },
  {
   "cell_type": "code",
   "execution_count": 20,
   "metadata": {},
   "outputs": [
    {
     "data": {
      "text/html": [
       "<div>\n",
       "<style scoped>\n",
       "    .dataframe tbody tr th:only-of-type {\n",
       "        vertical-align: middle;\n",
       "    }\n",
       "\n",
       "    .dataframe tbody tr th {\n",
       "        vertical-align: top;\n",
       "    }\n",
       "\n",
       "    .dataframe thead th {\n",
       "        text-align: right;\n",
       "    }\n",
       "</style>\n",
       "<table border=\"1\" class=\"dataframe\">\n",
       "  <thead>\n",
       "    <tr style=\"text-align: right;\">\n",
       "      <th>VB02004A</th>\n",
       "      <th>None</th>\n",
       "      <th>1 day</th>\n",
       "      <th>2 days</th>\n",
       "      <th>3 days</th>\n",
       "      <th>4 days</th>\n",
       "      <th>5 days</th>\n",
       "      <th>6 days</th>\n",
       "      <th>Everyday</th>\n",
       "    </tr>\n",
       "    <tr>\n",
       "      <th>VB01002</th>\n",
       "      <th></th>\n",
       "      <th></th>\n",
       "      <th></th>\n",
       "      <th></th>\n",
       "      <th></th>\n",
       "      <th></th>\n",
       "      <th></th>\n",
       "      <th></th>\n",
       "    </tr>\n",
       "  </thead>\n",
       "  <tbody>\n",
       "    <tr>\n",
       "      <th>White</th>\n",
       "      <td>16.52</td>\n",
       "      <td>10.07</td>\n",
       "      <td>10.19</td>\n",
       "      <td>10.80</td>\n",
       "      <td>9.70</td>\n",
       "      <td>7.84</td>\n",
       "      <td>6.67</td>\n",
       "      <td>28.21</td>\n",
       "    </tr>\n",
       "    <tr>\n",
       "      <th>Black</th>\n",
       "      <td>19.32</td>\n",
       "      <td>12.80</td>\n",
       "      <td>11.72</td>\n",
       "      <td>11.30</td>\n",
       "      <td>7.24</td>\n",
       "      <td>6.76</td>\n",
       "      <td>6.04</td>\n",
       "      <td>24.82</td>\n",
       "    </tr>\n",
       "    <tr>\n",
       "      <th>Yellow (Asian descendants)</th>\n",
       "      <td>16.04</td>\n",
       "      <td>11.16</td>\n",
       "      <td>11.16</td>\n",
       "      <td>11.01</td>\n",
       "      <td>8.02</td>\n",
       "      <td>5.82</td>\n",
       "      <td>7.55</td>\n",
       "      <td>29.25</td>\n",
       "    </tr>\n",
       "    <tr>\n",
       "      <th>Brown (Pardo)</th>\n",
       "      <td>17.18</td>\n",
       "      <td>12.06</td>\n",
       "      <td>11.26</td>\n",
       "      <td>11.26</td>\n",
       "      <td>9.20</td>\n",
       "      <td>7.88</td>\n",
       "      <td>5.69</td>\n",
       "      <td>25.49</td>\n",
       "    </tr>\n",
       "    <tr>\n",
       "      <th>Indian</th>\n",
       "      <td>18.18</td>\n",
       "      <td>12.25</td>\n",
       "      <td>11.07</td>\n",
       "      <td>10.47</td>\n",
       "      <td>8.50</td>\n",
       "      <td>7.71</td>\n",
       "      <td>5.73</td>\n",
       "      <td>26.09</td>\n",
       "    </tr>\n",
       "  </tbody>\n",
       "</table>\n",
       "</div>"
      ],
      "text/plain": [
       "VB02004A                     None  1 day  2 days  3 days  4 days  5 days  \\\n",
       "VB01002                                                                    \n",
       "White                       16.52  10.07   10.19   10.80    9.70    7.84   \n",
       "Black                       19.32  12.80   11.72   11.30    7.24    6.76   \n",
       "Yellow (Asian descendants)  16.04  11.16   11.16   11.01    8.02    5.82   \n",
       "Brown (Pardo)               17.18  12.06   11.26   11.26    9.20    7.88   \n",
       "Indian                      18.18  12.25   11.07   10.47    8.50    7.71   \n",
       "\n",
       "VB02004A                    6 days  Everyday  \n",
       "VB01002                                       \n",
       "White                         6.67     28.21  \n",
       "Black                         6.04     24.82  \n",
       "Yellow (Asian descendants)    7.55     29.25  \n",
       "Brown (Pardo)                 5.69     25.49  \n",
       "Indian                        5.73     26.09  "
      ]
     },
     "execution_count": 20,
     "metadata": {},
     "output_type": "execute_result"
    }
   ],
   "source": [
    "# Create Frequency Table (Percentage) - Eating Vegetables\n",
    "eating_frequency_vegetables = get_cross_frequency(df_clean, 'VB01002', 'VB02004A', dict_color, dict_answers)\n",
    "eating_frequency_vegetables"
   ]
  },
  {
   "cell_type": "code",
   "execution_count": 21,
   "metadata": {},
   "outputs": [
    {
     "data": {
      "text/plain": [
       "0.9999999997250583"
      ]
     },
     "execution_count": 21,
     "metadata": {},
     "output_type": "execute_result"
    }
   ],
   "source": [
    "chi2, p, dof, expected = chi2_contingency(eating_frequency_vegetables)\n",
    "p"
   ]
  },
  {
   "cell_type": "markdown",
   "metadata": {},
   "source": [
    "On average, 26% of the students eat vegetables every day, while 17% never eat them. Here we can notice that this healthy eating marker is more widespread between the frequencies (columns).\n",
    "\n",
    "According to the chi-squared analysis, there is no difference between the eating-vegetable frequency and the students (p-value > 0.05)."
   ]
  },
  {
   "cell_type": "markdown",
   "metadata": {},
   "source": [
    "#### Fruits"
   ]
  },
  {
   "cell_type": "code",
   "execution_count": 22,
   "metadata": {},
   "outputs": [
    {
     "data": {
      "text/plain": [
       "{'Question': 'NOS ÚLTIMOS 7 DIAS, em quantos dias você comeu frutas frescas ou salada de frutas? ',\n",
       " 'Description': {'1': 'Não comi frutas frescas ou salada de frutas nos últimos 7 dias (0 dia)',\n",
       "  '2': '1 dia nos últimos 7 dias',\n",
       "  '3': '2 dias nos últimos 7 dias',\n",
       "  '4': '3 dias nos últimos 7 dias',\n",
       "  '5': '4 dias nos últimos 7 dias',\n",
       "  '6': '5 dias nos últimos 7 dias',\n",
       "  '7': '6 dias nos últimos 7 dias',\n",
       "  '8': 'Todos os dias nos últimos 7 dias',\n",
       "  99: 'Não informado'}}"
      ]
     },
     "execution_count": 22,
     "metadata": {},
     "output_type": "execute_result"
    }
   ],
   "source": [
    "question_fruits = get_question_description('VB02011')\n",
    "question_fruits"
   ]
  },
  {
   "cell_type": "code",
   "execution_count": 23,
   "metadata": {},
   "outputs": [
    {
     "data": {
      "text/html": [
       "<div>\n",
       "<style scoped>\n",
       "    .dataframe tbody tr th:only-of-type {\n",
       "        vertical-align: middle;\n",
       "    }\n",
       "\n",
       "    .dataframe tbody tr th {\n",
       "        vertical-align: top;\n",
       "    }\n",
       "\n",
       "    .dataframe thead th {\n",
       "        text-align: right;\n",
       "    }\n",
       "</style>\n",
       "<table border=\"1\" class=\"dataframe\">\n",
       "  <thead>\n",
       "    <tr style=\"text-align: right;\">\n",
       "      <th>VB02011</th>\n",
       "      <th>None</th>\n",
       "      <th>1 day</th>\n",
       "      <th>2 days</th>\n",
       "      <th>3 days</th>\n",
       "      <th>4 days</th>\n",
       "      <th>5 days</th>\n",
       "      <th>6 days</th>\n",
       "      <th>Everyday</th>\n",
       "    </tr>\n",
       "    <tr>\n",
       "      <th>VB01002</th>\n",
       "      <th></th>\n",
       "      <th></th>\n",
       "      <th></th>\n",
       "      <th></th>\n",
       "      <th></th>\n",
       "      <th></th>\n",
       "      <th></th>\n",
       "      <th></th>\n",
       "    </tr>\n",
       "  </thead>\n",
       "  <tbody>\n",
       "    <tr>\n",
       "      <th>White</th>\n",
       "      <td>18.50</td>\n",
       "      <td>12.79</td>\n",
       "      <td>12.89</td>\n",
       "      <td>11.79</td>\n",
       "      <td>9.64</td>\n",
       "      <td>8.04</td>\n",
       "      <td>5.66</td>\n",
       "      <td>20.69</td>\n",
       "    </tr>\n",
       "    <tr>\n",
       "      <th>Black</th>\n",
       "      <td>19.68</td>\n",
       "      <td>13.10</td>\n",
       "      <td>12.32</td>\n",
       "      <td>12.08</td>\n",
       "      <td>7.89</td>\n",
       "      <td>8.07</td>\n",
       "      <td>5.44</td>\n",
       "      <td>21.41</td>\n",
       "    </tr>\n",
       "    <tr>\n",
       "      <th>Yellow (Asian descendants)</th>\n",
       "      <td>20.13</td>\n",
       "      <td>13.84</td>\n",
       "      <td>11.79</td>\n",
       "      <td>11.48</td>\n",
       "      <td>8.81</td>\n",
       "      <td>7.70</td>\n",
       "      <td>5.19</td>\n",
       "      <td>21.07</td>\n",
       "    </tr>\n",
       "    <tr>\n",
       "      <th>Brown (Pardo)</th>\n",
       "      <td>19.94</td>\n",
       "      <td>12.83</td>\n",
       "      <td>13.56</td>\n",
       "      <td>12.28</td>\n",
       "      <td>8.86</td>\n",
       "      <td>7.54</td>\n",
       "      <td>5.59</td>\n",
       "      <td>19.40</td>\n",
       "    </tr>\n",
       "    <tr>\n",
       "      <th>Indian</th>\n",
       "      <td>20.16</td>\n",
       "      <td>9.68</td>\n",
       "      <td>14.03</td>\n",
       "      <td>8.89</td>\n",
       "      <td>8.50</td>\n",
       "      <td>8.89</td>\n",
       "      <td>8.50</td>\n",
       "      <td>21.34</td>\n",
       "    </tr>\n",
       "  </tbody>\n",
       "</table>\n",
       "</div>"
      ],
      "text/plain": [
       "VB02011                      None  1 day  2 days  3 days  4 days  5 days  \\\n",
       "VB01002                                                                    \n",
       "White                       18.50  12.79   12.89   11.79    9.64    8.04   \n",
       "Black                       19.68  13.10   12.32   12.08    7.89    8.07   \n",
       "Yellow (Asian descendants)  20.13  13.84   11.79   11.48    8.81    7.70   \n",
       "Brown (Pardo)               19.94  12.83   13.56   12.28    8.86    7.54   \n",
       "Indian                      20.16   9.68   14.03    8.89    8.50    8.89   \n",
       "\n",
       "VB02011                     6 days  Everyday  \n",
       "VB01002                                       \n",
       "White                         5.66     20.69  \n",
       "Black                         5.44     21.41  \n",
       "Yellow (Asian descendants)    5.19     21.07  \n",
       "Brown (Pardo)                 5.59     19.40  \n",
       "Indian                        8.50     21.34  "
      ]
     },
     "execution_count": 23,
     "metadata": {},
     "output_type": "execute_result"
    }
   ],
   "source": [
    "# Create Frequency Table (Percentage) - Eating Fruits\n",
    "eating_frequency_fruits = get_cross_frequency(df_clean, 'VB01002', 'VB02011', dict_color, dict_answers)\n",
    "eating_frequency_fruits"
   ]
  },
  {
   "cell_type": "code",
   "execution_count": 24,
   "metadata": {},
   "outputs": [
    {
     "data": {
      "text/plain": [
       "0.9999999935997617"
      ]
     },
     "execution_count": 24,
     "metadata": {},
     "output_type": "execute_result"
    }
   ],
   "source": [
    "chi2, p, dof, expected = chi2_contingency(eating_frequency_fruits)\n",
    "p"
   ]
  },
  {
   "cell_type": "markdown",
   "metadata": {},
   "source": [
    "Regarding the habit of eating fruit, the average percentage of students who eat fruit every day (20%) is almost equal to the percentage of students who never eat fruit (19%).\n",
    "\n",
    "As with the other healthy eating markers, no difference was found (p-value > 0.05) between students and fruit-eating habits, when compared by column."
   ]
  },
  {
   "cell_type": "markdown",
   "metadata": {},
   "source": [
    "### Not healthy eating markers"
   ]
  },
  {
   "cell_type": "markdown",
   "metadata": {},
   "source": [
    "#### Fried Food"
   ]
  },
  {
   "cell_type": "code",
   "execution_count": 25,
   "metadata": {},
   "outputs": [
    {
     "data": {
      "text/plain": [
       "{'Question': 'NOS ÚLTIMOS 7 DIAS, em quantos dias você comeu salgados fritos? Exemplo: batata frita (sem contar a batata de pacote) ou salgados fritos como coxinha de galinha, quibe frito, pastel frito, acarajé etc.',\n",
       " 'Description': {'1': 'Não comi salgados fritos nos últimos 7 dias (0 dia)',\n",
       "  '2': '1 dia nos últimos 7 dias',\n",
       "  '3': '2 dias nos últimos 7 dias',\n",
       "  '4': '3 dias nos últimos 7 dias',\n",
       "  '5': '4 dias nos últimos 7 dias',\n",
       "  '6': '5dias nos últimos 7 dias',\n",
       "  '7': '6 dias nos últimos 7 dias',\n",
       "  '8': 'Todos os dias nos últimos 7 dias',\n",
       "  99: 'Não informado'}}"
      ]
     },
     "execution_count": 25,
     "metadata": {},
     "output_type": "execute_result"
    }
   ],
   "source": [
    "question_fried_food = get_question_description('VB02002')\n",
    "question_fried_food"
   ]
  },
  {
   "cell_type": "code",
   "execution_count": 26,
   "metadata": {},
   "outputs": [
    {
     "data": {
      "text/html": [
       "<div>\n",
       "<style scoped>\n",
       "    .dataframe tbody tr th:only-of-type {\n",
       "        vertical-align: middle;\n",
       "    }\n",
       "\n",
       "    .dataframe tbody tr th {\n",
       "        vertical-align: top;\n",
       "    }\n",
       "\n",
       "    .dataframe thead th {\n",
       "        text-align: right;\n",
       "    }\n",
       "</style>\n",
       "<table border=\"1\" class=\"dataframe\">\n",
       "  <thead>\n",
       "    <tr style=\"text-align: right;\">\n",
       "      <th>VB02002</th>\n",
       "      <th>None</th>\n",
       "      <th>1 day</th>\n",
       "      <th>2 days</th>\n",
       "      <th>3 days</th>\n",
       "      <th>4 days</th>\n",
       "      <th>5 days</th>\n",
       "      <th>6 days</th>\n",
       "      <th>Everyday</th>\n",
       "    </tr>\n",
       "    <tr>\n",
       "      <th>VB01002</th>\n",
       "      <th></th>\n",
       "      <th></th>\n",
       "      <th></th>\n",
       "      <th></th>\n",
       "      <th></th>\n",
       "      <th></th>\n",
       "      <th></th>\n",
       "      <th></th>\n",
       "    </tr>\n",
       "  </thead>\n",
       "  <tbody>\n",
       "    <tr>\n",
       "      <th>White</th>\n",
       "      <td>30.49</td>\n",
       "      <td>22.30</td>\n",
       "      <td>17.04</td>\n",
       "      <td>12.02</td>\n",
       "      <td>6.21</td>\n",
       "      <td>4.03</td>\n",
       "      <td>2.01</td>\n",
       "      <td>5.89</td>\n",
       "    </tr>\n",
       "    <tr>\n",
       "      <th>Black</th>\n",
       "      <td>32.72</td>\n",
       "      <td>20.39</td>\n",
       "      <td>14.59</td>\n",
       "      <td>11.12</td>\n",
       "      <td>6.16</td>\n",
       "      <td>4.01</td>\n",
       "      <td>2.33</td>\n",
       "      <td>8.67</td>\n",
       "    </tr>\n",
       "    <tr>\n",
       "      <th>Yellow (Asian descendants)</th>\n",
       "      <td>33.02</td>\n",
       "      <td>18.55</td>\n",
       "      <td>16.51</td>\n",
       "      <td>11.48</td>\n",
       "      <td>7.23</td>\n",
       "      <td>3.14</td>\n",
       "      <td>2.20</td>\n",
       "      <td>7.86</td>\n",
       "    </tr>\n",
       "    <tr>\n",
       "      <th>Brown (Pardo)</th>\n",
       "      <td>33.89</td>\n",
       "      <td>20.81</td>\n",
       "      <td>16.04</td>\n",
       "      <td>10.25</td>\n",
       "      <td>6.21</td>\n",
       "      <td>4.16</td>\n",
       "      <td>2.11</td>\n",
       "      <td>6.54</td>\n",
       "    </tr>\n",
       "    <tr>\n",
       "      <th>Indian</th>\n",
       "      <td>33.20</td>\n",
       "      <td>22.73</td>\n",
       "      <td>14.82</td>\n",
       "      <td>8.89</td>\n",
       "      <td>5.93</td>\n",
       "      <td>4.74</td>\n",
       "      <td>2.37</td>\n",
       "      <td>7.31</td>\n",
       "    </tr>\n",
       "  </tbody>\n",
       "</table>\n",
       "</div>"
      ],
      "text/plain": [
       "VB02002                      None  1 day  2 days  3 days  4 days  5 days  \\\n",
       "VB01002                                                                    \n",
       "White                       30.49  22.30   17.04   12.02    6.21    4.03   \n",
       "Black                       32.72  20.39   14.59   11.12    6.16    4.01   \n",
       "Yellow (Asian descendants)  33.02  18.55   16.51   11.48    7.23    3.14   \n",
       "Brown (Pardo)               33.89  20.81   16.04   10.25    6.21    4.16   \n",
       "Indian                      33.20  22.73   14.82    8.89    5.93    4.74   \n",
       "\n",
       "VB02002                     6 days  Everyday  \n",
       "VB01002                                       \n",
       "White                         2.01      5.89  \n",
       "Black                         2.33      8.67  \n",
       "Yellow (Asian descendants)    2.20      7.86  \n",
       "Brown (Pardo)                 2.11      6.54  \n",
       "Indian                        2.37      7.31  "
      ]
     },
     "execution_count": 26,
     "metadata": {},
     "output_type": "execute_result"
    }
   ],
   "source": [
    "# Create Frequency Table (Percentage) - Eating Fried Food\n",
    "eating_frequency_fried_food = get_cross_frequency(df_clean, 'VB01002', 'VB02002', dict_color, dict_answers)\n",
    "eating_frequency_fried_food"
   ]
  },
  {
   "cell_type": "code",
   "execution_count": 27,
   "metadata": {},
   "outputs": [
    {
     "data": {
      "text/plain": [
       "0.999999999712004"
      ]
     },
     "execution_count": 27,
     "metadata": {},
     "output_type": "execute_result"
    }
   ],
   "source": [
    "chi2, p, dof, expected = chi2_contingency(eating_frequency_fried_food)\n",
    "p"
   ]
  },
  {
   "cell_type": "markdown",
   "metadata": {},
   "source": [
    "More than 32% of the students answered not have eaten any type of fried food in the past 7 days.\n",
    "\n",
    "Also, no difference (p-value > 0.05) was found between the students and the eating fried food frequency."
   ]
  },
  {
   "cell_type": "markdown",
   "metadata": {},
   "source": [
    "#### Candies"
   ]
  },
  {
   "cell_type": "code",
   "execution_count": 28,
   "metadata": {},
   "outputs": [
    {
     "data": {
      "text/plain": [
       "{'Question': 'NOS ÚLTIMOS 7 DIAS, em quantos dias você comeu guloseimas (doces, balas, chocolates, chicletes, bombons ou pirulitos)?',\n",
       " 'Description': {'1': 'Não comi guloseimas nos últimos 7 dias (0 dia)',\n",
       "  '2': '1dia nos últimos 7 dias',\n",
       "  '3': '2 dias nos últimos 7 dias',\n",
       "  '4': '3 dias nos últimos 7 dias',\n",
       "  '5': '4 dias nos últimos 7 dias',\n",
       "  '6': '5 dias nos últimos 7 dias',\n",
       "  '7': '6 dias nos últimos 7 dias',\n",
       "  '8': 'Todos os dias nos últimos 7 dias',\n",
       "  99: 'Não informado'}}"
      ]
     },
     "execution_count": 28,
     "metadata": {},
     "output_type": "execute_result"
    }
   ],
   "source": [
    "question_candies = get_question_description('VB02010')\n",
    "question_candies"
   ]
  },
  {
   "cell_type": "code",
   "execution_count": 29,
   "metadata": {},
   "outputs": [
    {
     "data": {
      "text/html": [
       "<div>\n",
       "<style scoped>\n",
       "    .dataframe tbody tr th:only-of-type {\n",
       "        vertical-align: middle;\n",
       "    }\n",
       "\n",
       "    .dataframe tbody tr th {\n",
       "        vertical-align: top;\n",
       "    }\n",
       "\n",
       "    .dataframe thead th {\n",
       "        text-align: right;\n",
       "    }\n",
       "</style>\n",
       "<table border=\"1\" class=\"dataframe\">\n",
       "  <thead>\n",
       "    <tr style=\"text-align: right;\">\n",
       "      <th>VB02010</th>\n",
       "      <th>None</th>\n",
       "      <th>1 day</th>\n",
       "      <th>2 days</th>\n",
       "      <th>3 days</th>\n",
       "      <th>4 days</th>\n",
       "      <th>5 days</th>\n",
       "      <th>6 days</th>\n",
       "      <th>Everyday</th>\n",
       "    </tr>\n",
       "    <tr>\n",
       "      <th>VB01002</th>\n",
       "      <th></th>\n",
       "      <th></th>\n",
       "      <th></th>\n",
       "      <th></th>\n",
       "      <th></th>\n",
       "      <th></th>\n",
       "      <th></th>\n",
       "      <th></th>\n",
       "    </tr>\n",
       "  </thead>\n",
       "  <tbody>\n",
       "    <tr>\n",
       "      <th>White</th>\n",
       "      <td>10.81</td>\n",
       "      <td>14.42</td>\n",
       "      <td>14.34</td>\n",
       "      <td>14.00</td>\n",
       "      <td>10.63</td>\n",
       "      <td>8.04</td>\n",
       "      <td>5.89</td>\n",
       "      <td>21.86</td>\n",
       "    </tr>\n",
       "    <tr>\n",
       "      <th>Black</th>\n",
       "      <td>13.22</td>\n",
       "      <td>14.06</td>\n",
       "      <td>13.70</td>\n",
       "      <td>10.89</td>\n",
       "      <td>8.01</td>\n",
       "      <td>7.30</td>\n",
       "      <td>6.34</td>\n",
       "      <td>26.50</td>\n",
       "    </tr>\n",
       "    <tr>\n",
       "      <th>Yellow (Asian descendants)</th>\n",
       "      <td>12.58</td>\n",
       "      <td>13.36</td>\n",
       "      <td>10.22</td>\n",
       "      <td>12.11</td>\n",
       "      <td>9.43</td>\n",
       "      <td>9.12</td>\n",
       "      <td>6.92</td>\n",
       "      <td>26.26</td>\n",
       "    </tr>\n",
       "    <tr>\n",
       "      <th>Brown (Pardo)</th>\n",
       "      <td>12.04</td>\n",
       "      <td>14.40</td>\n",
       "      <td>14.37</td>\n",
       "      <td>12.71</td>\n",
       "      <td>9.95</td>\n",
       "      <td>7.78</td>\n",
       "      <td>5.92</td>\n",
       "      <td>22.83</td>\n",
       "    </tr>\n",
       "    <tr>\n",
       "      <th>Indian</th>\n",
       "      <td>14.62</td>\n",
       "      <td>15.02</td>\n",
       "      <td>12.85</td>\n",
       "      <td>13.44</td>\n",
       "      <td>7.91</td>\n",
       "      <td>9.29</td>\n",
       "      <td>4.94</td>\n",
       "      <td>21.94</td>\n",
       "    </tr>\n",
       "  </tbody>\n",
       "</table>\n",
       "</div>"
      ],
      "text/plain": [
       "VB02010                      None  1 day  2 days  3 days  4 days  5 days  \\\n",
       "VB01002                                                                    \n",
       "White                       10.81  14.42   14.34   14.00   10.63    8.04   \n",
       "Black                       13.22  14.06   13.70   10.89    8.01    7.30   \n",
       "Yellow (Asian descendants)  12.58  13.36   10.22   12.11    9.43    9.12   \n",
       "Brown (Pardo)               12.04  14.40   14.37   12.71    9.95    7.78   \n",
       "Indian                      14.62  15.02   12.85   13.44    7.91    9.29   \n",
       "\n",
       "VB02010                     6 days  Everyday  \n",
       "VB01002                                       \n",
       "White                         5.89     21.86  \n",
       "Black                         6.34     26.50  \n",
       "Yellow (Asian descendants)    6.92     26.26  \n",
       "Brown (Pardo)                 5.92     22.83  \n",
       "Indian                        4.94     21.94  "
      ]
     },
     "execution_count": 29,
     "metadata": {},
     "output_type": "execute_result"
    }
   ],
   "source": [
    "# Create Frequency Table (Percentage) - Eating Candies\n",
    "eating_frequency_candies = get_cross_frequency(df_clean, 'VB01002', 'VB02010', dict_color, dict_answers)\n",
    "eating_frequency_candies"
   ]
  },
  {
   "cell_type": "code",
   "execution_count": 30,
   "metadata": {},
   "outputs": [
    {
     "data": {
      "text/plain": [
       "0.9999999223581549"
      ]
     },
     "execution_count": 30,
     "metadata": {},
     "output_type": "execute_result"
    }
   ],
   "source": [
    "chi2, p, dof, expected = chi2_contingency(eating_frequency_candies)\n",
    "p"
   ]
  },
  {
   "cell_type": "markdown",
   "metadata": {},
   "source": [
    "Almost 24% of the students answered that have eaten candy every day.\n",
    "\n",
    "Regarding the chi-squared analysis, no difference (p-value > 0.05) was found between the students and the frequency eating candy habit."
   ]
  },
  {
   "cell_type": "markdown",
   "metadata": {},
   "source": [
    "#### Drinking Soda"
   ]
  },
  {
   "cell_type": "code",
   "execution_count": 31,
   "metadata": {},
   "outputs": [
    {
     "data": {
      "text/plain": [
       "{'Question': 'NOS ÚLTIMOS 7 DIAS, em quantos dias você tomou refrigerante?',\n",
       " 'Description': {'1': 'Não tomei refrigerante nos últimos 7 dias (0 dia)',\n",
       "  '2': '1 dia nos últimos 7 dias',\n",
       "  '3': '2 dias nos últimos 7 dias',\n",
       "  '4': '3 dias nos últimos 7 dias',\n",
       "  '5': '4 dias nos últimos 7 dias',\n",
       "  '6': '5 dias nos últimos 7 dias',\n",
       "  '7': '6 dias nos últimos 7 dias',\n",
       "  '8': 'Todos os dias nos últimos 7 dias',\n",
       "  99: 'Não informado'}}"
      ]
     },
     "execution_count": 31,
     "metadata": {},
     "output_type": "execute_result"
    }
   ],
   "source": [
    "question_soda = get_question_description('VB02013')\n",
    "question_soda"
   ]
  },
  {
   "cell_type": "code",
   "execution_count": 32,
   "metadata": {},
   "outputs": [
    {
     "data": {
      "text/html": [
       "<div>\n",
       "<style scoped>\n",
       "    .dataframe tbody tr th:only-of-type {\n",
       "        vertical-align: middle;\n",
       "    }\n",
       "\n",
       "    .dataframe tbody tr th {\n",
       "        vertical-align: top;\n",
       "    }\n",
       "\n",
       "    .dataframe thead th {\n",
       "        text-align: right;\n",
       "    }\n",
       "</style>\n",
       "<table border=\"1\" class=\"dataframe\">\n",
       "  <thead>\n",
       "    <tr style=\"text-align: right;\">\n",
       "      <th>VB02013</th>\n",
       "      <th>None</th>\n",
       "      <th>1 day</th>\n",
       "      <th>2 days</th>\n",
       "      <th>3 days</th>\n",
       "      <th>4 days</th>\n",
       "      <th>5 days</th>\n",
       "      <th>6 days</th>\n",
       "      <th>Everyday</th>\n",
       "    </tr>\n",
       "    <tr>\n",
       "      <th>VB01002</th>\n",
       "      <th></th>\n",
       "      <th></th>\n",
       "      <th></th>\n",
       "      <th></th>\n",
       "      <th></th>\n",
       "      <th></th>\n",
       "      <th></th>\n",
       "      <th></th>\n",
       "    </tr>\n",
       "  </thead>\n",
       "  <tbody>\n",
       "    <tr>\n",
       "      <th>White</th>\n",
       "      <td>20.05</td>\n",
       "      <td>16.96</td>\n",
       "      <td>16.47</td>\n",
       "      <td>12.06</td>\n",
       "      <td>8.43</td>\n",
       "      <td>6.98</td>\n",
       "      <td>4.75</td>\n",
       "      <td>14.30</td>\n",
       "    </tr>\n",
       "    <tr>\n",
       "      <th>Black</th>\n",
       "      <td>18.42</td>\n",
       "      <td>16.87</td>\n",
       "      <td>15.61</td>\n",
       "      <td>13.10</td>\n",
       "      <td>8.61</td>\n",
       "      <td>7.18</td>\n",
       "      <td>4.96</td>\n",
       "      <td>15.25</td>\n",
       "    </tr>\n",
       "    <tr>\n",
       "      <th>Yellow (Asian descendants)</th>\n",
       "      <td>18.87</td>\n",
       "      <td>17.61</td>\n",
       "      <td>16.04</td>\n",
       "      <td>11.01</td>\n",
       "      <td>10.38</td>\n",
       "      <td>8.02</td>\n",
       "      <td>4.72</td>\n",
       "      <td>13.36</td>\n",
       "    </tr>\n",
       "    <tr>\n",
       "      <th>Brown (Pardo)</th>\n",
       "      <td>19.33</td>\n",
       "      <td>17.01</td>\n",
       "      <td>17.16</td>\n",
       "      <td>13.87</td>\n",
       "      <td>8.65</td>\n",
       "      <td>6.52</td>\n",
       "      <td>4.62</td>\n",
       "      <td>12.84</td>\n",
       "    </tr>\n",
       "    <tr>\n",
       "      <th>Indian</th>\n",
       "      <td>19.57</td>\n",
       "      <td>20.16</td>\n",
       "      <td>18.38</td>\n",
       "      <td>11.86</td>\n",
       "      <td>7.91</td>\n",
       "      <td>5.34</td>\n",
       "      <td>2.77</td>\n",
       "      <td>14.03</td>\n",
       "    </tr>\n",
       "  </tbody>\n",
       "</table>\n",
       "</div>"
      ],
      "text/plain": [
       "VB02013                      None  1 day  2 days  3 days  4 days  5 days  \\\n",
       "VB01002                                                                    \n",
       "White                       20.05  16.96   16.47   12.06    8.43    6.98   \n",
       "Black                       18.42  16.87   15.61   13.10    8.61    7.18   \n",
       "Yellow (Asian descendants)  18.87  17.61   16.04   11.01   10.38    8.02   \n",
       "Brown (Pardo)               19.33  17.01   17.16   13.87    8.65    6.52   \n",
       "Indian                      19.57  20.16   18.38   11.86    7.91    5.34   \n",
       "\n",
       "VB02013                     6 days  Everyday  \n",
       "VB01002                                       \n",
       "White                         4.75     14.30  \n",
       "Black                         4.96     15.25  \n",
       "Yellow (Asian descendants)    4.72     13.36  \n",
       "Brown (Pardo)                 4.62     12.84  \n",
       "Indian                        2.77     14.03  "
      ]
     },
     "execution_count": 32,
     "metadata": {},
     "output_type": "execute_result"
    }
   ],
   "source": [
    "# Create Frequency Table (Percentage) - Drinking Soda\n",
    "eating_frequency_soda = get_cross_frequency(df_clean, 'VB01002', 'VB02013', dict_color, dict_answers)\n",
    "eating_frequency_soda"
   ]
  },
  {
   "cell_type": "code",
   "execution_count": 33,
   "metadata": {},
   "outputs": [
    {
     "data": {
      "text/plain": [
       "0.9999999984357615"
      ]
     },
     "execution_count": 33,
     "metadata": {},
     "output_type": "execute_result"
    }
   ],
   "source": [
    "chi2, p, dof, expected = chi2_contingency(eating_frequency_soda)\n",
    "p"
   ]
  },
  {
   "cell_type": "markdown",
   "metadata": {},
   "source": [
    "Most part of the students don't drink soda every day.\n",
    "\n",
    "Also, no difference (p-value > 0.05) was found between students and frequency of drinking soda."
   ]
  },
  {
   "cell_type": "markdown",
   "metadata": {},
   "source": [
    "#### Industrialized Food"
   ]
  },
  {
   "cell_type": "code",
   "execution_count": 34,
   "metadata": {},
   "outputs": [
    {
     "data": {
      "text/plain": [
       "{'Question': 'NOS ÚLTIMOS 7 DIAS, em quantos dias você comeu alimentos industrializados/ultraprocessados salgados, como hambúrguer, presunto, mortadela, salame, linguiça, salsicha, macarrão instantâneo, salgadinho de pacote, biscoitos salgados?',\n",
       " 'Description': {'1': 'Não comi alimentos industrializados/ultraprocessados salgados nos últimos 7 dias (0 dia)',\n",
       "  '2': '1 dia nos últimos 7 dias',\n",
       "  '3': '2 dias nos últimos 7 dias',\n",
       "  '4': '3 dias nos últimos 7 dias',\n",
       "  '5': '4 dias nos últimos 7 dias',\n",
       "  '6': '5 dias nos últimos 7 dias',\n",
       "  '7': '6 dias nos últimos 7 dias',\n",
       "  '8': 'Todos os dias nos últimos 7 dias',\n",
       "  99: 'Não informado'}}"
      ]
     },
     "execution_count": 34,
     "metadata": {},
     "output_type": "execute_result"
    }
   ],
   "source": [
    "question_industrialized_food = get_question_description('VB02022')\n",
    "question_industrialized_food"
   ]
  },
  {
   "cell_type": "code",
   "execution_count": 35,
   "metadata": {},
   "outputs": [
    {
     "data": {
      "text/html": [
       "<div>\n",
       "<style scoped>\n",
       "    .dataframe tbody tr th:only-of-type {\n",
       "        vertical-align: middle;\n",
       "    }\n",
       "\n",
       "    .dataframe tbody tr th {\n",
       "        vertical-align: top;\n",
       "    }\n",
       "\n",
       "    .dataframe thead th {\n",
       "        text-align: right;\n",
       "    }\n",
       "</style>\n",
       "<table border=\"1\" class=\"dataframe\">\n",
       "  <thead>\n",
       "    <tr style=\"text-align: right;\">\n",
       "      <th>VB02022</th>\n",
       "      <th>None</th>\n",
       "      <th>1 day</th>\n",
       "      <th>2 days</th>\n",
       "      <th>3 days</th>\n",
       "      <th>4 days</th>\n",
       "      <th>5 days</th>\n",
       "      <th>6 days</th>\n",
       "      <th>Everyday</th>\n",
       "    </tr>\n",
       "    <tr>\n",
       "      <th>VB01002</th>\n",
       "      <th></th>\n",
       "      <th></th>\n",
       "      <th></th>\n",
       "      <th></th>\n",
       "      <th></th>\n",
       "      <th></th>\n",
       "      <th></th>\n",
       "      <th></th>\n",
       "    </tr>\n",
       "  </thead>\n",
       "  <tbody>\n",
       "    <tr>\n",
       "      <th>White</th>\n",
       "      <td>14.04</td>\n",
       "      <td>14.37</td>\n",
       "      <td>15.19</td>\n",
       "      <td>14.00</td>\n",
       "      <td>10.73</td>\n",
       "      <td>8.73</td>\n",
       "      <td>6.09</td>\n",
       "      <td>16.84</td>\n",
       "    </tr>\n",
       "    <tr>\n",
       "      <th>Black</th>\n",
       "      <td>18.18</td>\n",
       "      <td>16.69</td>\n",
       "      <td>13.28</td>\n",
       "      <td>12.86</td>\n",
       "      <td>9.69</td>\n",
       "      <td>6.82</td>\n",
       "      <td>5.02</td>\n",
       "      <td>17.46</td>\n",
       "    </tr>\n",
       "    <tr>\n",
       "      <th>Yellow (Asian descendants)</th>\n",
       "      <td>15.88</td>\n",
       "      <td>14.31</td>\n",
       "      <td>13.52</td>\n",
       "      <td>13.68</td>\n",
       "      <td>10.22</td>\n",
       "      <td>8.49</td>\n",
       "      <td>5.35</td>\n",
       "      <td>18.55</td>\n",
       "    </tr>\n",
       "    <tr>\n",
       "      <th>Brown (Pardo)</th>\n",
       "      <td>16.79</td>\n",
       "      <td>16.34</td>\n",
       "      <td>14.32</td>\n",
       "      <td>13.30</td>\n",
       "      <td>9.53</td>\n",
       "      <td>8.48</td>\n",
       "      <td>5.44</td>\n",
       "      <td>15.81</td>\n",
       "    </tr>\n",
       "    <tr>\n",
       "      <th>Indian</th>\n",
       "      <td>19.76</td>\n",
       "      <td>15.02</td>\n",
       "      <td>12.06</td>\n",
       "      <td>14.82</td>\n",
       "      <td>8.30</td>\n",
       "      <td>6.32</td>\n",
       "      <td>6.72</td>\n",
       "      <td>17.00</td>\n",
       "    </tr>\n",
       "  </tbody>\n",
       "</table>\n",
       "</div>"
      ],
      "text/plain": [
       "VB02022                      None  1 day  2 days  3 days  4 days  5 days  \\\n",
       "VB01002                                                                    \n",
       "White                       14.04  14.37   15.19   14.00   10.73    8.73   \n",
       "Black                       18.18  16.69   13.28   12.86    9.69    6.82   \n",
       "Yellow (Asian descendants)  15.88  14.31   13.52   13.68   10.22    8.49   \n",
       "Brown (Pardo)               16.79  16.34   14.32   13.30    9.53    8.48   \n",
       "Indian                      19.76  15.02   12.06   14.82    8.30    6.32   \n",
       "\n",
       "VB02022                     6 days  Everyday  \n",
       "VB01002                                       \n",
       "White                         6.09     16.84  \n",
       "Black                         5.02     17.46  \n",
       "Yellow (Asian descendants)    5.35     18.55  \n",
       "Brown (Pardo)                 5.44     15.81  \n",
       "Indian                        6.72     17.00  "
      ]
     },
     "execution_count": 35,
     "metadata": {},
     "output_type": "execute_result"
    }
   ],
   "source": [
    "# Create Frequency Table (Percentage) - Eating Industrialized Food (ham, sausage, chips, etc.)\n",
    "eating_frequency_indust_food = get_cross_frequency(df_clean, 'VB01002', 'VB02022', dict_color, dict_answers)\n",
    "eating_frequency_indust_food"
   ]
  },
  {
   "cell_type": "code",
   "execution_count": 36,
   "metadata": {},
   "outputs": [
    {
     "data": {
      "text/plain": [
       "0.9999999934008167"
      ]
     },
     "execution_count": 36,
     "metadata": {},
     "output_type": "execute_result"
    }
   ],
   "source": [
    "chi2, p, dof, expected = chi2_contingency(eating_frequency_indust_food)\n",
    "p"
   ]
  },
  {
   "cell_type": "markdown",
   "metadata": {},
   "source": [
    "On average, pretty much the same percentage of students have eaten industrialized food every day (17.1%) or in no day (16.9%) in the past 7 days.\n",
    "\n",
    "No difference (p-value > 0.05) was found between students and the frequency of eating industrialized food."
   ]
  },
  {
   "cell_type": "markdown",
   "metadata": {},
   "source": [
    "#### Fast Food"
   ]
  },
  {
   "cell_type": "code",
   "execution_count": 37,
   "metadata": {},
   "outputs": [
    {
     "data": {
      "text/plain": [
       "{'Question': 'NOS ÚLTIMOS 7 DIAS, em quantos dias você comeu em restaurantes fast food, tais como lanchonetes, barracas de cachorro quentes, pizzaria etc?',\n",
       " 'Description': {'1': 'Não comi em restaurantes fast food nos últimos 7 dias (0 dia)',\n",
       "  '2': '1 dia nos últimos 7 dias',\n",
       "  '3': '2 dias nos últimos 7 dias',\n",
       "  '4': '3 dias nos últimos 7 dias',\n",
       "  '5': '4 dias nos últimos 7 dias',\n",
       "  '6': '5 dias nos últimos 7 dias',\n",
       "  '7': '6 dias nos últimos 7 dias',\n",
       "  '8': 'Todos os dias nos últimos 7 dias',\n",
       "  99: 'Não informado'}}"
      ]
     },
     "execution_count": 37,
     "metadata": {},
     "output_type": "execute_result"
    }
   ],
   "source": [
    "question_fast_food = get_question_description('VB02023')\n",
    "question_fast_food"
   ]
  },
  {
   "cell_type": "code",
   "execution_count": 38,
   "metadata": {},
   "outputs": [
    {
     "data": {
      "text/html": [
       "<div>\n",
       "<style scoped>\n",
       "    .dataframe tbody tr th:only-of-type {\n",
       "        vertical-align: middle;\n",
       "    }\n",
       "\n",
       "    .dataframe tbody tr th {\n",
       "        vertical-align: top;\n",
       "    }\n",
       "\n",
       "    .dataframe thead th {\n",
       "        text-align: right;\n",
       "    }\n",
       "</style>\n",
       "<table border=\"1\" class=\"dataframe\">\n",
       "  <thead>\n",
       "    <tr style=\"text-align: right;\">\n",
       "      <th>VB02023</th>\n",
       "      <th>None</th>\n",
       "      <th>1 day</th>\n",
       "      <th>2 days</th>\n",
       "      <th>3 days</th>\n",
       "      <th>4 days</th>\n",
       "      <th>5 days</th>\n",
       "      <th>6 days</th>\n",
       "      <th>Everyday</th>\n",
       "    </tr>\n",
       "    <tr>\n",
       "      <th>VB01002</th>\n",
       "      <th></th>\n",
       "      <th></th>\n",
       "      <th></th>\n",
       "      <th></th>\n",
       "      <th></th>\n",
       "      <th></th>\n",
       "      <th></th>\n",
       "      <th></th>\n",
       "    </tr>\n",
       "  </thead>\n",
       "  <tbody>\n",
       "    <tr>\n",
       "      <th>White</th>\n",
       "      <td>50.64</td>\n",
       "      <td>21.91</td>\n",
       "      <td>11.25</td>\n",
       "      <td>6.67</td>\n",
       "      <td>3.44</td>\n",
       "      <td>2.42</td>\n",
       "      <td>1.31</td>\n",
       "      <td>2.37</td>\n",
       "    </tr>\n",
       "    <tr>\n",
       "      <th>Black</th>\n",
       "      <td>55.92</td>\n",
       "      <td>18.66</td>\n",
       "      <td>11.30</td>\n",
       "      <td>5.50</td>\n",
       "      <td>2.93</td>\n",
       "      <td>1.73</td>\n",
       "      <td>1.44</td>\n",
       "      <td>2.51</td>\n",
       "    </tr>\n",
       "    <tr>\n",
       "      <th>Yellow (Asian descendants)</th>\n",
       "      <td>50.94</td>\n",
       "      <td>21.70</td>\n",
       "      <td>11.79</td>\n",
       "      <td>7.08</td>\n",
       "      <td>2.67</td>\n",
       "      <td>2.36</td>\n",
       "      <td>0.94</td>\n",
       "      <td>2.52</td>\n",
       "    </tr>\n",
       "    <tr>\n",
       "      <th>Brown (Pardo)</th>\n",
       "      <td>54.44</td>\n",
       "      <td>20.15</td>\n",
       "      <td>11.16</td>\n",
       "      <td>5.42</td>\n",
       "      <td>3.23</td>\n",
       "      <td>1.97</td>\n",
       "      <td>1.35</td>\n",
       "      <td>2.27</td>\n",
       "    </tr>\n",
       "    <tr>\n",
       "      <th>Indian</th>\n",
       "      <td>53.95</td>\n",
       "      <td>21.34</td>\n",
       "      <td>10.08</td>\n",
       "      <td>6.13</td>\n",
       "      <td>3.56</td>\n",
       "      <td>1.19</td>\n",
       "      <td>2.17</td>\n",
       "      <td>1.58</td>\n",
       "    </tr>\n",
       "  </tbody>\n",
       "</table>\n",
       "</div>"
      ],
      "text/plain": [
       "VB02023                      None  1 day  2 days  3 days  4 days  5 days  \\\n",
       "VB01002                                                                    \n",
       "White                       50.64  21.91   11.25    6.67    3.44    2.42   \n",
       "Black                       55.92  18.66   11.30    5.50    2.93    1.73   \n",
       "Yellow (Asian descendants)  50.94  21.70   11.79    7.08    2.67    2.36   \n",
       "Brown (Pardo)               54.44  20.15   11.16    5.42    3.23    1.97   \n",
       "Indian                      53.95  21.34   10.08    6.13    3.56    1.19   \n",
       "\n",
       "VB02023                     6 days  Everyday  \n",
       "VB01002                                       \n",
       "White                         1.31      2.37  \n",
       "Black                         1.44      2.51  \n",
       "Yellow (Asian descendants)    0.94      2.52  \n",
       "Brown (Pardo)                 1.35      2.27  \n",
       "Indian                        2.17      1.58  "
      ]
     },
     "execution_count": 38,
     "metadata": {},
     "output_type": "execute_result"
    }
   ],
   "source": [
    "# Create Frequency Table (Percentage) - Eating Fast Food\n",
    "eating_frequency_fast_food = get_cross_frequency(df_clean, 'VB01002', 'VB02023', dict_color, dict_answers)\n",
    "eating_frequency_fast_food"
   ]
  },
  {
   "cell_type": "code",
   "execution_count": 39,
   "metadata": {},
   "outputs": [
    {
     "data": {
      "text/plain": [
       "0.9999999997181759"
      ]
     },
     "execution_count": 39,
     "metadata": {},
     "output_type": "execute_result"
    }
   ],
   "source": [
    "chi2, p, dof, expected = chi2_contingency(eating_frequency_fast_food)\n",
    "p"
   ]
  },
  {
   "cell_type": "markdown",
   "metadata": {},
   "source": [
    "The fast food had the most different eating pattern, as 53% of the students have not eaten and only 2% have eaten every day, in the past 7 days of the survey. \n",
    "    \n",
    "No difference (p-value > 0.05) between students and the frequency of eating fast food."
   ]
  },
  {
   "cell_type": "markdown",
   "metadata": {},
   "source": [
    "# Conclusions"
   ]
  },
  {
   "cell_type": "markdown",
   "metadata": {},
   "source": [
    "Within this general analysis, we can observe that the distribution of each eating marker was similar for all students. No difference was found when comparing the students' color and eating habits.\n",
    " \n",
    "Regarding their eating habits, despite most parts of the students don't eat the not healthy-eating markers every day, they also don't eat vegetables and fruits every day. So, I believe that can be improved, at least at the school, offering more healthy options of food and different preparation for them, increasing the acceptability."
   ]
  },
  {
   "cell_type": "code",
   "execution_count": null,
   "metadata": {},
   "outputs": [],
   "source": []
  }
 ],
 "metadata": {
  "kernelspec": {
   "display_name": "Python 3",
   "language": "python",
   "name": "python3"
  },
  "language_info": {
   "codemirror_mode": {
    "name": "ipython",
    "version": 3
   },
   "file_extension": ".py",
   "mimetype": "text/x-python",
   "name": "python",
   "nbconvert_exporter": "python",
   "pygments_lexer": "ipython3",
   "version": "3.8.5"
  }
 },
 "nbformat": 4,
 "nbformat_minor": 4
}

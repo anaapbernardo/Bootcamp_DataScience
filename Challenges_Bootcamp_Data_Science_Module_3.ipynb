{
  "nbformat": 4,
  "nbformat_minor": 0,
  "metadata": {
    "colab": {
      "name": "Challenges Bootcamp Data Science - Module 3.ipynb",
      "provenance": [],
      "collapsed_sections": [],
      "mount_file_id": "1i9xWLUGvI0cMUpQ7BPMjeXLBNJvp4Eta",
      "authorship_tag": "ABX9TyML+vLv1lxzHnyn1lp2ljSk",
      "include_colab_link": true
    },
    "kernelspec": {
      "display_name": "Python 3",
      "name": "python3"
    }
  },
  "cells": [
    {
      "cell_type": "markdown",
      "metadata": {
        "id": "view-in-github",
        "colab_type": "text"
      },
      "source": [
        "<a href=\"https://colab.research.google.com/github/anaapbernardo/Bootcamp_DataScience/blob/main/Challenges_Bootcamp_Data_Science_Module_3.ipynb\" target=\"_parent\"><img src=\"https://colab.research.google.com/assets/colab-badge.svg\" alt=\"Open In Colab\"/></a>"
      ]
    },
    {
      "cell_type": "markdown",
      "metadata": {
        "id": "KPhEH2QhrMg6"
      },
      "source": [
        "Analysis of dataset PeNSE 2015 - sample 2 (IBGE)\n",
        "\n",
        "Source: https://www.ibge.gov.br/estatisticas/downloads-estatisticas.html?caminho=pense/2015/microdados/"
      ]
    },
    {
      "cell_type": "code",
      "metadata": {
        "id": "kpNN2YOFmzrI"
      },
      "source": [
        "import pandas as pd\n",
        "import numpy as np\n",
        "import statistics\n",
        "\n",
        "import matplotlib.pyplot as plt\n",
        "import seaborn as sns\n",
        "\n",
        "from zipfile import ZipFile"
      ],
      "execution_count": null,
      "outputs": []
    },
    {
      "cell_type": "code",
      "metadata": {
        "id": "qo7atAa_ki95"
      },
      "source": [
        "pd.options.display.float_format = '{:.2f}'.format"
      ],
      "execution_count": null,
      "outputs": []
    },
    {
      "cell_type": "markdown",
      "metadata": {
        "id": "D7Sw_MCj4rwP"
      },
      "source": [
        "# 1.   Education, health, and data type\n",
        "\n"
      ]
    },
    {
      "cell_type": "markdown",
      "metadata": {
        "id": "18cY9TML2SXq"
      },
      "source": [
        "## Reading zip folder"
      ]
    },
    {
      "cell_type": "code",
      "metadata": {
        "id": "mnMCOni7u2cF"
      },
      "source": [
        "url = '/content/drive/MyDrive/Bootcamp Data Science/Mod3/PeNSE_2015_AMOSTRA2.zip'\n",
        "zip_folder = ZipFile(url)"
      ],
      "execution_count": null,
      "outputs": []
    },
    {
      "cell_type": "code",
      "metadata": {
        "colab": {
          "base_uri": "https://localhost:8080/"
        },
        "id": "z9E4Wwp0xdFC",
        "outputId": "52ca1b8b-d75e-46ba-a460-e2b77602b76f"
      },
      "source": [
        "zip_folder.infolist()"
      ],
      "execution_count": null,
      "outputs": [
        {
          "output_type": "execute_result",
          "data": {
            "text/plain": [
              "[<ZipInfo filename='arquivos csv/' external_attr=0x10>,\n",
              " <ZipInfo filename='arquivos csv/PENSE_AMOSTRA2_ALUNO.CSV' compress_type=deflate external_attr=0x20 file_size=7262170 compress_size=1235667>,\n",
              " <ZipInfo filename='arquivos csv/PENSE_AMOSTRA2_ALUNOESCOLA.CSV' compress_type=deflate external_attr=0x20 file_size=11420533 compress_size=1329882>,\n",
              " <ZipInfo filename='arquivos csv/PENSE_AMOSTRA2_ESCOLA.CSV' compress_type=deflate external_attr=0x20 file_size=5000642 compress_size=114324>,\n",
              " <ZipInfo filename='arquivos sas/' external_attr=0x10>,\n",
              " <ZipInfo filename='arquivos sas/pense_amostra2_aluno.sas7bdat' compress_type=deflate external_attr=0x20 file_size=24691712 compress_size=1957530>,\n",
              " <ZipInfo filename='arquivos sas/pense_amostra2_alunoescola.sas7bdat' compress_type=deflate external_attr=0x20 file_size=45253632 compress_size=2461932>,\n",
              " <ZipInfo filename='arquivos sas/pense_amostra2_escola.sas7bdat' compress_type=deflate external_attr=0x20 file_size=18105344 compress_size=332162>,\n",
              " <ZipInfo filename='arquivos xlsx/' external_attr=0x10>,\n",
              " <ZipInfo filename='arquivos xlsx/PENSE_AMOSTRA2_ALUNO.xlsx' compress_type=deflate external_attr=0x20 file_size=11757246 compress_size=11337133>,\n",
              " <ZipInfo filename='arquivos xlsx/PENSE_AMOSTRA2_ALUNOESCOLA.xlsx' compress_type=deflate external_attr=0x20 file_size=18732739 compress_size=17064325>,\n",
              " <ZipInfo filename='arquivos xlsx/PENSE_AMOSTRA2_ESCOLA.xlsx' compress_type=deflate external_attr=0x20 file_size=7159579 compress_size=3209953>,\n",
              " <ZipInfo filename='Dicionario_PENSE_Microdados_AMOSTRA2.xls' compress_type=deflate external_attr=0x20 file_size=144896 compress_size=35737>]"
            ]
          },
          "metadata": {
            "tags": []
          },
          "execution_count": 4
        }
      ]
    },
    {
      "cell_type": "code",
      "metadata": {
        "colab": {
          "base_uri": "https://localhost:8080/"
        },
        "id": "P5nctYkTyHvf",
        "outputId": "43f29ebf-16b9-4190-8c2c-f8d2715f585a"
      },
      "source": [
        "zip_folder.namelist()"
      ],
      "execution_count": null,
      "outputs": [
        {
          "output_type": "execute_result",
          "data": {
            "text/plain": [
              "['arquivos csv/',\n",
              " 'arquivos csv/PENSE_AMOSTRA2_ALUNO.CSV',\n",
              " 'arquivos csv/PENSE_AMOSTRA2_ALUNOESCOLA.CSV',\n",
              " 'arquivos csv/PENSE_AMOSTRA2_ESCOLA.CSV',\n",
              " 'arquivos sas/',\n",
              " 'arquivos sas/pense_amostra2_aluno.sas7bdat',\n",
              " 'arquivos sas/pense_amostra2_alunoescola.sas7bdat',\n",
              " 'arquivos sas/pense_amostra2_escola.sas7bdat',\n",
              " 'arquivos xlsx/',\n",
              " 'arquivos xlsx/PENSE_AMOSTRA2_ALUNO.xlsx',\n",
              " 'arquivos xlsx/PENSE_AMOSTRA2_ALUNOESCOLA.xlsx',\n",
              " 'arquivos xlsx/PENSE_AMOSTRA2_ESCOLA.xlsx',\n",
              " 'Dicionario_PENSE_Microdados_AMOSTRA2.xls']"
            ]
          },
          "metadata": {
            "tags": []
          },
          "execution_count": 5
        }
      ]
    },
    {
      "cell_type": "code",
      "metadata": {
        "colab": {
          "base_uri": "https://localhost:8080/",
          "height": 253
        },
        "id": "QIX8C0jdztWK",
        "outputId": "eb1e7721-465b-4a45-c010-69a8a0236d4b"
      },
      "source": [
        "# Selecting file and reading the dataset\n",
        "\n",
        "zip_folder_file = zip_folder.namelist()[1]\n",
        "df = pd.read_csv(zip_folder.open(zip_folder_file), sep=';')\n",
        "df.head()"
      ],
      "execution_count": null,
      "outputs": [
        {
          "output_type": "execute_result",
          "data": {
            "text/html": [
              "<div>\n",
              "<style scoped>\n",
              "    .dataframe tbody tr th:only-of-type {\n",
              "        vertical-align: middle;\n",
              "    }\n",
              "\n",
              "    .dataframe tbody tr th {\n",
              "        vertical-align: top;\n",
              "    }\n",
              "\n",
              "    .dataframe thead th {\n",
              "        text-align: right;\n",
              "    }\n",
              "</style>\n",
              "<table border=\"1\" class=\"dataframe\">\n",
              "  <thead>\n",
              "    <tr style=\"text-align: right;\">\n",
              "      <th></th>\n",
              "      <th>ANOPESQ</th>\n",
              "      <th>PAIS</th>\n",
              "      <th>REGEOGR</th>\n",
              "      <th>VB00004</th>\n",
              "      <th>VB01001</th>\n",
              "      <th>VB01002</th>\n",
              "      <th>VB01003</th>\n",
              "      <th>VB01004</th>\n",
              "      <th>VB01005</th>\n",
              "      <th>VB01006</th>\n",
              "      <th>VB01007</th>\n",
              "      <th>VB01008A</th>\n",
              "      <th>VB01010A</th>\n",
              "      <th>VB01011</th>\n",
              "      <th>VB01012</th>\n",
              "      <th>VB01013</th>\n",
              "      <th>VB01014</th>\n",
              "      <th>VB01015A</th>\n",
              "      <th>VB01016</th>\n",
              "      <th>VB01017</th>\n",
              "      <th>VB01018</th>\n",
              "      <th>VB01019</th>\n",
              "      <th>VB01020A</th>\n",
              "      <th>VB01021</th>\n",
              "      <th>VB01022</th>\n",
              "      <th>VB01023</th>\n",
              "      <th>VB01024</th>\n",
              "      <th>VB01025</th>\n",
              "      <th>VB01026</th>\n",
              "      <th>VB02001</th>\n",
              "      <th>VB02002</th>\n",
              "      <th>VB02004A</th>\n",
              "      <th>VB02010</th>\n",
              "      <th>VB02011</th>\n",
              "      <th>VB02013</th>\n",
              "      <th>VB02017A</th>\n",
              "      <th>VB02018A</th>\n",
              "      <th>VB02019A</th>\n",
              "      <th>VB02020A</th>\n",
              "      <th>VB02021</th>\n",
              "      <th>...</th>\n",
              "      <th>VB11005</th>\n",
              "      <th>VB11006</th>\n",
              "      <th>VB11007</th>\n",
              "      <th>VB12001</th>\n",
              "      <th>VB12002</th>\n",
              "      <th>VB12003</th>\n",
              "      <th>VB13001</th>\n",
              "      <th>VB13002A</th>\n",
              "      <th>VB13004A</th>\n",
              "      <th>VB13005</th>\n",
              "      <th>VB13006</th>\n",
              "      <th>VB13007</th>\n",
              "      <th>VB13008</th>\n",
              "      <th>VB13009</th>\n",
              "      <th>VB14001</th>\n",
              "      <th>VB14002</th>\n",
              "      <th>VB16001A01</th>\n",
              "      <th>VB16001A02</th>\n",
              "      <th>VB16001A03</th>\n",
              "      <th>VB16001A04</th>\n",
              "      <th>VB16001A05</th>\n",
              "      <th>VB16001A06</th>\n",
              "      <th>VB16001A07</th>\n",
              "      <th>VB16001A08</th>\n",
              "      <th>VB17001</th>\n",
              "      <th>VB17002</th>\n",
              "      <th>VB17003</th>\n",
              "      <th>VB17004</th>\n",
              "      <th>VB17005</th>\n",
              "      <th>VB17006</th>\n",
              "      <th>ESTRATO_EXP</th>\n",
              "      <th>ESTRATOGEOREG</th>\n",
              "      <th>PESO</th>\n",
              "      <th>V0006</th>\n",
              "      <th>V0007</th>\n",
              "      <th>V0008</th>\n",
              "      <th>V0041</th>\n",
              "      <th>aluno</th>\n",
              "      <th>escola</th>\n",
              "      <th>turma</th>\n",
              "    </tr>\n",
              "  </thead>\n",
              "  <tbody>\n",
              "    <tr>\n",
              "      <th>0</th>\n",
              "      <td>2015</td>\n",
              "      <td>76</td>\n",
              "      <td>1</td>\n",
              "      <td>1</td>\n",
              "      <td>2</td>\n",
              "      <td>1</td>\n",
              "      <td>13</td>\n",
              "      <td>7</td>\n",
              "      <td>7</td>\n",
              "      <td>1</td>\n",
              "      <td>2</td>\n",
              "      <td>7</td>\n",
              "      <td>3</td>\n",
              "      <td>2</td>\n",
              "      <td>-1</td>\n",
              "      <td>1</td>\n",
              "      <td>1</td>\n",
              "      <td>1</td>\n",
              "      <td>1</td>\n",
              "      <td>1</td>\n",
              "      <td>2</td>\n",
              "      <td>4</td>\n",
              "      <td>2</td>\n",
              "      <td>4</td>\n",
              "      <td>1</td>\n",
              "      <td>2</td>\n",
              "      <td>2</td>\n",
              "      <td>5</td>\n",
              "      <td>1</td>\n",
              "      <td>8</td>\n",
              "      <td>3</td>\n",
              "      <td>4</td>\n",
              "      <td>3</td>\n",
              "      <td>6</td>\n",
              "      <td>6</td>\n",
              "      <td>1</td>\n",
              "      <td>6</td>\n",
              "      <td>1</td>\n",
              "      <td>-1</td>\n",
              "      <td>2</td>\n",
              "      <td>...</td>\n",
              "      <td>2</td>\n",
              "      <td>1</td>\n",
              "      <td>2</td>\n",
              "      <td>1</td>\n",
              "      <td>1</td>\n",
              "      <td>4</td>\n",
              "      <td>2</td>\n",
              "      <td>-1</td>\n",
              "      <td>3</td>\n",
              "      <td>1</td>\n",
              "      <td>1</td>\n",
              "      <td>-1</td>\n",
              "      <td>1</td>\n",
              "      <td>1</td>\n",
              "      <td>2</td>\n",
              "      <td>2</td>\n",
              "      <td>1</td>\n",
              "      <td>2</td>\n",
              "      <td>2</td>\n",
              "      <td>2</td>\n",
              "      <td>2</td>\n",
              "      <td>2</td>\n",
              "      <td>2</td>\n",
              "      <td>2</td>\n",
              "      <td>371.00</td>\n",
              "      <td>1570.00</td>\n",
              "      <td>37,1</td>\n",
              "      <td>157</td>\n",
              "      <td>2</td>\n",
              "      <td>1</td>\n",
              "      <td>1223</td>\n",
              "      <td>1</td>\n",
              "      <td>299,735235</td>\n",
              "      <td>1</td>\n",
              "      <td>2</td>\n",
              "      <td>4</td>\n",
              "      <td>1</td>\n",
              "      <td>1</td>\n",
              "      <td>1</td>\n",
              "      <td>296</td>\n",
              "    </tr>\n",
              "    <tr>\n",
              "      <th>1</th>\n",
              "      <td>2015</td>\n",
              "      <td>76</td>\n",
              "      <td>1</td>\n",
              "      <td>1</td>\n",
              "      <td>2</td>\n",
              "      <td>1</td>\n",
              "      <td>14</td>\n",
              "      <td>4</td>\n",
              "      <td>7</td>\n",
              "      <td>1</td>\n",
              "      <td>1</td>\n",
              "      <td>7</td>\n",
              "      <td>3</td>\n",
              "      <td>2</td>\n",
              "      <td>-1</td>\n",
              "      <td>1</td>\n",
              "      <td>1</td>\n",
              "      <td>1</td>\n",
              "      <td>1</td>\n",
              "      <td>1</td>\n",
              "      <td>2</td>\n",
              "      <td>2</td>\n",
              "      <td>2</td>\n",
              "      <td>4</td>\n",
              "      <td>1</td>\n",
              "      <td>2</td>\n",
              "      <td>2</td>\n",
              "      <td>5</td>\n",
              "      <td>3</td>\n",
              "      <td>8</td>\n",
              "      <td>2</td>\n",
              "      <td>1</td>\n",
              "      <td>8</td>\n",
              "      <td>8</td>\n",
              "      <td>6</td>\n",
              "      <td>1</td>\n",
              "      <td>1</td>\n",
              "      <td>5</td>\n",
              "      <td>-1</td>\n",
              "      <td>2</td>\n",
              "      <td>...</td>\n",
              "      <td>2</td>\n",
              "      <td>3</td>\n",
              "      <td>2</td>\n",
              "      <td>4</td>\n",
              "      <td>4</td>\n",
              "      <td>4</td>\n",
              "      <td>1</td>\n",
              "      <td>2</td>\n",
              "      <td>3</td>\n",
              "      <td>3</td>\n",
              "      <td>1</td>\n",
              "      <td>-1</td>\n",
              "      <td>1</td>\n",
              "      <td>1</td>\n",
              "      <td>2</td>\n",
              "      <td>2</td>\n",
              "      <td>2</td>\n",
              "      <td>2</td>\n",
              "      <td>2</td>\n",
              "      <td>1</td>\n",
              "      <td>2</td>\n",
              "      <td>2</td>\n",
              "      <td>2</td>\n",
              "      <td>2</td>\n",
              "      <td>502.00</td>\n",
              "      <td>1520.00</td>\n",
              "      <td>50,2</td>\n",
              "      <td>152</td>\n",
              "      <td>2</td>\n",
              "      <td>2</td>\n",
              "      <td>1223</td>\n",
              "      <td>1</td>\n",
              "      <td>355,170081</td>\n",
              "      <td>1</td>\n",
              "      <td>2</td>\n",
              "      <td>4</td>\n",
              "      <td>1</td>\n",
              "      <td>2</td>\n",
              "      <td>1</td>\n",
              "      <td>296</td>\n",
              "    </tr>\n",
              "    <tr>\n",
              "      <th>2</th>\n",
              "      <td>2015</td>\n",
              "      <td>76</td>\n",
              "      <td>1</td>\n",
              "      <td>1</td>\n",
              "      <td>1</td>\n",
              "      <td>4</td>\n",
              "      <td>13</td>\n",
              "      <td>6</td>\n",
              "      <td>7</td>\n",
              "      <td>1</td>\n",
              "      <td>1</td>\n",
              "      <td>5</td>\n",
              "      <td>5</td>\n",
              "      <td>2</td>\n",
              "      <td>-1</td>\n",
              "      <td>2</td>\n",
              "      <td>1</td>\n",
              "      <td>1</td>\n",
              "      <td>1</td>\n",
              "      <td>1</td>\n",
              "      <td>2</td>\n",
              "      <td>3</td>\n",
              "      <td>1</td>\n",
              "      <td>4</td>\n",
              "      <td>1</td>\n",
              "      <td>2</td>\n",
              "      <td>2</td>\n",
              "      <td>5</td>\n",
              "      <td>3</td>\n",
              "      <td>2</td>\n",
              "      <td>3</td>\n",
              "      <td>1</td>\n",
              "      <td>8</td>\n",
              "      <td>2</td>\n",
              "      <td>8</td>\n",
              "      <td>1</td>\n",
              "      <td>1</td>\n",
              "      <td>5</td>\n",
              "      <td>5</td>\n",
              "      <td>1</td>\n",
              "      <td>...</td>\n",
              "      <td>2</td>\n",
              "      <td>1</td>\n",
              "      <td>2</td>\n",
              "      <td>1</td>\n",
              "      <td>2</td>\n",
              "      <td>3</td>\n",
              "      <td>1</td>\n",
              "      <td>2</td>\n",
              "      <td>1</td>\n",
              "      <td>2</td>\n",
              "      <td>5</td>\n",
              "      <td>99</td>\n",
              "      <td>1</td>\n",
              "      <td>-1</td>\n",
              "      <td>2</td>\n",
              "      <td>2</td>\n",
              "      <td>1</td>\n",
              "      <td>1</td>\n",
              "      <td>1</td>\n",
              "      <td>1</td>\n",
              "      <td>1</td>\n",
              "      <td>1</td>\n",
              "      <td>1</td>\n",
              "      <td>1</td>\n",
              "      <td>482.00</td>\n",
              "      <td>1614.00</td>\n",
              "      <td>48,2</td>\n",
              "      <td>161,4</td>\n",
              "      <td>2</td>\n",
              "      <td>2</td>\n",
              "      <td>1223</td>\n",
              "      <td>1</td>\n",
              "      <td>299,735235</td>\n",
              "      <td>1</td>\n",
              "      <td>2</td>\n",
              "      <td>4</td>\n",
              "      <td>1</td>\n",
              "      <td>3</td>\n",
              "      <td>1</td>\n",
              "      <td>296</td>\n",
              "    </tr>\n",
              "    <tr>\n",
              "      <th>3</th>\n",
              "      <td>2015</td>\n",
              "      <td>76</td>\n",
              "      <td>1</td>\n",
              "      <td>1</td>\n",
              "      <td>1</td>\n",
              "      <td>1</td>\n",
              "      <td>14</td>\n",
              "      <td>6</td>\n",
              "      <td>7</td>\n",
              "      <td>1</td>\n",
              "      <td>1</td>\n",
              "      <td>7</td>\n",
              "      <td>4</td>\n",
              "      <td>2</td>\n",
              "      <td>-1</td>\n",
              "      <td>1</td>\n",
              "      <td>1</td>\n",
              "      <td>1</td>\n",
              "      <td>1</td>\n",
              "      <td>1</td>\n",
              "      <td>2</td>\n",
              "      <td>4</td>\n",
              "      <td>2</td>\n",
              "      <td>4</td>\n",
              "      <td>1</td>\n",
              "      <td>2</td>\n",
              "      <td>2</td>\n",
              "      <td>6</td>\n",
              "      <td>3</td>\n",
              "      <td>2</td>\n",
              "      <td>4</td>\n",
              "      <td>1</td>\n",
              "      <td>3</td>\n",
              "      <td>2</td>\n",
              "      <td>7</td>\n",
              "      <td>1</td>\n",
              "      <td>5</td>\n",
              "      <td>1</td>\n",
              "      <td>-1</td>\n",
              "      <td>2</td>\n",
              "      <td>...</td>\n",
              "      <td>2</td>\n",
              "      <td>1</td>\n",
              "      <td>2</td>\n",
              "      <td>2</td>\n",
              "      <td>2</td>\n",
              "      <td>4</td>\n",
              "      <td>1</td>\n",
              "      <td>10</td>\n",
              "      <td>3</td>\n",
              "      <td>1</td>\n",
              "      <td>2</td>\n",
              "      <td>-1</td>\n",
              "      <td>1</td>\n",
              "      <td>-1</td>\n",
              "      <td>2</td>\n",
              "      <td>2</td>\n",
              "      <td>1</td>\n",
              "      <td>2</td>\n",
              "      <td>2</td>\n",
              "      <td>2</td>\n",
              "      <td>1</td>\n",
              "      <td>2</td>\n",
              "      <td>2</td>\n",
              "      <td>2</td>\n",
              "      <td>694.00</td>\n",
              "      <td>1725.00</td>\n",
              "      <td>69,4</td>\n",
              "      <td>172,5</td>\n",
              "      <td>2</td>\n",
              "      <td>3</td>\n",
              "      <td>1223</td>\n",
              "      <td>1</td>\n",
              "      <td>355,170081</td>\n",
              "      <td>1</td>\n",
              "      <td>2</td>\n",
              "      <td>4</td>\n",
              "      <td>1</td>\n",
              "      <td>4</td>\n",
              "      <td>1</td>\n",
              "      <td>296</td>\n",
              "    </tr>\n",
              "    <tr>\n",
              "      <th>4</th>\n",
              "      <td>2015</td>\n",
              "      <td>76</td>\n",
              "      <td>1</td>\n",
              "      <td>1</td>\n",
              "      <td>1</td>\n",
              "      <td>1</td>\n",
              "      <td>13</td>\n",
              "      <td>9</td>\n",
              "      <td>7</td>\n",
              "      <td>1</td>\n",
              "      <td>2</td>\n",
              "      <td>5</td>\n",
              "      <td>4</td>\n",
              "      <td>2</td>\n",
              "      <td>-1</td>\n",
              "      <td>2</td>\n",
              "      <td>1</td>\n",
              "      <td>1</td>\n",
              "      <td>1</td>\n",
              "      <td>1</td>\n",
              "      <td>2</td>\n",
              "      <td>5</td>\n",
              "      <td>1</td>\n",
              "      <td>4</td>\n",
              "      <td>1</td>\n",
              "      <td>2</td>\n",
              "      <td>2</td>\n",
              "      <td>6</td>\n",
              "      <td>5</td>\n",
              "      <td>6</td>\n",
              "      <td>3</td>\n",
              "      <td>5</td>\n",
              "      <td>2</td>\n",
              "      <td>6</td>\n",
              "      <td>2</td>\n",
              "      <td>1</td>\n",
              "      <td>5</td>\n",
              "      <td>1</td>\n",
              "      <td>5</td>\n",
              "      <td>1</td>\n",
              "      <td>...</td>\n",
              "      <td>2</td>\n",
              "      <td>1</td>\n",
              "      <td>4</td>\n",
              "      <td>2</td>\n",
              "      <td>2</td>\n",
              "      <td>4</td>\n",
              "      <td>1</td>\n",
              "      <td>3</td>\n",
              "      <td>2</td>\n",
              "      <td>2</td>\n",
              "      <td>2</td>\n",
              "      <td>13</td>\n",
              "      <td>1</td>\n",
              "      <td>-1</td>\n",
              "      <td>1</td>\n",
              "      <td>2</td>\n",
              "      <td>1</td>\n",
              "      <td>1</td>\n",
              "      <td>1</td>\n",
              "      <td>1</td>\n",
              "      <td>1</td>\n",
              "      <td>1</td>\n",
              "      <td>1</td>\n",
              "      <td>1</td>\n",
              "      <td>789.00</td>\n",
              "      <td>1675.00</td>\n",
              "      <td>78,9</td>\n",
              "      <td>167,5</td>\n",
              "      <td>2</td>\n",
              "      <td>4</td>\n",
              "      <td>1223</td>\n",
              "      <td>1</td>\n",
              "      <td>299,735235</td>\n",
              "      <td>1</td>\n",
              "      <td>2</td>\n",
              "      <td>4</td>\n",
              "      <td>1</td>\n",
              "      <td>5</td>\n",
              "      <td>1</td>\n",
              "      <td>296</td>\n",
              "    </tr>\n",
              "  </tbody>\n",
              "</table>\n",
              "<p>5 rows × 181 columns</p>\n",
              "</div>"
            ],
            "text/plain": [
              "   ANOPESQ  PAIS  REGEOGR  VB00004  VB01001  ...  V0008  V0041  aluno  escola  turma\n",
              "0     2015    76        1        1        2  ...      4      1      1       1    296\n",
              "1     2015    76        1        1        2  ...      4      1      2       1    296\n",
              "2     2015    76        1        1        1  ...      4      1      3       1    296\n",
              "3     2015    76        1        1        1  ...      4      1      4       1    296\n",
              "4     2015    76        1        1        1  ...      4      1      5       1    296\n",
              "\n",
              "[5 rows x 181 columns]"
            ]
          },
          "metadata": {
            "tags": []
          },
          "execution_count": 6
        }
      ]
    },
    {
      "cell_type": "markdown",
      "metadata": {
        "id": "KX5RbdtE2zDt"
      },
      "source": [
        "### Challenge 01: unzip folder using Bash commands."
      ]
    },
    {
      "cell_type": "markdown",
      "metadata": {
        "id": "EZ463t6k6Vel"
      },
      "source": [
        "I kept the following code as #comment, otherwise it will try to unzip the folder everytime I run the notebook."
      ]
    },
    {
      "cell_type": "code",
      "metadata": {
        "id": "EStf5vEf27F7"
      },
      "source": [
        "# !unzip '/content/drive/MyDrive/Bootcamp Data Science/Mod3/PeNSE_2015_AMOSTRA2.zip' -d '/content/drive/MyDrive/Bootcamp Data Science/Mod3'"
      ],
      "execution_count": null,
      "outputs": []
    },
    {
      "cell_type": "markdown",
      "metadata": {
        "id": "rOSZfDVH27-p"
      },
      "source": [
        "### Challenge 02: Study the data base that will be used in this module."
      ]
    },
    {
      "cell_type": "markdown",
      "metadata": {
        "id": "1eWP67YY3JrT"
      },
      "source": [
        "PeNSE is survey research that investigates information that makes it possible to know and measure the risk factors and health protection of teenagers.\n",
        "\n",
        "The survey provides information about:\n",
        "- Socioeconomic aspects;\n",
        "- Social and family contexts; \n",
        "- Behavioral risk factors related to eating habits, physical inactivity, smoking, alcohol consumption and other drugs; \n",
        "- Sexual and reproductive health; \n",
        "- Exposure to accidents and violence;\n",
        "- Hygiene habits; oral health; mental health;\n",
        "- Perception of body image, among other topics. \n",
        "\n",
        "Characteristics of the school environment and surroundings are also considered, including information related to:\n",
        "- Infrastructure available for food and physical activity; \n",
        "- Accessibility; \n",
        "- Sanitation; \n",
        "- Existence of rules and standards of conduct adopted by schools; \n",
        "- Health care policies;\n",
        "- Safety level of the surroundings, among other aspects.\n",
        "\n",
        "Source: https://www.ibge.gov.br/estatisticas/sociais/educacao/9134-pesquisa-nacional-de-saude-do-escolar.html?=&t=o-que-e\n",
        "\n",
        "More information can be found at: \n",
        "\n",
        "https://biblioteca.ibge.gov.br/visualizacao/livros/liv97870.pdf\n",
        "\n",
        "https://www.youtube.com/watch?v=z4BBCHZUvD4&ab_channel=IBGE"
      ]
    },
    {
      "cell_type": "markdown",
      "metadata": {
        "id": "bmq8YQr_4iQa"
      },
      "source": [
        "## Data type"
      ]
    },
    {
      "cell_type": "code",
      "metadata": {
        "colab": {
          "base_uri": "https://localhost:8080/",
          "height": 253
        },
        "id": "46mXtYH1zrmr",
        "outputId": "c61c77ef-7ca7-4e2e-fdcf-848c488a62d3"
      },
      "source": [
        "df.head()"
      ],
      "execution_count": null,
      "outputs": [
        {
          "output_type": "execute_result",
          "data": {
            "text/html": [
              "<div>\n",
              "<style scoped>\n",
              "    .dataframe tbody tr th:only-of-type {\n",
              "        vertical-align: middle;\n",
              "    }\n",
              "\n",
              "    .dataframe tbody tr th {\n",
              "        vertical-align: top;\n",
              "    }\n",
              "\n",
              "    .dataframe thead th {\n",
              "        text-align: right;\n",
              "    }\n",
              "</style>\n",
              "<table border=\"1\" class=\"dataframe\">\n",
              "  <thead>\n",
              "    <tr style=\"text-align: right;\">\n",
              "      <th></th>\n",
              "      <th>ANOPESQ</th>\n",
              "      <th>PAIS</th>\n",
              "      <th>REGEOGR</th>\n",
              "      <th>VB00004</th>\n",
              "      <th>VB01001</th>\n",
              "      <th>VB01002</th>\n",
              "      <th>VB01003</th>\n",
              "      <th>VB01004</th>\n",
              "      <th>VB01005</th>\n",
              "      <th>VB01006</th>\n",
              "      <th>VB01007</th>\n",
              "      <th>VB01008A</th>\n",
              "      <th>VB01010A</th>\n",
              "      <th>VB01011</th>\n",
              "      <th>VB01012</th>\n",
              "      <th>VB01013</th>\n",
              "      <th>VB01014</th>\n",
              "      <th>VB01015A</th>\n",
              "      <th>VB01016</th>\n",
              "      <th>VB01017</th>\n",
              "      <th>VB01018</th>\n",
              "      <th>VB01019</th>\n",
              "      <th>VB01020A</th>\n",
              "      <th>VB01021</th>\n",
              "      <th>VB01022</th>\n",
              "      <th>VB01023</th>\n",
              "      <th>VB01024</th>\n",
              "      <th>VB01025</th>\n",
              "      <th>VB01026</th>\n",
              "      <th>VB02001</th>\n",
              "      <th>VB02002</th>\n",
              "      <th>VB02004A</th>\n",
              "      <th>VB02010</th>\n",
              "      <th>VB02011</th>\n",
              "      <th>VB02013</th>\n",
              "      <th>VB02017A</th>\n",
              "      <th>VB02018A</th>\n",
              "      <th>VB02019A</th>\n",
              "      <th>VB02020A</th>\n",
              "      <th>VB02021</th>\n",
              "      <th>...</th>\n",
              "      <th>VB11005</th>\n",
              "      <th>VB11006</th>\n",
              "      <th>VB11007</th>\n",
              "      <th>VB12001</th>\n",
              "      <th>VB12002</th>\n",
              "      <th>VB12003</th>\n",
              "      <th>VB13001</th>\n",
              "      <th>VB13002A</th>\n",
              "      <th>VB13004A</th>\n",
              "      <th>VB13005</th>\n",
              "      <th>VB13006</th>\n",
              "      <th>VB13007</th>\n",
              "      <th>VB13008</th>\n",
              "      <th>VB13009</th>\n",
              "      <th>VB14001</th>\n",
              "      <th>VB14002</th>\n",
              "      <th>VB16001A01</th>\n",
              "      <th>VB16001A02</th>\n",
              "      <th>VB16001A03</th>\n",
              "      <th>VB16001A04</th>\n",
              "      <th>VB16001A05</th>\n",
              "      <th>VB16001A06</th>\n",
              "      <th>VB16001A07</th>\n",
              "      <th>VB16001A08</th>\n",
              "      <th>VB17001</th>\n",
              "      <th>VB17002</th>\n",
              "      <th>VB17003</th>\n",
              "      <th>VB17004</th>\n",
              "      <th>VB17005</th>\n",
              "      <th>VB17006</th>\n",
              "      <th>ESTRATO_EXP</th>\n",
              "      <th>ESTRATOGEOREG</th>\n",
              "      <th>PESO</th>\n",
              "      <th>V0006</th>\n",
              "      <th>V0007</th>\n",
              "      <th>V0008</th>\n",
              "      <th>V0041</th>\n",
              "      <th>aluno</th>\n",
              "      <th>escola</th>\n",
              "      <th>turma</th>\n",
              "    </tr>\n",
              "  </thead>\n",
              "  <tbody>\n",
              "    <tr>\n",
              "      <th>0</th>\n",
              "      <td>2015</td>\n",
              "      <td>76</td>\n",
              "      <td>1</td>\n",
              "      <td>1</td>\n",
              "      <td>2</td>\n",
              "      <td>1</td>\n",
              "      <td>13</td>\n",
              "      <td>7</td>\n",
              "      <td>7</td>\n",
              "      <td>1</td>\n",
              "      <td>2</td>\n",
              "      <td>7</td>\n",
              "      <td>3</td>\n",
              "      <td>2</td>\n",
              "      <td>-1</td>\n",
              "      <td>1</td>\n",
              "      <td>1</td>\n",
              "      <td>1</td>\n",
              "      <td>1</td>\n",
              "      <td>1</td>\n",
              "      <td>2</td>\n",
              "      <td>4</td>\n",
              "      <td>2</td>\n",
              "      <td>4</td>\n",
              "      <td>1</td>\n",
              "      <td>2</td>\n",
              "      <td>2</td>\n",
              "      <td>5</td>\n",
              "      <td>1</td>\n",
              "      <td>8</td>\n",
              "      <td>3</td>\n",
              "      <td>4</td>\n",
              "      <td>3</td>\n",
              "      <td>6</td>\n",
              "      <td>6</td>\n",
              "      <td>1</td>\n",
              "      <td>6</td>\n",
              "      <td>1</td>\n",
              "      <td>-1</td>\n",
              "      <td>2</td>\n",
              "      <td>...</td>\n",
              "      <td>2</td>\n",
              "      <td>1</td>\n",
              "      <td>2</td>\n",
              "      <td>1</td>\n",
              "      <td>1</td>\n",
              "      <td>4</td>\n",
              "      <td>2</td>\n",
              "      <td>-1</td>\n",
              "      <td>3</td>\n",
              "      <td>1</td>\n",
              "      <td>1</td>\n",
              "      <td>-1</td>\n",
              "      <td>1</td>\n",
              "      <td>1</td>\n",
              "      <td>2</td>\n",
              "      <td>2</td>\n",
              "      <td>1</td>\n",
              "      <td>2</td>\n",
              "      <td>2</td>\n",
              "      <td>2</td>\n",
              "      <td>2</td>\n",
              "      <td>2</td>\n",
              "      <td>2</td>\n",
              "      <td>2</td>\n",
              "      <td>371.00</td>\n",
              "      <td>1570.00</td>\n",
              "      <td>37,1</td>\n",
              "      <td>157</td>\n",
              "      <td>2</td>\n",
              "      <td>1</td>\n",
              "      <td>1223</td>\n",
              "      <td>1</td>\n",
              "      <td>299,735235</td>\n",
              "      <td>1</td>\n",
              "      <td>2</td>\n",
              "      <td>4</td>\n",
              "      <td>1</td>\n",
              "      <td>1</td>\n",
              "      <td>1</td>\n",
              "      <td>296</td>\n",
              "    </tr>\n",
              "    <tr>\n",
              "      <th>1</th>\n",
              "      <td>2015</td>\n",
              "      <td>76</td>\n",
              "      <td>1</td>\n",
              "      <td>1</td>\n",
              "      <td>2</td>\n",
              "      <td>1</td>\n",
              "      <td>14</td>\n",
              "      <td>4</td>\n",
              "      <td>7</td>\n",
              "      <td>1</td>\n",
              "      <td>1</td>\n",
              "      <td>7</td>\n",
              "      <td>3</td>\n",
              "      <td>2</td>\n",
              "      <td>-1</td>\n",
              "      <td>1</td>\n",
              "      <td>1</td>\n",
              "      <td>1</td>\n",
              "      <td>1</td>\n",
              "      <td>1</td>\n",
              "      <td>2</td>\n",
              "      <td>2</td>\n",
              "      <td>2</td>\n",
              "      <td>4</td>\n",
              "      <td>1</td>\n",
              "      <td>2</td>\n",
              "      <td>2</td>\n",
              "      <td>5</td>\n",
              "      <td>3</td>\n",
              "      <td>8</td>\n",
              "      <td>2</td>\n",
              "      <td>1</td>\n",
              "      <td>8</td>\n",
              "      <td>8</td>\n",
              "      <td>6</td>\n",
              "      <td>1</td>\n",
              "      <td>1</td>\n",
              "      <td>5</td>\n",
              "      <td>-1</td>\n",
              "      <td>2</td>\n",
              "      <td>...</td>\n",
              "      <td>2</td>\n",
              "      <td>3</td>\n",
              "      <td>2</td>\n",
              "      <td>4</td>\n",
              "      <td>4</td>\n",
              "      <td>4</td>\n",
              "      <td>1</td>\n",
              "      <td>2</td>\n",
              "      <td>3</td>\n",
              "      <td>3</td>\n",
              "      <td>1</td>\n",
              "      <td>-1</td>\n",
              "      <td>1</td>\n",
              "      <td>1</td>\n",
              "      <td>2</td>\n",
              "      <td>2</td>\n",
              "      <td>2</td>\n",
              "      <td>2</td>\n",
              "      <td>2</td>\n",
              "      <td>1</td>\n",
              "      <td>2</td>\n",
              "      <td>2</td>\n",
              "      <td>2</td>\n",
              "      <td>2</td>\n",
              "      <td>502.00</td>\n",
              "      <td>1520.00</td>\n",
              "      <td>50,2</td>\n",
              "      <td>152</td>\n",
              "      <td>2</td>\n",
              "      <td>2</td>\n",
              "      <td>1223</td>\n",
              "      <td>1</td>\n",
              "      <td>355,170081</td>\n",
              "      <td>1</td>\n",
              "      <td>2</td>\n",
              "      <td>4</td>\n",
              "      <td>1</td>\n",
              "      <td>2</td>\n",
              "      <td>1</td>\n",
              "      <td>296</td>\n",
              "    </tr>\n",
              "    <tr>\n",
              "      <th>2</th>\n",
              "      <td>2015</td>\n",
              "      <td>76</td>\n",
              "      <td>1</td>\n",
              "      <td>1</td>\n",
              "      <td>1</td>\n",
              "      <td>4</td>\n",
              "      <td>13</td>\n",
              "      <td>6</td>\n",
              "      <td>7</td>\n",
              "      <td>1</td>\n",
              "      <td>1</td>\n",
              "      <td>5</td>\n",
              "      <td>5</td>\n",
              "      <td>2</td>\n",
              "      <td>-1</td>\n",
              "      <td>2</td>\n",
              "      <td>1</td>\n",
              "      <td>1</td>\n",
              "      <td>1</td>\n",
              "      <td>1</td>\n",
              "      <td>2</td>\n",
              "      <td>3</td>\n",
              "      <td>1</td>\n",
              "      <td>4</td>\n",
              "      <td>1</td>\n",
              "      <td>2</td>\n",
              "      <td>2</td>\n",
              "      <td>5</td>\n",
              "      <td>3</td>\n",
              "      <td>2</td>\n",
              "      <td>3</td>\n",
              "      <td>1</td>\n",
              "      <td>8</td>\n",
              "      <td>2</td>\n",
              "      <td>8</td>\n",
              "      <td>1</td>\n",
              "      <td>1</td>\n",
              "      <td>5</td>\n",
              "      <td>5</td>\n",
              "      <td>1</td>\n",
              "      <td>...</td>\n",
              "      <td>2</td>\n",
              "      <td>1</td>\n",
              "      <td>2</td>\n",
              "      <td>1</td>\n",
              "      <td>2</td>\n",
              "      <td>3</td>\n",
              "      <td>1</td>\n",
              "      <td>2</td>\n",
              "      <td>1</td>\n",
              "      <td>2</td>\n",
              "      <td>5</td>\n",
              "      <td>99</td>\n",
              "      <td>1</td>\n",
              "      <td>-1</td>\n",
              "      <td>2</td>\n",
              "      <td>2</td>\n",
              "      <td>1</td>\n",
              "      <td>1</td>\n",
              "      <td>1</td>\n",
              "      <td>1</td>\n",
              "      <td>1</td>\n",
              "      <td>1</td>\n",
              "      <td>1</td>\n",
              "      <td>1</td>\n",
              "      <td>482.00</td>\n",
              "      <td>1614.00</td>\n",
              "      <td>48,2</td>\n",
              "      <td>161,4</td>\n",
              "      <td>2</td>\n",
              "      <td>2</td>\n",
              "      <td>1223</td>\n",
              "      <td>1</td>\n",
              "      <td>299,735235</td>\n",
              "      <td>1</td>\n",
              "      <td>2</td>\n",
              "      <td>4</td>\n",
              "      <td>1</td>\n",
              "      <td>3</td>\n",
              "      <td>1</td>\n",
              "      <td>296</td>\n",
              "    </tr>\n",
              "    <tr>\n",
              "      <th>3</th>\n",
              "      <td>2015</td>\n",
              "      <td>76</td>\n",
              "      <td>1</td>\n",
              "      <td>1</td>\n",
              "      <td>1</td>\n",
              "      <td>1</td>\n",
              "      <td>14</td>\n",
              "      <td>6</td>\n",
              "      <td>7</td>\n",
              "      <td>1</td>\n",
              "      <td>1</td>\n",
              "      <td>7</td>\n",
              "      <td>4</td>\n",
              "      <td>2</td>\n",
              "      <td>-1</td>\n",
              "      <td>1</td>\n",
              "      <td>1</td>\n",
              "      <td>1</td>\n",
              "      <td>1</td>\n",
              "      <td>1</td>\n",
              "      <td>2</td>\n",
              "      <td>4</td>\n",
              "      <td>2</td>\n",
              "      <td>4</td>\n",
              "      <td>1</td>\n",
              "      <td>2</td>\n",
              "      <td>2</td>\n",
              "      <td>6</td>\n",
              "      <td>3</td>\n",
              "      <td>2</td>\n",
              "      <td>4</td>\n",
              "      <td>1</td>\n",
              "      <td>3</td>\n",
              "      <td>2</td>\n",
              "      <td>7</td>\n",
              "      <td>1</td>\n",
              "      <td>5</td>\n",
              "      <td>1</td>\n",
              "      <td>-1</td>\n",
              "      <td>2</td>\n",
              "      <td>...</td>\n",
              "      <td>2</td>\n",
              "      <td>1</td>\n",
              "      <td>2</td>\n",
              "      <td>2</td>\n",
              "      <td>2</td>\n",
              "      <td>4</td>\n",
              "      <td>1</td>\n",
              "      <td>10</td>\n",
              "      <td>3</td>\n",
              "      <td>1</td>\n",
              "      <td>2</td>\n",
              "      <td>-1</td>\n",
              "      <td>1</td>\n",
              "      <td>-1</td>\n",
              "      <td>2</td>\n",
              "      <td>2</td>\n",
              "      <td>1</td>\n",
              "      <td>2</td>\n",
              "      <td>2</td>\n",
              "      <td>2</td>\n",
              "      <td>1</td>\n",
              "      <td>2</td>\n",
              "      <td>2</td>\n",
              "      <td>2</td>\n",
              "      <td>694.00</td>\n",
              "      <td>1725.00</td>\n",
              "      <td>69,4</td>\n",
              "      <td>172,5</td>\n",
              "      <td>2</td>\n",
              "      <td>3</td>\n",
              "      <td>1223</td>\n",
              "      <td>1</td>\n",
              "      <td>355,170081</td>\n",
              "      <td>1</td>\n",
              "      <td>2</td>\n",
              "      <td>4</td>\n",
              "      <td>1</td>\n",
              "      <td>4</td>\n",
              "      <td>1</td>\n",
              "      <td>296</td>\n",
              "    </tr>\n",
              "    <tr>\n",
              "      <th>4</th>\n",
              "      <td>2015</td>\n",
              "      <td>76</td>\n",
              "      <td>1</td>\n",
              "      <td>1</td>\n",
              "      <td>1</td>\n",
              "      <td>1</td>\n",
              "      <td>13</td>\n",
              "      <td>9</td>\n",
              "      <td>7</td>\n",
              "      <td>1</td>\n",
              "      <td>2</td>\n",
              "      <td>5</td>\n",
              "      <td>4</td>\n",
              "      <td>2</td>\n",
              "      <td>-1</td>\n",
              "      <td>2</td>\n",
              "      <td>1</td>\n",
              "      <td>1</td>\n",
              "      <td>1</td>\n",
              "      <td>1</td>\n",
              "      <td>2</td>\n",
              "      <td>5</td>\n",
              "      <td>1</td>\n",
              "      <td>4</td>\n",
              "      <td>1</td>\n",
              "      <td>2</td>\n",
              "      <td>2</td>\n",
              "      <td>6</td>\n",
              "      <td>5</td>\n",
              "      <td>6</td>\n",
              "      <td>3</td>\n",
              "      <td>5</td>\n",
              "      <td>2</td>\n",
              "      <td>6</td>\n",
              "      <td>2</td>\n",
              "      <td>1</td>\n",
              "      <td>5</td>\n",
              "      <td>1</td>\n",
              "      <td>5</td>\n",
              "      <td>1</td>\n",
              "      <td>...</td>\n",
              "      <td>2</td>\n",
              "      <td>1</td>\n",
              "      <td>4</td>\n",
              "      <td>2</td>\n",
              "      <td>2</td>\n",
              "      <td>4</td>\n",
              "      <td>1</td>\n",
              "      <td>3</td>\n",
              "      <td>2</td>\n",
              "      <td>2</td>\n",
              "      <td>2</td>\n",
              "      <td>13</td>\n",
              "      <td>1</td>\n",
              "      <td>-1</td>\n",
              "      <td>1</td>\n",
              "      <td>2</td>\n",
              "      <td>1</td>\n",
              "      <td>1</td>\n",
              "      <td>1</td>\n",
              "      <td>1</td>\n",
              "      <td>1</td>\n",
              "      <td>1</td>\n",
              "      <td>1</td>\n",
              "      <td>1</td>\n",
              "      <td>789.00</td>\n",
              "      <td>1675.00</td>\n",
              "      <td>78,9</td>\n",
              "      <td>167,5</td>\n",
              "      <td>2</td>\n",
              "      <td>4</td>\n",
              "      <td>1223</td>\n",
              "      <td>1</td>\n",
              "      <td>299,735235</td>\n",
              "      <td>1</td>\n",
              "      <td>2</td>\n",
              "      <td>4</td>\n",
              "      <td>1</td>\n",
              "      <td>5</td>\n",
              "      <td>1</td>\n",
              "      <td>296</td>\n",
              "    </tr>\n",
              "  </tbody>\n",
              "</table>\n",
              "<p>5 rows × 181 columns</p>\n",
              "</div>"
            ],
            "text/plain": [
              "   ANOPESQ  PAIS  REGEOGR  VB00004  VB01001  ...  V0008  V0041  aluno  escola  turma\n",
              "0     2015    76        1        1        2  ...      4      1      1       1    296\n",
              "1     2015    76        1        1        2  ...      4      1      2       1    296\n",
              "2     2015    76        1        1        1  ...      4      1      3       1    296\n",
              "3     2015    76        1        1        1  ...      4      1      4       1    296\n",
              "4     2015    76        1        1        1  ...      4      1      5       1    296\n",
              "\n",
              "[5 rows x 181 columns]"
            ]
          },
          "metadata": {
            "tags": []
          },
          "execution_count": 8
        }
      ]
    },
    {
      "cell_type": "code",
      "metadata": {
        "colab": {
          "base_uri": "https://localhost:8080/"
        },
        "id": "rRt81h3oxREO",
        "outputId": "c1361075-327b-4b63-e00c-c97912fa253b"
      },
      "source": [
        "df.shape"
      ],
      "execution_count": null,
      "outputs": [
        {
          "output_type": "execute_result",
          "data": {
            "text/plain": [
              "(16556, 181)"
            ]
          },
          "metadata": {
            "tags": []
          },
          "execution_count": 9
        }
      ]
    },
    {
      "cell_type": "code",
      "metadata": {
        "colab": {
          "base_uri": "https://localhost:8080/"
        },
        "id": "hwbJGmBJ2ygD",
        "outputId": "f45c73d3-389a-435b-928e-158fa688a3e3"
      },
      "source": [
        "df.columns"
      ],
      "execution_count": null,
      "outputs": [
        {
          "output_type": "execute_result",
          "data": {
            "text/plain": [
              "Index(['ANOPESQ', 'PAIS', 'REGEOGR', 'VB00004', 'VB01001', 'VB01002',\n",
              "       'VB01003', 'VB01004', 'VB01005', 'VB01006',\n",
              "       ...\n",
              "       'ESTRATO_EXP', 'ESTRATOGEOREG', 'PESO', 'V0006', 'V0007', 'V0008',\n",
              "       'V0041', 'aluno', 'escola', 'turma'],\n",
              "      dtype='object', length=181)"
            ]
          },
          "metadata": {
            "tags": []
          },
          "execution_count": 10
        }
      ]
    },
    {
      "cell_type": "code",
      "metadata": {
        "colab": {
          "base_uri": "https://localhost:8080/"
        },
        "id": "OVZDBzPJ5bHN",
        "outputId": "729cee1a-ddbb-412a-a59a-2707a81e29c1"
      },
      "source": [
        "df.info()"
      ],
      "execution_count": null,
      "outputs": [
        {
          "output_type": "stream",
          "text": [
            "<class 'pandas.core.frame.DataFrame'>\n",
            "RangeIndex: 16556 entries, 0 to 16555\n",
            "Columns: 181 entries, ANOPESQ to turma\n",
            "dtypes: float64(7), int64(171), object(3)\n",
            "memory usage: 22.9+ MB\n"
          ],
          "name": "stdout"
        }
      ]
    },
    {
      "cell_type": "code",
      "metadata": {
        "colab": {
          "base_uri": "https://localhost:8080/",
          "height": 419
        },
        "id": "lOC9HqU15tUx",
        "outputId": "17c0eaa7-6193-4ae4-c2e4-42b3cca2fd5d"
      },
      "source": [
        "df.select_dtypes(include='object')"
      ],
      "execution_count": null,
      "outputs": [
        {
          "output_type": "execute_result",
          "data": {
            "text/html": [
              "<div>\n",
              "<style scoped>\n",
              "    .dataframe tbody tr th:only-of-type {\n",
              "        vertical-align: middle;\n",
              "    }\n",
              "\n",
              "    .dataframe tbody tr th {\n",
              "        vertical-align: top;\n",
              "    }\n",
              "\n",
              "    .dataframe thead th {\n",
              "        text-align: right;\n",
              "    }\n",
              "</style>\n",
              "<table border=\"1\" class=\"dataframe\">\n",
              "  <thead>\n",
              "    <tr style=\"text-align: right;\">\n",
              "      <th></th>\n",
              "      <th>VB17003</th>\n",
              "      <th>VB17004</th>\n",
              "      <th>PESO</th>\n",
              "    </tr>\n",
              "  </thead>\n",
              "  <tbody>\n",
              "    <tr>\n",
              "      <th>0</th>\n",
              "      <td>37,1</td>\n",
              "      <td>157</td>\n",
              "      <td>299,735235</td>\n",
              "    </tr>\n",
              "    <tr>\n",
              "      <th>1</th>\n",
              "      <td>50,2</td>\n",
              "      <td>152</td>\n",
              "      <td>355,170081</td>\n",
              "    </tr>\n",
              "    <tr>\n",
              "      <th>2</th>\n",
              "      <td>48,2</td>\n",
              "      <td>161,4</td>\n",
              "      <td>299,735235</td>\n",
              "    </tr>\n",
              "    <tr>\n",
              "      <th>3</th>\n",
              "      <td>69,4</td>\n",
              "      <td>172,5</td>\n",
              "      <td>355,170081</td>\n",
              "    </tr>\n",
              "    <tr>\n",
              "      <th>4</th>\n",
              "      <td>78,9</td>\n",
              "      <td>167,5</td>\n",
              "      <td>299,735235</td>\n",
              "    </tr>\n",
              "    <tr>\n",
              "      <th>...</th>\n",
              "      <td>...</td>\n",
              "      <td>...</td>\n",
              "      <td>...</td>\n",
              "    </tr>\n",
              "    <tr>\n",
              "      <th>16551</th>\n",
              "      <td>56,7</td>\n",
              "      <td>167,9</td>\n",
              "      <td>447,815539</td>\n",
              "    </tr>\n",
              "    <tr>\n",
              "      <th>16552</th>\n",
              "      <td>61,9</td>\n",
              "      <td>185,8</td>\n",
              "      <td>592,50744</td>\n",
              "    </tr>\n",
              "    <tr>\n",
              "      <th>16553</th>\n",
              "      <td>60,9</td>\n",
              "      <td>159,4</td>\n",
              "      <td>401,131512</td>\n",
              "    </tr>\n",
              "    <tr>\n",
              "      <th>16554</th>\n",
              "      <td>47,3</td>\n",
              "      <td>157,8</td>\n",
              "      <td>442,718091</td>\n",
              "    </tr>\n",
              "    <tr>\n",
              "      <th>16555</th>\n",
              "      <td>62,6</td>\n",
              "      <td>163,9</td>\n",
              "      <td>592,50744</td>\n",
              "    </tr>\n",
              "  </tbody>\n",
              "</table>\n",
              "<p>16556 rows × 3 columns</p>\n",
              "</div>"
            ],
            "text/plain": [
              "      VB17003 VB17004        PESO\n",
              "0        37,1     157  299,735235\n",
              "1        50,2     152  355,170081\n",
              "2        48,2   161,4  299,735235\n",
              "3        69,4   172,5  355,170081\n",
              "4        78,9   167,5  299,735235\n",
              "...       ...     ...         ...\n",
              "16551    56,7   167,9  447,815539\n",
              "16552    61,9   185,8   592,50744\n",
              "16553    60,9   159,4  401,131512\n",
              "16554    47,3   157,8  442,718091\n",
              "16555    62,6   163,9   592,50744\n",
              "\n",
              "[16556 rows x 3 columns]"
            ]
          },
          "metadata": {
            "tags": []
          },
          "execution_count": 12
        }
      ]
    },
    {
      "cell_type": "markdown",
      "metadata": {
        "id": "L-6hgxnd51Y4"
      },
      "source": [
        "The values above are 'object' because of the comma."
      ]
    },
    {
      "cell_type": "code",
      "metadata": {
        "id": "n-gPITgJ5tit"
      },
      "source": [
        "# Setting the thousands and decimals as the international system\n",
        "\n",
        "df = pd.read_csv(zip_folder.open(zip_folder_file), sep=';', thousands='.', decimal=',')"
      ],
      "execution_count": null,
      "outputs": []
    },
    {
      "cell_type": "code",
      "metadata": {
        "colab": {
          "base_uri": "https://localhost:8080/"
        },
        "id": "1py5RLJQ5tuK",
        "outputId": "5acce8c2-420e-414d-8e87-e3e5a8e1e503"
      },
      "source": [
        "df.info()"
      ],
      "execution_count": null,
      "outputs": [
        {
          "output_type": "stream",
          "text": [
            "<class 'pandas.core.frame.DataFrame'>\n",
            "RangeIndex: 16556 entries, 0 to 16555\n",
            "Columns: 181 entries, ANOPESQ to turma\n",
            "dtypes: float64(10), int64(171)\n",
            "memory usage: 22.9 MB\n"
          ],
          "name": "stdout"
        }
      ]
    },
    {
      "cell_type": "code",
      "metadata": {
        "colab": {
          "base_uri": "https://localhost:8080/",
          "height": 419
        },
        "id": "Uj3PBn3K5txs",
        "outputId": "e2170503-9874-4994-ffdd-66550f4e9cb8"
      },
      "source": [
        "df.select_dtypes(include='float64')"
      ],
      "execution_count": null,
      "outputs": [
        {
          "output_type": "execute_result",
          "data": {
            "text/html": [
              "<div>\n",
              "<style scoped>\n",
              "    .dataframe tbody tr th:only-of-type {\n",
              "        vertical-align: middle;\n",
              "    }\n",
              "\n",
              "    .dataframe tbody tr th {\n",
              "        vertical-align: top;\n",
              "    }\n",
              "\n",
              "    .dataframe thead th {\n",
              "        text-align: right;\n",
              "    }\n",
              "</style>\n",
              "<table border=\"1\" class=\"dataframe\">\n",
              "  <thead>\n",
              "    <tr style=\"text-align: right;\">\n",
              "      <th></th>\n",
              "      <th>TEMPODESLOC</th>\n",
              "      <th>TEMPOTOTAL</th>\n",
              "      <th>TEMPOEDFIS</th>\n",
              "      <th>TEMPOEXTRA</th>\n",
              "      <th>TEMPOEST</th>\n",
              "      <th>VB17001</th>\n",
              "      <th>VB17002</th>\n",
              "      <th>VB17003</th>\n",
              "      <th>VB17004</th>\n",
              "      <th>PESO</th>\n",
              "    </tr>\n",
              "  </thead>\n",
              "  <tbody>\n",
              "    <tr>\n",
              "      <th>0</th>\n",
              "      <td>0.00</td>\n",
              "      <td>15.00</td>\n",
              "      <td>0.00</td>\n",
              "      <td>15.00</td>\n",
              "      <td>60.00</td>\n",
              "      <td>371.00</td>\n",
              "      <td>1570.00</td>\n",
              "      <td>37.10</td>\n",
              "      <td>157.00</td>\n",
              "      <td>299.74</td>\n",
              "    </tr>\n",
              "    <tr>\n",
              "      <th>1</th>\n",
              "      <td>120.00</td>\n",
              "      <td>510.00</td>\n",
              "      <td>260.00</td>\n",
              "      <td>130.00</td>\n",
              "      <td>300.00</td>\n",
              "      <td>502.00</td>\n",
              "      <td>1520.00</td>\n",
              "      <td>50.20</td>\n",
              "      <td>152.00</td>\n",
              "      <td>355.17</td>\n",
              "    </tr>\n",
              "    <tr>\n",
              "      <th>2</th>\n",
              "      <td>0.00</td>\n",
              "      <td>585.00</td>\n",
              "      <td>130.00</td>\n",
              "      <td>455.00</td>\n",
              "      <td>420.00</td>\n",
              "      <td>482.00</td>\n",
              "      <td>1614.00</td>\n",
              "      <td>48.20</td>\n",
              "      <td>161.40</td>\n",
              "      <td>299.74</td>\n",
              "    </tr>\n",
              "    <tr>\n",
              "      <th>3</th>\n",
              "      <td>0.00</td>\n",
              "      <td>0.00</td>\n",
              "      <td>0.00</td>\n",
              "      <td>0.00</td>\n",
              "      <td>0.00</td>\n",
              "      <td>694.00</td>\n",
              "      <td>1725.00</td>\n",
              "      <td>69.40</td>\n",
              "      <td>172.50</td>\n",
              "      <td>355.17</td>\n",
              "    </tr>\n",
              "    <tr>\n",
              "      <th>4</th>\n",
              "      <td>30.00</td>\n",
              "      <td>165.00</td>\n",
              "      <td>90.00</td>\n",
              "      <td>45.00</td>\n",
              "      <td>60.00</td>\n",
              "      <td>789.00</td>\n",
              "      <td>1675.00</td>\n",
              "      <td>78.90</td>\n",
              "      <td>167.50</td>\n",
              "      <td>299.74</td>\n",
              "    </tr>\n",
              "    <tr>\n",
              "      <th>...</th>\n",
              "      <td>...</td>\n",
              "      <td>...</td>\n",
              "      <td>...</td>\n",
              "      <td>...</td>\n",
              "      <td>...</td>\n",
              "      <td>...</td>\n",
              "      <td>...</td>\n",
              "      <td>...</td>\n",
              "      <td>...</td>\n",
              "      <td>...</td>\n",
              "    </tr>\n",
              "    <tr>\n",
              "      <th>16551</th>\n",
              "      <td>30.00</td>\n",
              "      <td>400.00</td>\n",
              "      <td>110.00</td>\n",
              "      <td>260.00</td>\n",
              "      <td>240.00</td>\n",
              "      <td>567.00</td>\n",
              "      <td>1679.00</td>\n",
              "      <td>56.70</td>\n",
              "      <td>167.90</td>\n",
              "      <td>447.82</td>\n",
              "    </tr>\n",
              "    <tr>\n",
              "      <th>16552</th>\n",
              "      <td>20.00</td>\n",
              "      <td>800.00</td>\n",
              "      <td>325.00</td>\n",
              "      <td>455.00</td>\n",
              "      <td>240.00</td>\n",
              "      <td>619.00</td>\n",
              "      <td>1858.00</td>\n",
              "      <td>61.90</td>\n",
              "      <td>185.80</td>\n",
              "      <td>592.51</td>\n",
              "    </tr>\n",
              "    <tr>\n",
              "      <th>16553</th>\n",
              "      <td>0.00</td>\n",
              "      <td>0.00</td>\n",
              "      <td>0.00</td>\n",
              "      <td>0.00</td>\n",
              "      <td>60.00</td>\n",
              "      <td>609.00</td>\n",
              "      <td>1594.00</td>\n",
              "      <td>60.90</td>\n",
              "      <td>159.40</td>\n",
              "      <td>401.13</td>\n",
              "    </tr>\n",
              "    <tr>\n",
              "      <th>16554</th>\n",
              "      <td>75.00</td>\n",
              "      <td>215.00</td>\n",
              "      <td>35.00</td>\n",
              "      <td>105.00</td>\n",
              "      <td>120.00</td>\n",
              "      <td>473.00</td>\n",
              "      <td>1578.00</td>\n",
              "      <td>47.30</td>\n",
              "      <td>157.80</td>\n",
              "      <td>442.72</td>\n",
              "    </tr>\n",
              "    <tr>\n",
              "      <th>16555</th>\n",
              "      <td>50.00</td>\n",
              "      <td>485.00</td>\n",
              "      <td>110.00</td>\n",
              "      <td>325.00</td>\n",
              "      <td>360.00</td>\n",
              "      <td>626.00</td>\n",
              "      <td>1639.00</td>\n",
              "      <td>62.60</td>\n",
              "      <td>163.90</td>\n",
              "      <td>592.51</td>\n",
              "    </tr>\n",
              "  </tbody>\n",
              "</table>\n",
              "<p>16556 rows × 10 columns</p>\n",
              "</div>"
            ],
            "text/plain": [
              "       TEMPODESLOC  TEMPOTOTAL  TEMPOEDFIS  ...  VB17003  VB17004   PESO\n",
              "0             0.00       15.00        0.00  ...    37.10   157.00 299.74\n",
              "1           120.00      510.00      260.00  ...    50.20   152.00 355.17\n",
              "2             0.00      585.00      130.00  ...    48.20   161.40 299.74\n",
              "3             0.00        0.00        0.00  ...    69.40   172.50 355.17\n",
              "4            30.00      165.00       90.00  ...    78.90   167.50 299.74\n",
              "...            ...         ...         ...  ...      ...      ...    ...\n",
              "16551        30.00      400.00      110.00  ...    56.70   167.90 447.82\n",
              "16552        20.00      800.00      325.00  ...    61.90   185.80 592.51\n",
              "16553         0.00        0.00        0.00  ...    60.90   159.40 401.13\n",
              "16554        75.00      215.00       35.00  ...    47.30   157.80 442.72\n",
              "16555        50.00      485.00      110.00  ...    62.60   163.90 592.51\n",
              "\n",
              "[16556 rows x 10 columns]"
            ]
          },
          "metadata": {
            "tags": []
          },
          "execution_count": 15
        }
      ]
    },
    {
      "cell_type": "markdown",
      "metadata": {
        "id": "P7pY1bfk3KSY"
      },
      "source": [
        "### Challenge 03: Classify the data as qualitative or quantitative."
      ]
    },
    {
      "cell_type": "markdown",
      "metadata": {
        "id": "vew5usW67CFY"
      },
      "source": [
        "For this challenge I chose 10 columns:"
      ]
    },
    {
      "cell_type": "code",
      "metadata": {
        "colab": {
          "base_uri": "https://localhost:8080/"
        },
        "id": "xEvA_jzc3dDG",
        "outputId": "8d8b5538-7b60-43d4-8b64-13f4f3819f48"
      },
      "source": [
        "df.columns[15:25]"
      ],
      "execution_count": null,
      "outputs": [
        {
          "output_type": "execute_result",
          "data": {
            "text/plain": [
              "Index(['VB01013', 'VB01014', 'VB01015A', 'VB01016', 'VB01017', 'VB01018',\n",
              "       'VB01019', 'VB01020A', 'VB01021', 'VB01022'],\n",
              "      dtype='object')"
            ]
          },
          "metadata": {
            "tags": []
          },
          "execution_count": 16
        }
      ]
    },
    {
      "cell_type": "markdown",
      "metadata": {
        "id": "8H6xKDfa7jgp"
      },
      "source": [
        "\n",
        "\n",
        "---\n",
        "\n",
        "\n",
        "1.   VB01013 - Is there a residential phone in your house? Answers: Yes / No / Uninformed\n",
        "**R: Nominal Qualitative**\n",
        "\n",
        "\n",
        "\n",
        "---\n",
        "\n",
        "\n",
        "\n",
        "2.   VB01014 - Do you have a cell phone? Answers: Yes / No / Uninformed\n",
        "**R: Nominal Qualitative**\n",
        "\n",
        "\n",
        "\n",
        "---\n",
        "\n",
        "\n",
        "\n",
        "3.   VB01015A - Is there any type of computer in your house? Answers: Yes / No / Uninformed\n",
        "**R: Nominal Qualitative**\n",
        "\n",
        "---\n",
        "\n",
        "4.   VB01016 - Is there internet connection in your house? Answers: Yes / No / Uninformed\n",
        "**R: Nominal Qualitative**\n",
        "\n",
        "---\n",
        "\n",
        "5.   VB01017 - Does anybody living your house has a car? Answers: Yes / No / Uninformed\n",
        "**R: Nominal Qualitative**\n",
        "\n",
        "---\n",
        "\n",
        "6.   VB01018 - Does anybody living your house has a motorcycle? Answers: Yes / No / Uninformed\n",
        "**R: Nominal Qualitative**\n",
        "\n",
        "---\n",
        "\n",
        "7.   VB01019 - How many bathrooms (with shower) are in your house? Answers: None / 1 / 2 / 3 / 4 or more / Uninformed\n",
        "**R: Discrete Quantitative**\n",
        "\n",
        "---\n",
        "\n",
        "8.   VB01020A - Is there a domestic employee working in your home, three or more days a week? Answers: Yes / No / Uninformed\n",
        "**R: Nominal Qualitative**\n",
        "\n",
        "---\n",
        "\n",
        "9.   VB01021 - What grade are you at school? Answers: 5th Elem. / 6th Elem. / 7th Elem. / 8th Elem. / 1st High School / 2nd High School / 3th High School / Uninformed\n",
        "**R: Ordinal Qualitative**\n",
        "\n",
        "---\n",
        "\n",
        "10.  VB01022 - What shift do you study? Answers: Morning / Intermediate / Afternoon / Full time / Uninformed\n",
        "**R: Nominal Qualitative**\n",
        "\n",
        "---\n",
        "\n",
        "\n"
      ]
    },
    {
      "cell_type": "markdown",
      "metadata": {
        "id": "RyKkgp3Hc4Pm"
      },
      "source": [
        "# Qualitative Data and Frequency Tables"
      ]
    },
    {
      "cell_type": "markdown",
      "metadata": {
        "id": "O9gwROxAdGLu"
      },
      "source": [
        "## Frequency Table"
      ]
    },
    {
      "cell_type": "code",
      "metadata": {
        "colab": {
          "base_uri": "https://localhost:8080/"
        },
        "id": "ND4wxBpT7Y5d",
        "outputId": "9ff9e92a-5dc6-45ef-e92c-7753ce629a45"
      },
      "source": [
        "# Checking the number of males and females who answered the survey\n",
        "\n",
        "df['VB01001'].value_counts()"
      ],
      "execution_count": null,
      "outputs": [
        {
          "output_type": "execute_result",
          "data": {
            "text/plain": [
              "1    8287\n",
              "2    8269\n",
              "Name: VB01001, dtype: int64"
            ]
          },
          "metadata": {
            "tags": []
          },
          "execution_count": 17
        }
      ]
    },
    {
      "cell_type": "code",
      "metadata": {
        "colab": {
          "base_uri": "https://localhost:8080/"
        },
        "id": "YinIHIBMfTbI",
        "outputId": "650f944e-3538-47c0-c52e-60634668b257"
      },
      "source": [
        "# Checking the percentage of males and females\n",
        "\n",
        "df['VB01001'].value_counts(normalize = True) * 100"
      ],
      "execution_count": null,
      "outputs": [
        {
          "output_type": "execute_result",
          "data": {
            "text/plain": [
              "1   50.05\n",
              "2   49.95\n",
              "Name: VB01001, dtype: float64"
            ]
          },
          "metadata": {
            "tags": []
          },
          "execution_count": 18
        }
      ]
    },
    {
      "cell_type": "markdown",
      "metadata": {
        "id": "2FMPmSQOfiRL"
      },
      "source": [
        "The number of males and females who answered the survey were similar, about 50% of each gender. That was pre-settled to avoid biases in the research.\n",
        "\n",
        "However, there are other questions that it will be possible to verify the difference in the frequency. For example, question VB11007 - Level of satisfaction with their own body"
      ]
    },
    {
      "cell_type": "code",
      "metadata": {
        "id": "nCLMzzwQfYSX"
      },
      "source": [
        "frequency = df['VB11007'].value_counts()\n",
        "percentage = df['VB11007'].value_counts(normalize=True)*100"
      ],
      "execution_count": null,
      "outputs": []
    },
    {
      "cell_type": "code",
      "metadata": {
        "colab": {
          "base_uri": "https://localhost:8080/",
          "height": 235
        },
        "id": "8Ss04t17jqyb",
        "outputId": "220f108f-df01-4880-d311-88c205ae4276"
      },
      "source": [
        "answers = {\n",
        "    1: 'Very satisfied',\n",
        "    2: 'Satisfied',\n",
        "    3: 'Indifferent',\n",
        "    4: 'Unsatisfied',\n",
        "    5: 'Very unsatisfied',\n",
        "    99: 'Uninformed'\n",
        "}\n",
        "\n",
        "dist_freq = pd.DataFrame({'Frequency': frequency, 'Percentage': percentage })\n",
        "dist_freq.rename(index = answers, inplace = True)\n",
        "dist_freq.rename_axis('Satisfaction with the own body', axis=1, inplace = True)\n",
        "dist_freq"
      ],
      "execution_count": null,
      "outputs": [
        {
          "output_type": "execute_result",
          "data": {
            "text/html": [
              "<div>\n",
              "<style scoped>\n",
              "    .dataframe tbody tr th:only-of-type {\n",
              "        vertical-align: middle;\n",
              "    }\n",
              "\n",
              "    .dataframe tbody tr th {\n",
              "        vertical-align: top;\n",
              "    }\n",
              "\n",
              "    .dataframe thead th {\n",
              "        text-align: right;\n",
              "    }\n",
              "</style>\n",
              "<table border=\"1\" class=\"dataframe\">\n",
              "  <thead>\n",
              "    <tr style=\"text-align: right;\">\n",
              "      <th>Satisfaction with the own body</th>\n",
              "      <th>Frequency</th>\n",
              "      <th>Percentage</th>\n",
              "    </tr>\n",
              "  </thead>\n",
              "  <tbody>\n",
              "    <tr>\n",
              "      <th>Satisfied</th>\n",
              "      <td>6920</td>\n",
              "      <td>41.80</td>\n",
              "    </tr>\n",
              "    <tr>\n",
              "      <th>Very satisfied</th>\n",
              "      <td>4608</td>\n",
              "      <td>27.83</td>\n",
              "    </tr>\n",
              "    <tr>\n",
              "      <th>Unsatisfied</th>\n",
              "      <td>2326</td>\n",
              "      <td>14.05</td>\n",
              "    </tr>\n",
              "    <tr>\n",
              "      <th>Indifferent</th>\n",
              "      <td>1807</td>\n",
              "      <td>10.91</td>\n",
              "    </tr>\n",
              "    <tr>\n",
              "      <th>Very unsatisfied</th>\n",
              "      <td>714</td>\n",
              "      <td>4.31</td>\n",
              "    </tr>\n",
              "    <tr>\n",
              "      <th>Uninformed</th>\n",
              "      <td>181</td>\n",
              "      <td>1.09</td>\n",
              "    </tr>\n",
              "  </tbody>\n",
              "</table>\n",
              "</div>"
            ],
            "text/plain": [
              "Satisfaction with the own body  Frequency  Percentage\n",
              "Satisfied                            6920       41.80\n",
              "Very satisfied                       4608       27.83\n",
              "Unsatisfied                          2326       14.05\n",
              "Indifferent                          1807       10.91\n",
              "Very unsatisfied                      714        4.31\n",
              "Uninformed                            181        1.09"
            ]
          },
          "metadata": {
            "tags": []
          },
          "execution_count": 20
        }
      ]
    },
    {
      "cell_type": "markdown",
      "metadata": {
        "id": "2AILvjJck1nI"
      },
      "source": [
        "### Challenge 04: Create a function to generate frequency tables and analyze other informations"
      ]
    },
    {
      "cell_type": "code",
      "metadata": {
        "id": "iYPaquxZjrnz"
      },
      "source": [
        "# Defining a function to create a new frequency table\n",
        "\n",
        "def create_freq_table(dataframe, selected_column, classes, index_title):\n",
        "\n",
        "  freq = df[selected_column].value_counts()\n",
        "  perc = df[selected_column].value_counts(normalize=True)*100\n",
        "\n",
        "  df_freq = pd.DataFrame({'Frequency': freq, 'Percentage': perc})\n",
        "  df_freq.rename(index = classes, inplace = True)\n",
        "  df_freq.rename_axis(index_title, axis=1, inplace = True)\n",
        "  \n",
        "  return df_freq"
      ],
      "execution_count": null,
      "outputs": []
    },
    {
      "cell_type": "code",
      "metadata": {
        "id": "xx_oRiP8JQ0D"
      },
      "source": [
        "dict_body = {1: 'Very Thin', \n",
        "             2: 'Skinny',\n",
        "             3: 'Normal',\n",
        "             4: 'Fat',\n",
        "             5: 'Very Fat',\n",
        "             99: 'Uninformed'}"
      ],
      "execution_count": null,
      "outputs": []
    },
    {
      "cell_type": "code",
      "metadata": {
        "colab": {
          "base_uri": "https://localhost:8080/",
          "height": 235
        },
        "id": "dmb9p6h2NgbC",
        "outputId": "93838e42-de27-4f08-8d14-f5f290b376bc"
      },
      "source": [
        "create_freq_table(df, 'VB11001', dict_body, 'How do you consider yourself in relation to your body')"
      ],
      "execution_count": null,
      "outputs": [
        {
          "output_type": "execute_result",
          "data": {
            "text/html": [
              "<div>\n",
              "<style scoped>\n",
              "    .dataframe tbody tr th:only-of-type {\n",
              "        vertical-align: middle;\n",
              "    }\n",
              "\n",
              "    .dataframe tbody tr th {\n",
              "        vertical-align: top;\n",
              "    }\n",
              "\n",
              "    .dataframe thead th {\n",
              "        text-align: right;\n",
              "    }\n",
              "</style>\n",
              "<table border=\"1\" class=\"dataframe\">\n",
              "  <thead>\n",
              "    <tr style=\"text-align: right;\">\n",
              "      <th>How do you consider yourself in relation to your body</th>\n",
              "      <th>Frequency</th>\n",
              "      <th>Percentage</th>\n",
              "    </tr>\n",
              "  </thead>\n",
              "  <tbody>\n",
              "    <tr>\n",
              "      <th>Normal</th>\n",
              "      <td>8822</td>\n",
              "      <td>53.29</td>\n",
              "    </tr>\n",
              "    <tr>\n",
              "      <th>Skinny</th>\n",
              "      <td>3261</td>\n",
              "      <td>19.70</td>\n",
              "    </tr>\n",
              "    <tr>\n",
              "      <th>Fat</th>\n",
              "      <td>2951</td>\n",
              "      <td>17.82</td>\n",
              "    </tr>\n",
              "    <tr>\n",
              "      <th>Very Thin</th>\n",
              "      <td>952</td>\n",
              "      <td>5.75</td>\n",
              "    </tr>\n",
              "    <tr>\n",
              "      <th>Very Fat</th>\n",
              "      <td>411</td>\n",
              "      <td>2.48</td>\n",
              "    </tr>\n",
              "    <tr>\n",
              "      <th>Uninformed</th>\n",
              "      <td>159</td>\n",
              "      <td>0.96</td>\n",
              "    </tr>\n",
              "  </tbody>\n",
              "</table>\n",
              "</div>"
            ],
            "text/plain": [
              "How do you consider yourself in relation to your body  Frequency  Percentage\n",
              "Normal                                                      8822       53.29\n",
              "Skinny                                                      3261       19.70\n",
              "Fat                                                         2951       17.82\n",
              "Very Thin                                                    952        5.75\n",
              "Very Fat                                                     411        2.48\n",
              "Uninformed                                                   159        0.96"
            ]
          },
          "metadata": {
            "tags": []
          },
          "execution_count": 23
        }
      ]
    },
    {
      "cell_type": "code",
      "metadata": {
        "id": "Q03xQXxgOQP6"
      },
      "source": [
        "dict_weight = {1: 'Nothing',\n",
        "               2: 'Trying to lose weight',\n",
        "               3: 'Trying to gain weight',\n",
        "               4: 'Trying to maintain the same weight',\n",
        "               99: 'Uninformed'}"
      ],
      "execution_count": null,
      "outputs": []
    },
    {
      "cell_type": "code",
      "metadata": {
        "colab": {
          "base_uri": "https://localhost:8080/",
          "height": 204
        },
        "id": "dFLPAvsVN4Dz",
        "outputId": "8f944f9c-420a-4a8b-eb09-2dfaa07462b3"
      },
      "source": [
        "create_freq_table(df, 'VB11002', dict_weight, 'What are you doing about your weight?')"
      ],
      "execution_count": null,
      "outputs": [
        {
          "output_type": "execute_result",
          "data": {
            "text/html": [
              "<div>\n",
              "<style scoped>\n",
              "    .dataframe tbody tr th:only-of-type {\n",
              "        vertical-align: middle;\n",
              "    }\n",
              "\n",
              "    .dataframe tbody tr th {\n",
              "        vertical-align: top;\n",
              "    }\n",
              "\n",
              "    .dataframe thead th {\n",
              "        text-align: right;\n",
              "    }\n",
              "</style>\n",
              "<table border=\"1\" class=\"dataframe\">\n",
              "  <thead>\n",
              "    <tr style=\"text-align: right;\">\n",
              "      <th>What are you doing about your weight?</th>\n",
              "      <th>Frequency</th>\n",
              "      <th>Percentage</th>\n",
              "    </tr>\n",
              "  </thead>\n",
              "  <tbody>\n",
              "    <tr>\n",
              "      <th>Nothing</th>\n",
              "      <td>6169</td>\n",
              "      <td>37.26</td>\n",
              "    </tr>\n",
              "    <tr>\n",
              "      <th>Trying to lose weight</th>\n",
              "      <td>4688</td>\n",
              "      <td>28.32</td>\n",
              "    </tr>\n",
              "    <tr>\n",
              "      <th>Trying to maintain the same weight</th>\n",
              "      <td>2859</td>\n",
              "      <td>17.27</td>\n",
              "    </tr>\n",
              "    <tr>\n",
              "      <th>Trying to gain weight</th>\n",
              "      <td>2674</td>\n",
              "      <td>16.15</td>\n",
              "    </tr>\n",
              "    <tr>\n",
              "      <th>Uninformed</th>\n",
              "      <td>166</td>\n",
              "      <td>1.00</td>\n",
              "    </tr>\n",
              "  </tbody>\n",
              "</table>\n",
              "</div>"
            ],
            "text/plain": [
              "What are you doing about your weight?  Frequency  Percentage\n",
              "Nothing                                     6169       37.26\n",
              "Trying to lose weight                       4688       28.32\n",
              "Trying to maintain the same weight          2859       17.27\n",
              "Trying to gain weight                       2674       16.15\n",
              "Uninformed                                   166        1.00"
            ]
          },
          "metadata": {
            "tags": []
          },
          "execution_count": 25
        }
      ]
    },
    {
      "cell_type": "markdown",
      "metadata": {
        "id": "TuLsOX6FPher"
      },
      "source": [
        "Evaluating both frequency tables, it is possible to infer that despite most of the students consider having a 'normal' body, most of them are trying to do something about their weight, like lose, gain or maintain the weight."
      ]
    },
    {
      "cell_type": "markdown",
      "metadata": {
        "id": "Hp5fjwOFO8uy"
      },
      "source": [
        "# Continuous Data Frequency and Pandas CrossTab"
      ]
    },
    {
      "cell_type": "markdown",
      "metadata": {
        "id": "xGF1NkRmpQD6"
      },
      "source": [
        "## Quantitative Data and Frequency Tables"
      ]
    },
    {
      "cell_type": "code",
      "metadata": {
        "colab": {
          "base_uri": "https://localhost:8080/"
        },
        "id": "P0xhM9gaOy6h",
        "outputId": "258bc517-016d-4fc5-a418-5680d347c976"
      },
      "source": [
        "# Calculating the student's BMI\n",
        "\n",
        "df['BMI'] = df['VB17003'] / ((df['VB17004']/100)**2)\n",
        "df['BMI']"
      ],
      "execution_count": null,
      "outputs": [
        {
          "output_type": "execute_result",
          "data": {
            "text/plain": [
              "0       15.05\n",
              "1       21.73\n",
              "2       18.50\n",
              "3       23.32\n",
              "4       28.12\n",
              "         ... \n",
              "16551   20.11\n",
              "16552   17.93\n",
              "16553   23.97\n",
              "16554   19.00\n",
              "16555   23.30\n",
              "Name: BMI, Length: 16556, dtype: float64"
            ]
          },
          "metadata": {
            "tags": []
          },
          "execution_count": 26
        }
      ]
    },
    {
      "cell_type": "code",
      "metadata": {
        "colab": {
          "base_uri": "https://localhost:8080/",
          "height": 419
        },
        "id": "g3u7eARknM0o",
        "outputId": "81da64e5-ec81-4192-d185-ebea370051f8"
      },
      "source": [
        "# Classifying\n",
        "\n",
        "classes = [0, 18.5, 25, 30, 60]\n",
        "labels = ['Underweight', 'Normal Range', 'Overweight', 'Obese']\n",
        "\n",
        "df['BMI_CLASSES'] = pd.cut(x = df['BMI'],\n",
        "                           bins = classes,\n",
        "                           labels = labels,\n",
        "                           include_lowest = True)\n",
        "\n",
        "df[['BMI', 'BMI_CLASSES']]"
      ],
      "execution_count": null,
      "outputs": [
        {
          "output_type": "execute_result",
          "data": {
            "text/html": [
              "<div>\n",
              "<style scoped>\n",
              "    .dataframe tbody tr th:only-of-type {\n",
              "        vertical-align: middle;\n",
              "    }\n",
              "\n",
              "    .dataframe tbody tr th {\n",
              "        vertical-align: top;\n",
              "    }\n",
              "\n",
              "    .dataframe thead th {\n",
              "        text-align: right;\n",
              "    }\n",
              "</style>\n",
              "<table border=\"1\" class=\"dataframe\">\n",
              "  <thead>\n",
              "    <tr style=\"text-align: right;\">\n",
              "      <th></th>\n",
              "      <th>BMI</th>\n",
              "      <th>BMI_CLASSES</th>\n",
              "    </tr>\n",
              "  </thead>\n",
              "  <tbody>\n",
              "    <tr>\n",
              "      <th>0</th>\n",
              "      <td>15.05</td>\n",
              "      <td>Underweight</td>\n",
              "    </tr>\n",
              "    <tr>\n",
              "      <th>1</th>\n",
              "      <td>21.73</td>\n",
              "      <td>Normal Range</td>\n",
              "    </tr>\n",
              "    <tr>\n",
              "      <th>2</th>\n",
              "      <td>18.50</td>\n",
              "      <td>Normal Range</td>\n",
              "    </tr>\n",
              "    <tr>\n",
              "      <th>3</th>\n",
              "      <td>23.32</td>\n",
              "      <td>Normal Range</td>\n",
              "    </tr>\n",
              "    <tr>\n",
              "      <th>4</th>\n",
              "      <td>28.12</td>\n",
              "      <td>Overweight</td>\n",
              "    </tr>\n",
              "    <tr>\n",
              "      <th>...</th>\n",
              "      <td>...</td>\n",
              "      <td>...</td>\n",
              "    </tr>\n",
              "    <tr>\n",
              "      <th>16551</th>\n",
              "      <td>20.11</td>\n",
              "      <td>Normal Range</td>\n",
              "    </tr>\n",
              "    <tr>\n",
              "      <th>16552</th>\n",
              "      <td>17.93</td>\n",
              "      <td>Underweight</td>\n",
              "    </tr>\n",
              "    <tr>\n",
              "      <th>16553</th>\n",
              "      <td>23.97</td>\n",
              "      <td>Normal Range</td>\n",
              "    </tr>\n",
              "    <tr>\n",
              "      <th>16554</th>\n",
              "      <td>19.00</td>\n",
              "      <td>Normal Range</td>\n",
              "    </tr>\n",
              "    <tr>\n",
              "      <th>16555</th>\n",
              "      <td>23.30</td>\n",
              "      <td>Normal Range</td>\n",
              "    </tr>\n",
              "  </tbody>\n",
              "</table>\n",
              "<p>16556 rows × 2 columns</p>\n",
              "</div>"
            ],
            "text/plain": [
              "        BMI   BMI_CLASSES\n",
              "0     15.05   Underweight\n",
              "1     21.73  Normal Range\n",
              "2     18.50  Normal Range\n",
              "3     23.32  Normal Range\n",
              "4     28.12    Overweight\n",
              "...     ...           ...\n",
              "16551 20.11  Normal Range\n",
              "16552 17.93   Underweight\n",
              "16553 23.97  Normal Range\n",
              "16554 19.00  Normal Range\n",
              "16555 23.30  Normal Range\n",
              "\n",
              "[16556 rows x 2 columns]"
            ]
          },
          "metadata": {
            "tags": []
          },
          "execution_count": 27
        }
      ]
    },
    {
      "cell_type": "code",
      "metadata": {
        "colab": {
          "base_uri": "https://localhost:8080/",
          "height": 173
        },
        "id": "Zh3uW3GfoAGW",
        "outputId": "5aa65df8-f2ce-4a1c-96f4-0de4e34ac088"
      },
      "source": [
        "create_freq_table(df, 'BMI_CLASSES', df['BMI_CLASSES'], index_title='Weight Status')"
      ],
      "execution_count": null,
      "outputs": [
        {
          "output_type": "execute_result",
          "data": {
            "text/html": [
              "<div>\n",
              "<style scoped>\n",
              "    .dataframe tbody tr th:only-of-type {\n",
              "        vertical-align: middle;\n",
              "    }\n",
              "\n",
              "    .dataframe tbody tr th {\n",
              "        vertical-align: top;\n",
              "    }\n",
              "\n",
              "    .dataframe thead th {\n",
              "        text-align: right;\n",
              "    }\n",
              "</style>\n",
              "<table border=\"1\" class=\"dataframe\">\n",
              "  <thead>\n",
              "    <tr style=\"text-align: right;\">\n",
              "      <th>Weight Status</th>\n",
              "      <th>Frequency</th>\n",
              "      <th>Percentage</th>\n",
              "    </tr>\n",
              "  </thead>\n",
              "  <tbody>\n",
              "    <tr>\n",
              "      <th>Normal Range</th>\n",
              "      <td>9188</td>\n",
              "      <td>55.50</td>\n",
              "    </tr>\n",
              "    <tr>\n",
              "      <th>Underweight</th>\n",
              "      <td>4975</td>\n",
              "      <td>30.05</td>\n",
              "    </tr>\n",
              "    <tr>\n",
              "      <th>Overweight</th>\n",
              "      <td>1760</td>\n",
              "      <td>10.63</td>\n",
              "    </tr>\n",
              "    <tr>\n",
              "      <th>Obese</th>\n",
              "      <td>633</td>\n",
              "      <td>3.82</td>\n",
              "    </tr>\n",
              "  </tbody>\n",
              "</table>\n",
              "</div>"
            ],
            "text/plain": [
              "Weight Status  Frequency  Percentage\n",
              "Normal Range        9188       55.50\n",
              "Underweight         4975       30.05\n",
              "Overweight          1760       10.63\n",
              "Obese                633        3.82"
            ]
          },
          "metadata": {
            "tags": []
          },
          "execution_count": 28
        }
      ]
    },
    {
      "cell_type": "markdown",
      "metadata": {
        "id": "9G6wOQJ6pVyK"
      },
      "source": [
        "## Sturge's rule and Pandas CrossTab"
      ]
    },
    {
      "cell_type": "code",
      "metadata": {
        "colab": {
          "base_uri": "https://localhost:8080/"
        },
        "id": "BqblrCVfq8j6",
        "outputId": "7237871f-ac79-4520-f74d-d1c75409f84a"
      },
      "source": [
        "df['VB17004'].min()"
      ],
      "execution_count": null,
      "outputs": [
        {
          "output_type": "execute_result",
          "data": {
            "text/plain": [
              "124.1"
            ]
          },
          "metadata": {
            "tags": []
          },
          "execution_count": 29
        }
      ]
    },
    {
      "cell_type": "code",
      "metadata": {
        "colab": {
          "base_uri": "https://localhost:8080/"
        },
        "id": "YpeVvPtiq9I9",
        "outputId": "a1f4acae-e2c4-4ab9-b679-d4ed85850d97"
      },
      "source": [
        "df['VB17004'].max()"
      ],
      "execution_count": null,
      "outputs": [
        {
          "output_type": "execute_result",
          "data": {
            "text/plain": [
              "195.3"
            ]
          },
          "metadata": {
            "tags": []
          },
          "execution_count": 30
        }
      ]
    },
    {
      "cell_type": "code",
      "metadata": {
        "colab": {
          "base_uri": "https://localhost:8080/"
        },
        "id": "oKTbdCe7ogBb",
        "outputId": "2d5e8765-db18-44ab-a56b-073cb96fb6f5"
      },
      "source": [
        "sample_size = len(df)\n",
        "\n",
        "k = int(1 + ((10/3)*np.log10(sample_size)))\n",
        "k"
      ],
      "execution_count": null,
      "outputs": [
        {
          "output_type": "execute_result",
          "data": {
            "text/plain": [
              "15"
            ]
          },
          "metadata": {
            "tags": []
          },
          "execution_count": 31
        }
      ]
    },
    {
      "cell_type": "code",
      "metadata": {
        "colab": {
          "base_uri": "https://localhost:8080/",
          "height": 514
        },
        "id": "abkj6hSLqySm",
        "outputId": "a6f6d07e-f171-48e3-fc79-d739d4c994c2"
      },
      "source": [
        "df['HEIGHT_CLASSES'] = pd.cut(x = df['VB17004'],\n",
        "                              bins = k,\n",
        "                              include_lowest = True)\n",
        "\n",
        "create_freq_table(df, 'HEIGHT_CLASSES', df['HEIGHT_CLASSES'], 'Height classification')"
      ],
      "execution_count": null,
      "outputs": [
        {
          "output_type": "execute_result",
          "data": {
            "text/html": [
              "<div>\n",
              "<style scoped>\n",
              "    .dataframe tbody tr th:only-of-type {\n",
              "        vertical-align: middle;\n",
              "    }\n",
              "\n",
              "    .dataframe tbody tr th {\n",
              "        vertical-align: top;\n",
              "    }\n",
              "\n",
              "    .dataframe thead th {\n",
              "        text-align: right;\n",
              "    }\n",
              "</style>\n",
              "<table border=\"1\" class=\"dataframe\">\n",
              "  <thead>\n",
              "    <tr style=\"text-align: right;\">\n",
              "      <th>Height classification</th>\n",
              "      <th>Frequency</th>\n",
              "      <th>Percentage</th>\n",
              "    </tr>\n",
              "  </thead>\n",
              "  <tbody>\n",
              "    <tr>\n",
              "      <th>(157.327, 162.073]</th>\n",
              "      <td>3110</td>\n",
              "      <td>18.78</td>\n",
              "    </tr>\n",
              "    <tr>\n",
              "      <th>(152.58, 157.327]</th>\n",
              "      <td>2734</td>\n",
              "      <td>16.51</td>\n",
              "    </tr>\n",
              "    <tr>\n",
              "      <th>(162.073, 166.82]</th>\n",
              "      <td>2550</td>\n",
              "      <td>15.40</td>\n",
              "    </tr>\n",
              "    <tr>\n",
              "      <th>(166.82, 171.567]</th>\n",
              "      <td>2063</td>\n",
              "      <td>12.46</td>\n",
              "    </tr>\n",
              "    <tr>\n",
              "      <th>(147.833, 152.58]</th>\n",
              "      <td>1782</td>\n",
              "      <td>10.76</td>\n",
              "    </tr>\n",
              "    <tr>\n",
              "      <th>(171.567, 176.313]</th>\n",
              "      <td>1416</td>\n",
              "      <td>8.55</td>\n",
              "    </tr>\n",
              "    <tr>\n",
              "      <th>(143.087, 147.833]</th>\n",
              "      <td>1012</td>\n",
              "      <td>6.11</td>\n",
              "    </tr>\n",
              "    <tr>\n",
              "      <th>(176.313, 181.06]</th>\n",
              "      <td>749</td>\n",
              "      <td>4.52</td>\n",
              "    </tr>\n",
              "    <tr>\n",
              "      <th>(138.34, 143.087]</th>\n",
              "      <td>484</td>\n",
              "      <td>2.92</td>\n",
              "    </tr>\n",
              "    <tr>\n",
              "      <th>(181.06, 185.807]</th>\n",
              "      <td>300</td>\n",
              "      <td>1.81</td>\n",
              "    </tr>\n",
              "    <tr>\n",
              "      <th>(133.593, 138.34]</th>\n",
              "      <td>199</td>\n",
              "      <td>1.20</td>\n",
              "    </tr>\n",
              "    <tr>\n",
              "      <th>(185.807, 190.553]</th>\n",
              "      <td>94</td>\n",
              "      <td>0.57</td>\n",
              "    </tr>\n",
              "    <tr>\n",
              "      <th>(128.847, 133.593]</th>\n",
              "      <td>47</td>\n",
              "      <td>0.28</td>\n",
              "    </tr>\n",
              "    <tr>\n",
              "      <th>(190.553, 195.3]</th>\n",
              "      <td>13</td>\n",
              "      <td>0.08</td>\n",
              "    </tr>\n",
              "    <tr>\n",
              "      <th>(124.02799999999999, 128.847]</th>\n",
              "      <td>3</td>\n",
              "      <td>0.02</td>\n",
              "    </tr>\n",
              "  </tbody>\n",
              "</table>\n",
              "</div>"
            ],
            "text/plain": [
              "Height classification          Frequency  Percentage\n",
              "(157.327, 162.073]                  3110       18.78\n",
              "(152.58, 157.327]                   2734       16.51\n",
              "(162.073, 166.82]                   2550       15.40\n",
              "(166.82, 171.567]                   2063       12.46\n",
              "(147.833, 152.58]                   1782       10.76\n",
              "(171.567, 176.313]                  1416        8.55\n",
              "(143.087, 147.833]                  1012        6.11\n",
              "(176.313, 181.06]                    749        4.52\n",
              "(138.34, 143.087]                    484        2.92\n",
              "(181.06, 185.807]                    300        1.81\n",
              "(133.593, 138.34]                    199        1.20\n",
              "(185.807, 190.553]                    94        0.57\n",
              "(128.847, 133.593]                    47        0.28\n",
              "(190.553, 195.3]                      13        0.08\n",
              "(124.02799999999999, 128.847]          3        0.02"
            ]
          },
          "metadata": {
            "tags": []
          },
          "execution_count": 32
        }
      ]
    },
    {
      "cell_type": "code",
      "metadata": {
        "colab": {
          "base_uri": "https://localhost:8080/",
          "height": 266
        },
        "id": "RytV-EUpqsYk",
        "outputId": "f102ad27-c665-452c-b7b3-8f4f1eda0592"
      },
      "source": [
        "# Frequency table (normalized by total values): Level of satisfaction with their own body\n",
        "\n",
        "cross_freq = pd.crosstab(df['VB11007'], df['VB01001'], normalize = True)\n",
        "cross_freq.rename(index = answers, inplace = True)\n",
        "cross_freq.rename(columns = {1: 'Male', 2: 'Female'}, inplace = True)\n",
        "cross_freq"
      ],
      "execution_count": null,
      "outputs": [
        {
          "output_type": "execute_result",
          "data": {
            "text/html": [
              "<div>\n",
              "<style scoped>\n",
              "    .dataframe tbody tr th:only-of-type {\n",
              "        vertical-align: middle;\n",
              "    }\n",
              "\n",
              "    .dataframe tbody tr th {\n",
              "        vertical-align: top;\n",
              "    }\n",
              "\n",
              "    .dataframe thead th {\n",
              "        text-align: right;\n",
              "    }\n",
              "</style>\n",
              "<table border=\"1\" class=\"dataframe\">\n",
              "  <thead>\n",
              "    <tr style=\"text-align: right;\">\n",
              "      <th>VB01001</th>\n",
              "      <th>Male</th>\n",
              "      <th>Female</th>\n",
              "    </tr>\n",
              "    <tr>\n",
              "      <th>VB11007</th>\n",
              "      <th></th>\n",
              "      <th></th>\n",
              "    </tr>\n",
              "  </thead>\n",
              "  <tbody>\n",
              "    <tr>\n",
              "      <th>Very satisfied</th>\n",
              "      <td>0.16</td>\n",
              "      <td>0.12</td>\n",
              "    </tr>\n",
              "    <tr>\n",
              "      <th>Satisfied</th>\n",
              "      <td>0.21</td>\n",
              "      <td>0.21</td>\n",
              "    </tr>\n",
              "    <tr>\n",
              "      <th>Indifferent</th>\n",
              "      <td>0.06</td>\n",
              "      <td>0.05</td>\n",
              "    </tr>\n",
              "    <tr>\n",
              "      <th>Unsatisfied</th>\n",
              "      <td>0.05</td>\n",
              "      <td>0.09</td>\n",
              "    </tr>\n",
              "    <tr>\n",
              "      <th>Very unsatisfied</th>\n",
              "      <td>0.02</td>\n",
              "      <td>0.03</td>\n",
              "    </tr>\n",
              "    <tr>\n",
              "      <th>Uninformed</th>\n",
              "      <td>0.01</td>\n",
              "      <td>0.00</td>\n",
              "    </tr>\n",
              "  </tbody>\n",
              "</table>\n",
              "</div>"
            ],
            "text/plain": [
              "VB01001           Male  Female\n",
              "VB11007                       \n",
              "Very satisfied    0.16    0.12\n",
              "Satisfied         0.21    0.21\n",
              "Indifferent       0.06    0.05\n",
              "Unsatisfied       0.05    0.09\n",
              "Very unsatisfied  0.02    0.03\n",
              "Uninformed        0.01    0.00"
            ]
          },
          "metadata": {
            "tags": []
          },
          "execution_count": 33
        }
      ]
    },
    {
      "cell_type": "code",
      "metadata": {
        "colab": {
          "base_uri": "https://localhost:8080/",
          "height": 266
        },
        "id": "yoQIKDWur9Q2",
        "outputId": "619f335f-0ded-4cef-e119-9194fcc70382"
      },
      "source": [
        "# Frequency table (normalized by columns): Level of satisfaction with their own body\n",
        "\n",
        "cross_freq = pd.crosstab(df['VB11007'], df['VB01001'], normalize = 'columns') * 100\n",
        "cross_freq.rename(index = answers, inplace = True)\n",
        "cross_freq.rename(columns = {1: 'Male', 2: 'Female'}, inplace = True)\n",
        "cross_freq"
      ],
      "execution_count": null,
      "outputs": [
        {
          "output_type": "execute_result",
          "data": {
            "text/html": [
              "<div>\n",
              "<style scoped>\n",
              "    .dataframe tbody tr th:only-of-type {\n",
              "        vertical-align: middle;\n",
              "    }\n",
              "\n",
              "    .dataframe tbody tr th {\n",
              "        vertical-align: top;\n",
              "    }\n",
              "\n",
              "    .dataframe thead th {\n",
              "        text-align: right;\n",
              "    }\n",
              "</style>\n",
              "<table border=\"1\" class=\"dataframe\">\n",
              "  <thead>\n",
              "    <tr style=\"text-align: right;\">\n",
              "      <th>VB01001</th>\n",
              "      <th>Male</th>\n",
              "      <th>Female</th>\n",
              "    </tr>\n",
              "    <tr>\n",
              "      <th>VB11007</th>\n",
              "      <th></th>\n",
              "      <th></th>\n",
              "    </tr>\n",
              "  </thead>\n",
              "  <tbody>\n",
              "    <tr>\n",
              "      <th>Very satisfied</th>\n",
              "      <td>32.36</td>\n",
              "      <td>23.29</td>\n",
              "    </tr>\n",
              "    <tr>\n",
              "      <th>Satisfied</th>\n",
              "      <td>42.11</td>\n",
              "      <td>41.48</td>\n",
              "    </tr>\n",
              "    <tr>\n",
              "      <th>Indifferent</th>\n",
              "      <td>11.46</td>\n",
              "      <td>10.36</td>\n",
              "    </tr>\n",
              "    <tr>\n",
              "      <th>Unsatisfied</th>\n",
              "      <td>9.48</td>\n",
              "      <td>18.62</td>\n",
              "    </tr>\n",
              "    <tr>\n",
              "      <th>Very unsatisfied</th>\n",
              "      <td>3.14</td>\n",
              "      <td>5.49</td>\n",
              "    </tr>\n",
              "    <tr>\n",
              "      <th>Uninformed</th>\n",
              "      <td>1.44</td>\n",
              "      <td>0.75</td>\n",
              "    </tr>\n",
              "  </tbody>\n",
              "</table>\n",
              "</div>"
            ],
            "text/plain": [
              "VB01001           Male  Female\n",
              "VB11007                       \n",
              "Very satisfied   32.36   23.29\n",
              "Satisfied        42.11   41.48\n",
              "Indifferent      11.46   10.36\n",
              "Unsatisfied       9.48   18.62\n",
              "Very unsatisfied  3.14    5.49\n",
              "Uninformed        1.44    0.75"
            ]
          },
          "metadata": {
            "tags": []
          },
          "execution_count": 34
        }
      ]
    },
    {
      "cell_type": "code",
      "metadata": {
        "colab": {
          "base_uri": "https://localhost:8080/",
          "height": 266
        },
        "id": "r8BAt0ngsOIw",
        "outputId": "da6b6bca-0845-48ad-d42f-f6e4295a5c70"
      },
      "source": [
        "# Frequency table (normalized by index): Level of satisfaction with their own body\n",
        "\n",
        "cross_freq = pd.crosstab(df['VB11007'], df['VB01001'], normalize = 'index') * 100\n",
        "cross_freq.rename(index = answers, inplace = True)\n",
        "cross_freq.rename(columns = {1: 'Male', 2: 'Female'}, inplace = True)\n",
        "cross_freq"
      ],
      "execution_count": null,
      "outputs": [
        {
          "output_type": "execute_result",
          "data": {
            "text/html": [
              "<div>\n",
              "<style scoped>\n",
              "    .dataframe tbody tr th:only-of-type {\n",
              "        vertical-align: middle;\n",
              "    }\n",
              "\n",
              "    .dataframe tbody tr th {\n",
              "        vertical-align: top;\n",
              "    }\n",
              "\n",
              "    .dataframe thead th {\n",
              "        text-align: right;\n",
              "    }\n",
              "</style>\n",
              "<table border=\"1\" class=\"dataframe\">\n",
              "  <thead>\n",
              "    <tr style=\"text-align: right;\">\n",
              "      <th>VB01001</th>\n",
              "      <th>Male</th>\n",
              "      <th>Female</th>\n",
              "    </tr>\n",
              "    <tr>\n",
              "      <th>VB11007</th>\n",
              "      <th></th>\n",
              "      <th></th>\n",
              "    </tr>\n",
              "  </thead>\n",
              "  <tbody>\n",
              "    <tr>\n",
              "      <th>Very satisfied</th>\n",
              "      <td>58.20</td>\n",
              "      <td>41.80</td>\n",
              "    </tr>\n",
              "    <tr>\n",
              "      <th>Satisfied</th>\n",
              "      <td>50.43</td>\n",
              "      <td>49.57</td>\n",
              "    </tr>\n",
              "    <tr>\n",
              "      <th>Indifferent</th>\n",
              "      <td>52.57</td>\n",
              "      <td>47.43</td>\n",
              "    </tr>\n",
              "    <tr>\n",
              "      <th>Unsatisfied</th>\n",
              "      <td>33.79</td>\n",
              "      <td>66.21</td>\n",
              "    </tr>\n",
              "    <tr>\n",
              "      <th>Very unsatisfied</th>\n",
              "      <td>36.41</td>\n",
              "      <td>63.59</td>\n",
              "    </tr>\n",
              "    <tr>\n",
              "      <th>Uninformed</th>\n",
              "      <td>65.75</td>\n",
              "      <td>34.25</td>\n",
              "    </tr>\n",
              "  </tbody>\n",
              "</table>\n",
              "</div>"
            ],
            "text/plain": [
              "VB01001           Male  Female\n",
              "VB11007                       \n",
              "Very satisfied   58.20   41.80\n",
              "Satisfied        50.43   49.57\n",
              "Indifferent      52.57   47.43\n",
              "Unsatisfied      33.79   66.21\n",
              "Very unsatisfied 36.41   63.59\n",
              "Uninformed       65.75   34.25"
            ]
          },
          "metadata": {
            "tags": []
          },
          "execution_count": 35
        }
      ]
    },
    {
      "cell_type": "markdown",
      "metadata": {
        "id": "vvFJHCL_sYT_"
      },
      "source": [
        "### Challenge 05: Create a frequency table for weight "
      ]
    },
    {
      "cell_type": "markdown",
      "metadata": {
        "id": "uCz-Menva6zK"
      },
      "source": [
        "#### Verifying the data"
      ]
    },
    {
      "cell_type": "code",
      "metadata": {
        "colab": {
          "base_uri": "https://localhost:8080/"
        },
        "id": "wz78Q0c43f7e",
        "outputId": "f1f4a26d-0765-4891-e9b8-558dec655640"
      },
      "source": [
        "df['VB17003'].max()"
      ],
      "execution_count": null,
      "outputs": [
        {
          "output_type": "execute_result",
          "data": {
            "text/plain": [
              "171.5"
            ]
          },
          "metadata": {
            "tags": []
          },
          "execution_count": 36
        }
      ]
    },
    {
      "cell_type": "code",
      "metadata": {
        "colab": {
          "base_uri": "https://localhost:8080/",
          "height": 253
        },
        "id": "show03dIYpjm",
        "outputId": "d47c1431-7d96-4bb0-d34d-e81ddbb17975"
      },
      "source": [
        "df.nlargest(5, 'VB17003')"
      ],
      "execution_count": null,
      "outputs": [
        {
          "output_type": "execute_result",
          "data": {
            "text/html": [
              "<div>\n",
              "<style scoped>\n",
              "    .dataframe tbody tr th:only-of-type {\n",
              "        vertical-align: middle;\n",
              "    }\n",
              "\n",
              "    .dataframe tbody tr th {\n",
              "        vertical-align: top;\n",
              "    }\n",
              "\n",
              "    .dataframe thead th {\n",
              "        text-align: right;\n",
              "    }\n",
              "</style>\n",
              "<table border=\"1\" class=\"dataframe\">\n",
              "  <thead>\n",
              "    <tr style=\"text-align: right;\">\n",
              "      <th></th>\n",
              "      <th>ANOPESQ</th>\n",
              "      <th>PAIS</th>\n",
              "      <th>REGEOGR</th>\n",
              "      <th>VB00004</th>\n",
              "      <th>VB01001</th>\n",
              "      <th>VB01002</th>\n",
              "      <th>VB01003</th>\n",
              "      <th>VB01004</th>\n",
              "      <th>VB01005</th>\n",
              "      <th>VB01006</th>\n",
              "      <th>VB01007</th>\n",
              "      <th>VB01008A</th>\n",
              "      <th>VB01010A</th>\n",
              "      <th>VB01011</th>\n",
              "      <th>VB01012</th>\n",
              "      <th>VB01013</th>\n",
              "      <th>VB01014</th>\n",
              "      <th>VB01015A</th>\n",
              "      <th>VB01016</th>\n",
              "      <th>VB01017</th>\n",
              "      <th>VB01018</th>\n",
              "      <th>VB01019</th>\n",
              "      <th>VB01020A</th>\n",
              "      <th>VB01021</th>\n",
              "      <th>VB01022</th>\n",
              "      <th>VB01023</th>\n",
              "      <th>VB01024</th>\n",
              "      <th>VB01025</th>\n",
              "      <th>VB01026</th>\n",
              "      <th>VB02001</th>\n",
              "      <th>VB02002</th>\n",
              "      <th>VB02004A</th>\n",
              "      <th>VB02010</th>\n",
              "      <th>VB02011</th>\n",
              "      <th>VB02013</th>\n",
              "      <th>VB02017A</th>\n",
              "      <th>VB02018A</th>\n",
              "      <th>VB02019A</th>\n",
              "      <th>VB02020A</th>\n",
              "      <th>VB02021</th>\n",
              "      <th>...</th>\n",
              "      <th>VB12001</th>\n",
              "      <th>VB12002</th>\n",
              "      <th>VB12003</th>\n",
              "      <th>VB13001</th>\n",
              "      <th>VB13002A</th>\n",
              "      <th>VB13004A</th>\n",
              "      <th>VB13005</th>\n",
              "      <th>VB13006</th>\n",
              "      <th>VB13007</th>\n",
              "      <th>VB13008</th>\n",
              "      <th>VB13009</th>\n",
              "      <th>VB14001</th>\n",
              "      <th>VB14002</th>\n",
              "      <th>VB16001A01</th>\n",
              "      <th>VB16001A02</th>\n",
              "      <th>VB16001A03</th>\n",
              "      <th>VB16001A04</th>\n",
              "      <th>VB16001A05</th>\n",
              "      <th>VB16001A06</th>\n",
              "      <th>VB16001A07</th>\n",
              "      <th>VB16001A08</th>\n",
              "      <th>VB17001</th>\n",
              "      <th>VB17002</th>\n",
              "      <th>VB17003</th>\n",
              "      <th>VB17004</th>\n",
              "      <th>VB17005</th>\n",
              "      <th>VB17006</th>\n",
              "      <th>ESTRATO_EXP</th>\n",
              "      <th>ESTRATOGEOREG</th>\n",
              "      <th>PESO</th>\n",
              "      <th>V0006</th>\n",
              "      <th>V0007</th>\n",
              "      <th>V0008</th>\n",
              "      <th>V0041</th>\n",
              "      <th>aluno</th>\n",
              "      <th>escola</th>\n",
              "      <th>turma</th>\n",
              "      <th>BMI</th>\n",
              "      <th>BMI_CLASSES</th>\n",
              "      <th>HEIGHT_CLASSES</th>\n",
              "    </tr>\n",
              "  </thead>\n",
              "  <tbody>\n",
              "    <tr>\n",
              "      <th>12099</th>\n",
              "      <td>2015</td>\n",
              "      <td>76</td>\n",
              "      <td>4</td>\n",
              "      <td>1</td>\n",
              "      <td>1</td>\n",
              "      <td>1</td>\n",
              "      <td>16</td>\n",
              "      <td>8</td>\n",
              "      <td>4</td>\n",
              "      <td>1</td>\n",
              "      <td>1</td>\n",
              "      <td>7</td>\n",
              "      <td>4</td>\n",
              "      <td>1</td>\n",
              "      <td>1</td>\n",
              "      <td>1</td>\n",
              "      <td>2</td>\n",
              "      <td>1</td>\n",
              "      <td>1</td>\n",
              "      <td>1</td>\n",
              "      <td>1</td>\n",
              "      <td>3</td>\n",
              "      <td>2</td>\n",
              "      <td>6</td>\n",
              "      <td>3</td>\n",
              "      <td>2</td>\n",
              "      <td>2</td>\n",
              "      <td>3</td>\n",
              "      <td>4</td>\n",
              "      <td>6</td>\n",
              "      <td>1</td>\n",
              "      <td>8</td>\n",
              "      <td>4</td>\n",
              "      <td>7</td>\n",
              "      <td>5</td>\n",
              "      <td>1</td>\n",
              "      <td>6</td>\n",
              "      <td>6</td>\n",
              "      <td>4</td>\n",
              "      <td>1</td>\n",
              "      <td>...</td>\n",
              "      <td>1</td>\n",
              "      <td>4</td>\n",
              "      <td>4</td>\n",
              "      <td>1</td>\n",
              "      <td>2</td>\n",
              "      <td>3</td>\n",
              "      <td>3</td>\n",
              "      <td>1</td>\n",
              "      <td>-1</td>\n",
              "      <td>1</td>\n",
              "      <td>-1</td>\n",
              "      <td>1</td>\n",
              "      <td>1</td>\n",
              "      <td>2</td>\n",
              "      <td>2</td>\n",
              "      <td>1</td>\n",
              "      <td>2</td>\n",
              "      <td>2</td>\n",
              "      <td>2</td>\n",
              "      <td>2</td>\n",
              "      <td>2</td>\n",
              "      <td>1715.00</td>\n",
              "      <td>1755.00</td>\n",
              "      <td>171.50</td>\n",
              "      <td>175.50</td>\n",
              "      <td>2</td>\n",
              "      <td>4</td>\n",
              "      <td>4122</td>\n",
              "      <td>4</td>\n",
              "      <td>750.59</td>\n",
              "      <td>1</td>\n",
              "      <td>1</td>\n",
              "      <td>2</td>\n",
              "      <td>-1</td>\n",
              "      <td>12100</td>\n",
              "      <td>269</td>\n",
              "      <td>615</td>\n",
              "      <td>55.68</td>\n",
              "      <td>Obese</td>\n",
              "      <td>(171.567, 176.313]</td>\n",
              "    </tr>\n",
              "    <tr>\n",
              "      <th>9149</th>\n",
              "      <td>2015</td>\n",
              "      <td>76</td>\n",
              "      <td>3</td>\n",
              "      <td>1</td>\n",
              "      <td>1</td>\n",
              "      <td>1</td>\n",
              "      <td>17</td>\n",
              "      <td>2</td>\n",
              "      <td>4</td>\n",
              "      <td>1</td>\n",
              "      <td>2</td>\n",
              "      <td>7</td>\n",
              "      <td>4</td>\n",
              "      <td>2</td>\n",
              "      <td>-1</td>\n",
              "      <td>1</td>\n",
              "      <td>1</td>\n",
              "      <td>1</td>\n",
              "      <td>1</td>\n",
              "      <td>1</td>\n",
              "      <td>2</td>\n",
              "      <td>2</td>\n",
              "      <td>2</td>\n",
              "      <td>7</td>\n",
              "      <td>4</td>\n",
              "      <td>2</td>\n",
              "      <td>2</td>\n",
              "      <td>5</td>\n",
              "      <td>1</td>\n",
              "      <td>8</td>\n",
              "      <td>4</td>\n",
              "      <td>1</td>\n",
              "      <td>1</td>\n",
              "      <td>8</td>\n",
              "      <td>8</td>\n",
              "      <td>1</td>\n",
              "      <td>1</td>\n",
              "      <td>1</td>\n",
              "      <td>5</td>\n",
              "      <td>1</td>\n",
              "      <td>...</td>\n",
              "      <td>1</td>\n",
              "      <td>1</td>\n",
              "      <td>4</td>\n",
              "      <td>2</td>\n",
              "      <td>-1</td>\n",
              "      <td>2</td>\n",
              "      <td>5</td>\n",
              "      <td>1</td>\n",
              "      <td>13</td>\n",
              "      <td>1</td>\n",
              "      <td>-1</td>\n",
              "      <td>1</td>\n",
              "      <td>2</td>\n",
              "      <td>1</td>\n",
              "      <td>2</td>\n",
              "      <td>2</td>\n",
              "      <td>2</td>\n",
              "      <td>2</td>\n",
              "      <td>2</td>\n",
              "      <td>2</td>\n",
              "      <td>2</td>\n",
              "      <td>1691.00</td>\n",
              "      <td>1759.00</td>\n",
              "      <td>169.10</td>\n",
              "      <td>175.90</td>\n",
              "      <td>2</td>\n",
              "      <td>4</td>\n",
              "      <td>3123</td>\n",
              "      <td>3</td>\n",
              "      <td>4300.85</td>\n",
              "      <td>1</td>\n",
              "      <td>1</td>\n",
              "      <td>2</td>\n",
              "      <td>-1</td>\n",
              "      <td>9150</td>\n",
              "      <td>200</td>\n",
              "      <td>48</td>\n",
              "      <td>54.65</td>\n",
              "      <td>Obese</td>\n",
              "      <td>(171.567, 176.313]</td>\n",
              "    </tr>\n",
              "    <tr>\n",
              "      <th>12408</th>\n",
              "      <td>2015</td>\n",
              "      <td>76</td>\n",
              "      <td>4</td>\n",
              "      <td>1</td>\n",
              "      <td>2</td>\n",
              "      <td>4</td>\n",
              "      <td>14</td>\n",
              "      <td>9</td>\n",
              "      <td>6</td>\n",
              "      <td>1</td>\n",
              "      <td>1</td>\n",
              "      <td>2</td>\n",
              "      <td>9</td>\n",
              "      <td>2</td>\n",
              "      <td>-1</td>\n",
              "      <td>2</td>\n",
              "      <td>2</td>\n",
              "      <td>2</td>\n",
              "      <td>2</td>\n",
              "      <td>1</td>\n",
              "      <td>2</td>\n",
              "      <td>3</td>\n",
              "      <td>2</td>\n",
              "      <td>1</td>\n",
              "      <td>3</td>\n",
              "      <td>2</td>\n",
              "      <td>2</td>\n",
              "      <td>6</td>\n",
              "      <td>1</td>\n",
              "      <td>2</td>\n",
              "      <td>2</td>\n",
              "      <td>1</td>\n",
              "      <td>1</td>\n",
              "      <td>3</td>\n",
              "      <td>2</td>\n",
              "      <td>1</td>\n",
              "      <td>4</td>\n",
              "      <td>1</td>\n",
              "      <td>-1</td>\n",
              "      <td>3</td>\n",
              "      <td>...</td>\n",
              "      <td>1</td>\n",
              "      <td>1</td>\n",
              "      <td>2</td>\n",
              "      <td>1</td>\n",
              "      <td>1</td>\n",
              "      <td>1</td>\n",
              "      <td>1</td>\n",
              "      <td>1</td>\n",
              "      <td>7</td>\n",
              "      <td>1</td>\n",
              "      <td>2</td>\n",
              "      <td>2</td>\n",
              "      <td>2</td>\n",
              "      <td>1</td>\n",
              "      <td>2</td>\n",
              "      <td>2</td>\n",
              "      <td>2</td>\n",
              "      <td>2</td>\n",
              "      <td>2</td>\n",
              "      <td>2</td>\n",
              "      <td>2</td>\n",
              "      <td>1582.00</td>\n",
              "      <td>998.00</td>\n",
              "      <td>158.20</td>\n",
              "      <td>165.90</td>\n",
              "      <td>1</td>\n",
              "      <td>4</td>\n",
              "      <td>4121</td>\n",
              "      <td>4</td>\n",
              "      <td>686.90</td>\n",
              "      <td>1</td>\n",
              "      <td>1</td>\n",
              "      <td>3</td>\n",
              "      <td>-1</td>\n",
              "      <td>12409</td>\n",
              "      <td>276</td>\n",
              "      <td>554</td>\n",
              "      <td>57.48</td>\n",
              "      <td>Obese</td>\n",
              "      <td>(162.073, 166.82]</td>\n",
              "    </tr>\n",
              "    <tr>\n",
              "      <th>11864</th>\n",
              "      <td>2015</td>\n",
              "      <td>76</td>\n",
              "      <td>4</td>\n",
              "      <td>1</td>\n",
              "      <td>1</td>\n",
              "      <td>1</td>\n",
              "      <td>15</td>\n",
              "      <td>1</td>\n",
              "      <td>6</td>\n",
              "      <td>1</td>\n",
              "      <td>1</td>\n",
              "      <td>8</td>\n",
              "      <td>4</td>\n",
              "      <td>2</td>\n",
              "      <td>-1</td>\n",
              "      <td>1</td>\n",
              "      <td>1</td>\n",
              "      <td>1</td>\n",
              "      <td>1</td>\n",
              "      <td>1</td>\n",
              "      <td>2</td>\n",
              "      <td>3</td>\n",
              "      <td>2</td>\n",
              "      <td>5</td>\n",
              "      <td>1</td>\n",
              "      <td>2</td>\n",
              "      <td>2</td>\n",
              "      <td>4</td>\n",
              "      <td>5</td>\n",
              "      <td>1</td>\n",
              "      <td>8</td>\n",
              "      <td>8</td>\n",
              "      <td>2</td>\n",
              "      <td>5</td>\n",
              "      <td>3</td>\n",
              "      <td>2</td>\n",
              "      <td>1</td>\n",
              "      <td>6</td>\n",
              "      <td>-1</td>\n",
              "      <td>2</td>\n",
              "      <td>...</td>\n",
              "      <td>4</td>\n",
              "      <td>3</td>\n",
              "      <td>4</td>\n",
              "      <td>1</td>\n",
              "      <td>2</td>\n",
              "      <td>3</td>\n",
              "      <td>4</td>\n",
              "      <td>5</td>\n",
              "      <td>-1</td>\n",
              "      <td>2</td>\n",
              "      <td>-1</td>\n",
              "      <td>1</td>\n",
              "      <td>2</td>\n",
              "      <td>1</td>\n",
              "      <td>2</td>\n",
              "      <td>2</td>\n",
              "      <td>1</td>\n",
              "      <td>1</td>\n",
              "      <td>1</td>\n",
              "      <td>2</td>\n",
              "      <td>1</td>\n",
              "      <td>1565.00</td>\n",
              "      <td>1740.00</td>\n",
              "      <td>156.50</td>\n",
              "      <td>174.00</td>\n",
              "      <td>2</td>\n",
              "      <td>4</td>\n",
              "      <td>4222</td>\n",
              "      <td>4</td>\n",
              "      <td>158.42</td>\n",
              "      <td>1</td>\n",
              "      <td>2</td>\n",
              "      <td>4</td>\n",
              "      <td>1</td>\n",
              "      <td>11865</td>\n",
              "      <td>263</td>\n",
              "      <td>568</td>\n",
              "      <td>51.69</td>\n",
              "      <td>Obese</td>\n",
              "      <td>(171.567, 176.313]</td>\n",
              "    </tr>\n",
              "    <tr>\n",
              "      <th>2460</th>\n",
              "      <td>2015</td>\n",
              "      <td>76</td>\n",
              "      <td>1</td>\n",
              "      <td>1</td>\n",
              "      <td>1</td>\n",
              "      <td>2</td>\n",
              "      <td>15</td>\n",
              "      <td>12</td>\n",
              "      <td>5</td>\n",
              "      <td>1</td>\n",
              "      <td>1</td>\n",
              "      <td>7</td>\n",
              "      <td>4</td>\n",
              "      <td>2</td>\n",
              "      <td>-1</td>\n",
              "      <td>2</td>\n",
              "      <td>1</td>\n",
              "      <td>1</td>\n",
              "      <td>1</td>\n",
              "      <td>1</td>\n",
              "      <td>2</td>\n",
              "      <td>2</td>\n",
              "      <td>2</td>\n",
              "      <td>5</td>\n",
              "      <td>1</td>\n",
              "      <td>1</td>\n",
              "      <td>2</td>\n",
              "      <td>5</td>\n",
              "      <td>3</td>\n",
              "      <td>7</td>\n",
              "      <td>2</td>\n",
              "      <td>3</td>\n",
              "      <td>4</td>\n",
              "      <td>6</td>\n",
              "      <td>2</td>\n",
              "      <td>1</td>\n",
              "      <td>1</td>\n",
              "      <td>4</td>\n",
              "      <td>5</td>\n",
              "      <td>1</td>\n",
              "      <td>...</td>\n",
              "      <td>3</td>\n",
              "      <td>3</td>\n",
              "      <td>4</td>\n",
              "      <td>2</td>\n",
              "      <td>-1</td>\n",
              "      <td>1</td>\n",
              "      <td>2</td>\n",
              "      <td>1</td>\n",
              "      <td>12</td>\n",
              "      <td>1</td>\n",
              "      <td>-1</td>\n",
              "      <td>2</td>\n",
              "      <td>2</td>\n",
              "      <td>1</td>\n",
              "      <td>2</td>\n",
              "      <td>2</td>\n",
              "      <td>2</td>\n",
              "      <td>2</td>\n",
              "      <td>2</td>\n",
              "      <td>2</td>\n",
              "      <td>2</td>\n",
              "      <td>1556.00</td>\n",
              "      <td>1820.00</td>\n",
              "      <td>155.60</td>\n",
              "      <td>182.00</td>\n",
              "      <td>2</td>\n",
              "      <td>4</td>\n",
              "      <td>1122</td>\n",
              "      <td>1</td>\n",
              "      <td>789.43</td>\n",
              "      <td>1</td>\n",
              "      <td>1</td>\n",
              "      <td>2</td>\n",
              "      <td>-1</td>\n",
              "      <td>2461</td>\n",
              "      <td>55</td>\n",
              "      <td>370</td>\n",
              "      <td>46.98</td>\n",
              "      <td>Obese</td>\n",
              "      <td>(181.06, 185.807]</td>\n",
              "    </tr>\n",
              "  </tbody>\n",
              "</table>\n",
              "<p>5 rows × 184 columns</p>\n",
              "</div>"
            ],
            "text/plain": [
              "       ANOPESQ  PAIS  REGEOGR  ...   BMI  BMI_CLASSES      HEIGHT_CLASSES\n",
              "12099     2015    76        4  ... 55.68        Obese  (171.567, 176.313]\n",
              "9149      2015    76        3  ... 54.65        Obese  (171.567, 176.313]\n",
              "12408     2015    76        4  ... 57.48        Obese   (162.073, 166.82]\n",
              "11864     2015    76        4  ... 51.69        Obese  (171.567, 176.313]\n",
              "2460      2015    76        1  ... 46.98        Obese   (181.06, 185.807]\n",
              "\n",
              "[5 rows x 184 columns]"
            ]
          },
          "metadata": {
            "tags": []
          },
          "execution_count": 37
        }
      ]
    },
    {
      "cell_type": "code",
      "metadata": {
        "colab": {
          "base_uri": "https://localhost:8080/"
        },
        "id": "272wzLpu5O6u",
        "outputId": "df321a0b-afe9-4c6f-843b-b322f8fff61a"
      },
      "source": [
        "df['VB17003'].min()"
      ],
      "execution_count": null,
      "outputs": [
        {
          "output_type": "execute_result",
          "data": {
            "text/plain": [
              "0.8"
            ]
          },
          "metadata": {
            "tags": []
          },
          "execution_count": 38
        }
      ]
    },
    {
      "cell_type": "code",
      "metadata": {
        "colab": {
          "base_uri": "https://localhost:8080/",
          "height": 253
        },
        "id": "WzMXVedV2wJ6",
        "outputId": "2c64b638-534e-4fb9-d913-ff080d946024"
      },
      "source": [
        "df.nsmallest(5, 'VB17003')"
      ],
      "execution_count": null,
      "outputs": [
        {
          "output_type": "execute_result",
          "data": {
            "text/html": [
              "<div>\n",
              "<style scoped>\n",
              "    .dataframe tbody tr th:only-of-type {\n",
              "        vertical-align: middle;\n",
              "    }\n",
              "\n",
              "    .dataframe tbody tr th {\n",
              "        vertical-align: top;\n",
              "    }\n",
              "\n",
              "    .dataframe thead th {\n",
              "        text-align: right;\n",
              "    }\n",
              "</style>\n",
              "<table border=\"1\" class=\"dataframe\">\n",
              "  <thead>\n",
              "    <tr style=\"text-align: right;\">\n",
              "      <th></th>\n",
              "      <th>ANOPESQ</th>\n",
              "      <th>PAIS</th>\n",
              "      <th>REGEOGR</th>\n",
              "      <th>VB00004</th>\n",
              "      <th>VB01001</th>\n",
              "      <th>VB01002</th>\n",
              "      <th>VB01003</th>\n",
              "      <th>VB01004</th>\n",
              "      <th>VB01005</th>\n",
              "      <th>VB01006</th>\n",
              "      <th>VB01007</th>\n",
              "      <th>VB01008A</th>\n",
              "      <th>VB01010A</th>\n",
              "      <th>VB01011</th>\n",
              "      <th>VB01012</th>\n",
              "      <th>VB01013</th>\n",
              "      <th>VB01014</th>\n",
              "      <th>VB01015A</th>\n",
              "      <th>VB01016</th>\n",
              "      <th>VB01017</th>\n",
              "      <th>VB01018</th>\n",
              "      <th>VB01019</th>\n",
              "      <th>VB01020A</th>\n",
              "      <th>VB01021</th>\n",
              "      <th>VB01022</th>\n",
              "      <th>VB01023</th>\n",
              "      <th>VB01024</th>\n",
              "      <th>VB01025</th>\n",
              "      <th>VB01026</th>\n",
              "      <th>VB02001</th>\n",
              "      <th>VB02002</th>\n",
              "      <th>VB02004A</th>\n",
              "      <th>VB02010</th>\n",
              "      <th>VB02011</th>\n",
              "      <th>VB02013</th>\n",
              "      <th>VB02017A</th>\n",
              "      <th>VB02018A</th>\n",
              "      <th>VB02019A</th>\n",
              "      <th>VB02020A</th>\n",
              "      <th>VB02021</th>\n",
              "      <th>...</th>\n",
              "      <th>VB12001</th>\n",
              "      <th>VB12002</th>\n",
              "      <th>VB12003</th>\n",
              "      <th>VB13001</th>\n",
              "      <th>VB13002A</th>\n",
              "      <th>VB13004A</th>\n",
              "      <th>VB13005</th>\n",
              "      <th>VB13006</th>\n",
              "      <th>VB13007</th>\n",
              "      <th>VB13008</th>\n",
              "      <th>VB13009</th>\n",
              "      <th>VB14001</th>\n",
              "      <th>VB14002</th>\n",
              "      <th>VB16001A01</th>\n",
              "      <th>VB16001A02</th>\n",
              "      <th>VB16001A03</th>\n",
              "      <th>VB16001A04</th>\n",
              "      <th>VB16001A05</th>\n",
              "      <th>VB16001A06</th>\n",
              "      <th>VB16001A07</th>\n",
              "      <th>VB16001A08</th>\n",
              "      <th>VB17001</th>\n",
              "      <th>VB17002</th>\n",
              "      <th>VB17003</th>\n",
              "      <th>VB17004</th>\n",
              "      <th>VB17005</th>\n",
              "      <th>VB17006</th>\n",
              "      <th>ESTRATO_EXP</th>\n",
              "      <th>ESTRATOGEOREG</th>\n",
              "      <th>PESO</th>\n",
              "      <th>V0006</th>\n",
              "      <th>V0007</th>\n",
              "      <th>V0008</th>\n",
              "      <th>V0041</th>\n",
              "      <th>aluno</th>\n",
              "      <th>escola</th>\n",
              "      <th>turma</th>\n",
              "      <th>BMI</th>\n",
              "      <th>BMI_CLASSES</th>\n",
              "      <th>HEIGHT_CLASSES</th>\n",
              "    </tr>\n",
              "  </thead>\n",
              "  <tbody>\n",
              "    <tr>\n",
              "      <th>15673</th>\n",
              "      <td>2015</td>\n",
              "      <td>76</td>\n",
              "      <td>5</td>\n",
              "      <td>1</td>\n",
              "      <td>1</td>\n",
              "      <td>4</td>\n",
              "      <td>12</td>\n",
              "      <td>3</td>\n",
              "      <td>9</td>\n",
              "      <td>1</td>\n",
              "      <td>1</td>\n",
              "      <td>8</td>\n",
              "      <td>4</td>\n",
              "      <td>1</td>\n",
              "      <td>1</td>\n",
              "      <td>2</td>\n",
              "      <td>1</td>\n",
              "      <td>1</td>\n",
              "      <td>1</td>\n",
              "      <td>1</td>\n",
              "      <td>1</td>\n",
              "      <td>2</td>\n",
              "      <td>2</td>\n",
              "      <td>2</td>\n",
              "      <td>3</td>\n",
              "      <td>1</td>\n",
              "      <td>2</td>\n",
              "      <td>2</td>\n",
              "      <td>3</td>\n",
              "      <td>8</td>\n",
              "      <td>1</td>\n",
              "      <td>8</td>\n",
              "      <td>1</td>\n",
              "      <td>4</td>\n",
              "      <td>3</td>\n",
              "      <td>1</td>\n",
              "      <td>6</td>\n",
              "      <td>1</td>\n",
              "      <td>1</td>\n",
              "      <td>1</td>\n",
              "      <td>...</td>\n",
              "      <td>1</td>\n",
              "      <td>3</td>\n",
              "      <td>4</td>\n",
              "      <td>1</td>\n",
              "      <td>2</td>\n",
              "      <td>1</td>\n",
              "      <td>2</td>\n",
              "      <td>2</td>\n",
              "      <td>1</td>\n",
              "      <td>1</td>\n",
              "      <td>-1</td>\n",
              "      <td>1</td>\n",
              "      <td>1</td>\n",
              "      <td>2</td>\n",
              "      <td>2</td>\n",
              "      <td>2</td>\n",
              "      <td>1</td>\n",
              "      <td>2</td>\n",
              "      <td>2</td>\n",
              "      <td>2</td>\n",
              "      <td>2</td>\n",
              "      <td>408.00</td>\n",
              "      <td>1418.00</td>\n",
              "      <td>0.80</td>\n",
              "      <td>141.80</td>\n",
              "      <td>2</td>\n",
              "      <td>2</td>\n",
              "      <td>5121</td>\n",
              "      <td>5</td>\n",
              "      <td>313.16</td>\n",
              "      <td>1</td>\n",
              "      <td>1</td>\n",
              "      <td>2</td>\n",
              "      <td>-1</td>\n",
              "      <td>15674</td>\n",
              "      <td>355</td>\n",
              "      <td>317</td>\n",
              "      <td>0.40</td>\n",
              "      <td>Underweight</td>\n",
              "      <td>(138.34, 143.087]</td>\n",
              "    </tr>\n",
              "    <tr>\n",
              "      <th>1287</th>\n",
              "      <td>2015</td>\n",
              "      <td>76</td>\n",
              "      <td>1</td>\n",
              "      <td>1</td>\n",
              "      <td>2</td>\n",
              "      <td>4</td>\n",
              "      <td>12</td>\n",
              "      <td>11</td>\n",
              "      <td>8</td>\n",
              "      <td>1</td>\n",
              "      <td>1</td>\n",
              "      <td>8</td>\n",
              "      <td>5</td>\n",
              "      <td>2</td>\n",
              "      <td>-1</td>\n",
              "      <td>2</td>\n",
              "      <td>2</td>\n",
              "      <td>2</td>\n",
              "      <td>2</td>\n",
              "      <td>2</td>\n",
              "      <td>2</td>\n",
              "      <td>1</td>\n",
              "      <td>2</td>\n",
              "      <td>2</td>\n",
              "      <td>3</td>\n",
              "      <td>2</td>\n",
              "      <td>2</td>\n",
              "      <td>6</td>\n",
              "      <td>5</td>\n",
              "      <td>3</td>\n",
              "      <td>1</td>\n",
              "      <td>8</td>\n",
              "      <td>8</td>\n",
              "      <td>8</td>\n",
              "      <td>4</td>\n",
              "      <td>1</td>\n",
              "      <td>5</td>\n",
              "      <td>1</td>\n",
              "      <td>-1</td>\n",
              "      <td>3</td>\n",
              "      <td>...</td>\n",
              "      <td>3</td>\n",
              "      <td>1</td>\n",
              "      <td>4</td>\n",
              "      <td>2</td>\n",
              "      <td>-1</td>\n",
              "      <td>3</td>\n",
              "      <td>2</td>\n",
              "      <td>1</td>\n",
              "      <td>-1</td>\n",
              "      <td>2</td>\n",
              "      <td>2</td>\n",
              "      <td>2</td>\n",
              "      <td>2</td>\n",
              "      <td>2</td>\n",
              "      <td>2</td>\n",
              "      <td>2</td>\n",
              "      <td>1</td>\n",
              "      <td>2</td>\n",
              "      <td>2</td>\n",
              "      <td>2</td>\n",
              "      <td>2</td>\n",
              "      <td>209.00</td>\n",
              "      <td>137.00</td>\n",
              "      <td>20.90</td>\n",
              "      <td>137.00</td>\n",
              "      <td>2</td>\n",
              "      <td>1</td>\n",
              "      <td>1111</td>\n",
              "      <td>1</td>\n",
              "      <td>1005.63</td>\n",
              "      <td>2</td>\n",
              "      <td>1</td>\n",
              "      <td>3</td>\n",
              "      <td>-1</td>\n",
              "      <td>1288</td>\n",
              "      <td>28</td>\n",
              "      <td>179</td>\n",
              "      <td>11.14</td>\n",
              "      <td>Underweight</td>\n",
              "      <td>(133.593, 138.34]</td>\n",
              "    </tr>\n",
              "    <tr>\n",
              "      <th>1729</th>\n",
              "      <td>2015</td>\n",
              "      <td>76</td>\n",
              "      <td>1</td>\n",
              "      <td>1</td>\n",
              "      <td>2</td>\n",
              "      <td>4</td>\n",
              "      <td>12</td>\n",
              "      <td>11</td>\n",
              "      <td>8</td>\n",
              "      <td>1</td>\n",
              "      <td>2</td>\n",
              "      <td>3</td>\n",
              "      <td>3</td>\n",
              "      <td>2</td>\n",
              "      <td>-1</td>\n",
              "      <td>2</td>\n",
              "      <td>1</td>\n",
              "      <td>2</td>\n",
              "      <td>1</td>\n",
              "      <td>2</td>\n",
              "      <td>2</td>\n",
              "      <td>2</td>\n",
              "      <td>2</td>\n",
              "      <td>2</td>\n",
              "      <td>3</td>\n",
              "      <td>2</td>\n",
              "      <td>2</td>\n",
              "      <td>4</td>\n",
              "      <td>1</td>\n",
              "      <td>2</td>\n",
              "      <td>1</td>\n",
              "      <td>4</td>\n",
              "      <td>4</td>\n",
              "      <td>7</td>\n",
              "      <td>1</td>\n",
              "      <td>1</td>\n",
              "      <td>5</td>\n",
              "      <td>1</td>\n",
              "      <td>1</td>\n",
              "      <td>1</td>\n",
              "      <td>...</td>\n",
              "      <td>1</td>\n",
              "      <td>1</td>\n",
              "      <td>4</td>\n",
              "      <td>2</td>\n",
              "      <td>-1</td>\n",
              "      <td>2</td>\n",
              "      <td>3</td>\n",
              "      <td>1</td>\n",
              "      <td>5</td>\n",
              "      <td>1</td>\n",
              "      <td>1</td>\n",
              "      <td>2</td>\n",
              "      <td>2</td>\n",
              "      <td>2</td>\n",
              "      <td>2</td>\n",
              "      <td>2</td>\n",
              "      <td>1</td>\n",
              "      <td>2</td>\n",
              "      <td>2</td>\n",
              "      <td>2</td>\n",
              "      <td>2</td>\n",
              "      <td>221.00</td>\n",
              "      <td>1290.00</td>\n",
              "      <td>22.10</td>\n",
              "      <td>129.00</td>\n",
              "      <td>2</td>\n",
              "      <td>1</td>\n",
              "      <td>1121</td>\n",
              "      <td>1</td>\n",
              "      <td>446.99</td>\n",
              "      <td>1</td>\n",
              "      <td>1</td>\n",
              "      <td>3</td>\n",
              "      <td>-1</td>\n",
              "      <td>1730</td>\n",
              "      <td>39</td>\n",
              "      <td>508</td>\n",
              "      <td>13.28</td>\n",
              "      <td>Underweight</td>\n",
              "      <td>(128.847, 133.593]</td>\n",
              "    </tr>\n",
              "    <tr>\n",
              "      <th>7394</th>\n",
              "      <td>2015</td>\n",
              "      <td>76</td>\n",
              "      <td>3</td>\n",
              "      <td>1</td>\n",
              "      <td>2</td>\n",
              "      <td>99</td>\n",
              "      <td>11</td>\n",
              "      <td>2</td>\n",
              "      <td>10</td>\n",
              "      <td>1</td>\n",
              "      <td>1</td>\n",
              "      <td>8</td>\n",
              "      <td>3</td>\n",
              "      <td>2</td>\n",
              "      <td>-1</td>\n",
              "      <td>2</td>\n",
              "      <td>2</td>\n",
              "      <td>2</td>\n",
              "      <td>2</td>\n",
              "      <td>2</td>\n",
              "      <td>1</td>\n",
              "      <td>2</td>\n",
              "      <td>2</td>\n",
              "      <td>1</td>\n",
              "      <td>3</td>\n",
              "      <td>99</td>\n",
              "      <td>2</td>\n",
              "      <td>6</td>\n",
              "      <td>5</td>\n",
              "      <td>8</td>\n",
              "      <td>1</td>\n",
              "      <td>8</td>\n",
              "      <td>6</td>\n",
              "      <td>7</td>\n",
              "      <td>5</td>\n",
              "      <td>1</td>\n",
              "      <td>1</td>\n",
              "      <td>1</td>\n",
              "      <td>4</td>\n",
              "      <td>1</td>\n",
              "      <td>...</td>\n",
              "      <td>1</td>\n",
              "      <td>1</td>\n",
              "      <td>4</td>\n",
              "      <td>1</td>\n",
              "      <td>1</td>\n",
              "      <td>1</td>\n",
              "      <td>1</td>\n",
              "      <td>1</td>\n",
              "      <td>99</td>\n",
              "      <td>1</td>\n",
              "      <td>1</td>\n",
              "      <td>2</td>\n",
              "      <td>2</td>\n",
              "      <td>2</td>\n",
              "      <td>2</td>\n",
              "      <td>2</td>\n",
              "      <td>2</td>\n",
              "      <td>1</td>\n",
              "      <td>2</td>\n",
              "      <td>2</td>\n",
              "      <td>2</td>\n",
              "      <td>229.00</td>\n",
              "      <td>1372.00</td>\n",
              "      <td>22.90</td>\n",
              "      <td>137.20</td>\n",
              "      <td>2</td>\n",
              "      <td>1</td>\n",
              "      <td>3121</td>\n",
              "      <td>3</td>\n",
              "      <td>1270.84</td>\n",
              "      <td>1</td>\n",
              "      <td>1</td>\n",
              "      <td>3</td>\n",
              "      <td>-1</td>\n",
              "      <td>7395</td>\n",
              "      <td>164</td>\n",
              "      <td>37</td>\n",
              "      <td>12.17</td>\n",
              "      <td>Underweight</td>\n",
              "      <td>(133.593, 138.34]</td>\n",
              "    </tr>\n",
              "    <tr>\n",
              "      <th>16182</th>\n",
              "      <td>2015</td>\n",
              "      <td>76</td>\n",
              "      <td>5</td>\n",
              "      <td>1</td>\n",
              "      <td>1</td>\n",
              "      <td>1</td>\n",
              "      <td>11</td>\n",
              "      <td>11</td>\n",
              "      <td>9</td>\n",
              "      <td>1</td>\n",
              "      <td>1</td>\n",
              "      <td>5</td>\n",
              "      <td>8</td>\n",
              "      <td>2</td>\n",
              "      <td>-1</td>\n",
              "      <td>2</td>\n",
              "      <td>1</td>\n",
              "      <td>1</td>\n",
              "      <td>1</td>\n",
              "      <td>1</td>\n",
              "      <td>2</td>\n",
              "      <td>3</td>\n",
              "      <td>2</td>\n",
              "      <td>1</td>\n",
              "      <td>3</td>\n",
              "      <td>1</td>\n",
              "      <td>2</td>\n",
              "      <td>6</td>\n",
              "      <td>3</td>\n",
              "      <td>8</td>\n",
              "      <td>1</td>\n",
              "      <td>8</td>\n",
              "      <td>3</td>\n",
              "      <td>4</td>\n",
              "      <td>3</td>\n",
              "      <td>5</td>\n",
              "      <td>1</td>\n",
              "      <td>1</td>\n",
              "      <td>-1</td>\n",
              "      <td>2</td>\n",
              "      <td>...</td>\n",
              "      <td>2</td>\n",
              "      <td>2</td>\n",
              "      <td>4</td>\n",
              "      <td>2</td>\n",
              "      <td>-1</td>\n",
              "      <td>1</td>\n",
              "      <td>1</td>\n",
              "      <td>2</td>\n",
              "      <td>1</td>\n",
              "      <td>1</td>\n",
              "      <td>-1</td>\n",
              "      <td>2</td>\n",
              "      <td>2</td>\n",
              "      <td>2</td>\n",
              "      <td>2</td>\n",
              "      <td>2</td>\n",
              "      <td>1</td>\n",
              "      <td>1</td>\n",
              "      <td>2</td>\n",
              "      <td>2</td>\n",
              "      <td>2</td>\n",
              "      <td>236.00</td>\n",
              "      <td>1375.00</td>\n",
              "      <td>23.60</td>\n",
              "      <td>137.50</td>\n",
              "      <td>2</td>\n",
              "      <td>1</td>\n",
              "      <td>5121</td>\n",
              "      <td>5</td>\n",
              "      <td>165.18</td>\n",
              "      <td>1</td>\n",
              "      <td>1</td>\n",
              "      <td>2</td>\n",
              "      <td>-1</td>\n",
              "      <td>16183</td>\n",
              "      <td>364</td>\n",
              "      <td>104</td>\n",
              "      <td>12.48</td>\n",
              "      <td>Underweight</td>\n",
              "      <td>(133.593, 138.34]</td>\n",
              "    </tr>\n",
              "  </tbody>\n",
              "</table>\n",
              "<p>5 rows × 184 columns</p>\n",
              "</div>"
            ],
            "text/plain": [
              "       ANOPESQ  PAIS  REGEOGR  ...   BMI  BMI_CLASSES      HEIGHT_CLASSES\n",
              "15673     2015    76        5  ...  0.40  Underweight   (138.34, 143.087]\n",
              "1287      2015    76        1  ... 11.14  Underweight   (133.593, 138.34]\n",
              "1729      2015    76        1  ... 13.28  Underweight  (128.847, 133.593]\n",
              "7394      2015    76        3  ... 12.17  Underweight   (133.593, 138.34]\n",
              "16182     2015    76        5  ... 12.48  Underweight   (133.593, 138.34]\n",
              "\n",
              "[5 rows x 184 columns]"
            ]
          },
          "metadata": {
            "tags": []
          },
          "execution_count": 39
        }
      ]
    },
    {
      "cell_type": "markdown",
      "metadata": {
        "id": "7lJXmlDL5VIP"
      },
      "source": [
        "The minimum weight (0.8 kg) seems to be a typo. Checking the column VB17001, it is possible to notice that the right value is 40.8kg. Thus, the 0.8 will be replaced by 40.8."
      ]
    },
    {
      "cell_type": "code",
      "metadata": {
        "id": "rAxwmW4RZh2M"
      },
      "source": [
        "df['VB17003'].replace(0.8, 40.8, inplace=True)"
      ],
      "execution_count": null,
      "outputs": []
    },
    {
      "cell_type": "code",
      "metadata": {
        "colab": {
          "base_uri": "https://localhost:8080/"
        },
        "id": "7EqrtHvUaA82",
        "outputId": "a1b4d944-a24d-4df9-e7ed-580d22c8bbf1"
      },
      "source": [
        "df['VB17003'].min()"
      ],
      "execution_count": null,
      "outputs": [
        {
          "output_type": "execute_result",
          "data": {
            "text/plain": [
              "20.9"
            ]
          },
          "metadata": {
            "tags": []
          },
          "execution_count": 41
        }
      ]
    },
    {
      "cell_type": "markdown",
      "metadata": {
        "id": "BYkAAK6sbDPi"
      },
      "source": [
        "#### Creating a frequency table"
      ]
    },
    {
      "cell_type": "code",
      "metadata": {
        "colab": {
          "base_uri": "https://localhost:8080/",
          "height": 514
        },
        "id": "NFZGrKUhahIZ",
        "outputId": "1dd75544-a27d-409b-a64e-4474f0e47c09"
      },
      "source": [
        "df['WEIGHT_CLASSES'] = pd.cut(x = df['VB17003'],\n",
        "                              bins = k,\n",
        "                              include_lowest = True)\n",
        "\n",
        "create_freq_table(df, 'WEIGHT_CLASSES', df['WEIGHT_CLASSES'], 'Weight classification')"
      ],
      "execution_count": null,
      "outputs": [
        {
          "output_type": "execute_result",
          "data": {
            "text/html": [
              "<div>\n",
              "<style scoped>\n",
              "    .dataframe tbody tr th:only-of-type {\n",
              "        vertical-align: middle;\n",
              "    }\n",
              "\n",
              "    .dataframe tbody tr th {\n",
              "        vertical-align: top;\n",
              "    }\n",
              "\n",
              "    .dataframe thead th {\n",
              "        text-align: right;\n",
              "    }\n",
              "</style>\n",
              "<table border=\"1\" class=\"dataframe\">\n",
              "  <thead>\n",
              "    <tr style=\"text-align: right;\">\n",
              "      <th>Weight classification</th>\n",
              "      <th>Frequency</th>\n",
              "      <th>Percentage</th>\n",
              "    </tr>\n",
              "  </thead>\n",
              "  <tbody>\n",
              "    <tr>\n",
              "      <th>(51.02, 61.06]</th>\n",
              "      <td>4760</td>\n",
              "      <td>28.75</td>\n",
              "    </tr>\n",
              "    <tr>\n",
              "      <th>(40.98, 51.02]</th>\n",
              "      <td>4697</td>\n",
              "      <td>28.37</td>\n",
              "    </tr>\n",
              "    <tr>\n",
              "      <th>(61.06, 71.1]</th>\n",
              "      <td>2628</td>\n",
              "      <td>15.87</td>\n",
              "    </tr>\n",
              "    <tr>\n",
              "      <th>(30.94, 40.98]</th>\n",
              "      <td>2224</td>\n",
              "      <td>13.43</td>\n",
              "    </tr>\n",
              "    <tr>\n",
              "      <th>(71.1, 81.14]</th>\n",
              "      <td>1098</td>\n",
              "      <td>6.63</td>\n",
              "    </tr>\n",
              "    <tr>\n",
              "      <th>(81.14, 91.18]</th>\n",
              "      <td>475</td>\n",
              "      <td>2.87</td>\n",
              "    </tr>\n",
              "    <tr>\n",
              "      <th>(20.747999999999998, 30.94]</th>\n",
              "      <td>330</td>\n",
              "      <td>1.99</td>\n",
              "    </tr>\n",
              "    <tr>\n",
              "      <th>(91.18, 101.22]</th>\n",
              "      <td>183</td>\n",
              "      <td>1.11</td>\n",
              "    </tr>\n",
              "    <tr>\n",
              "      <th>(101.22, 111.26]</th>\n",
              "      <td>98</td>\n",
              "      <td>0.59</td>\n",
              "    </tr>\n",
              "    <tr>\n",
              "      <th>(111.26, 121.3]</th>\n",
              "      <td>29</td>\n",
              "      <td>0.18</td>\n",
              "    </tr>\n",
              "    <tr>\n",
              "      <th>(121.3, 131.34]</th>\n",
              "      <td>15</td>\n",
              "      <td>0.09</td>\n",
              "    </tr>\n",
              "    <tr>\n",
              "      <th>(131.34, 141.38]</th>\n",
              "      <td>9</td>\n",
              "      <td>0.05</td>\n",
              "    </tr>\n",
              "    <tr>\n",
              "      <th>(151.42, 161.46]</th>\n",
              "      <td>4</td>\n",
              "      <td>0.02</td>\n",
              "    </tr>\n",
              "    <tr>\n",
              "      <th>(141.38, 151.42]</th>\n",
              "      <td>4</td>\n",
              "      <td>0.02</td>\n",
              "    </tr>\n",
              "    <tr>\n",
              "      <th>(161.46, 171.5]</th>\n",
              "      <td>2</td>\n",
              "      <td>0.01</td>\n",
              "    </tr>\n",
              "  </tbody>\n",
              "</table>\n",
              "</div>"
            ],
            "text/plain": [
              "Weight classification        Frequency  Percentage\n",
              "(51.02, 61.06]                    4760       28.75\n",
              "(40.98, 51.02]                    4697       28.37\n",
              "(61.06, 71.1]                     2628       15.87\n",
              "(30.94, 40.98]                    2224       13.43\n",
              "(71.1, 81.14]                     1098        6.63\n",
              "(81.14, 91.18]                     475        2.87\n",
              "(20.747999999999998, 30.94]        330        1.99\n",
              "(91.18, 101.22]                    183        1.11\n",
              "(101.22, 111.26]                    98        0.59\n",
              "(111.26, 121.3]                     29        0.18\n",
              "(121.3, 131.34]                     15        0.09\n",
              "(131.34, 141.38]                     9        0.05\n",
              "(151.42, 161.46]                     4        0.02\n",
              "(141.38, 151.42]                     4        0.02\n",
              "(161.46, 171.5]                      2        0.01"
            ]
          },
          "metadata": {
            "tags": []
          },
          "execution_count": 42
        }
      ]
    },
    {
      "cell_type": "markdown",
      "metadata": {
        "id": "Es4FLTNfsgE-"
      },
      "source": [
        "### Challenge 06: Create other CrossTab. Search about the parameter aggfunc and test."
      ]
    },
    {
      "cell_type": "code",
      "metadata": {
        "colab": {
          "base_uri": "https://localhost:8080/",
          "height": 266
        },
        "id": "sxltuysdoPgh",
        "outputId": "3a462879-c262-4717-cd28-492507d962a3"
      },
      "source": [
        "# Level of satisfaction with the own body using absolute numbers\n",
        "\n",
        "cross_freq_satisfaction_sum = pd.crosstab(df['VB11007'], df['BMI_CLASSES'], values=df['VB11007'], aggfunc=np.sum)\n",
        "cross_freq_satisfaction_sum.rename(index = answers, inplace = True)\n",
        "cross_freq_satisfaction_sum.rename_axis('Level of satisfaction with the own body', axis=0, inplace = True)\n",
        "cross_freq_satisfaction_sum"
      ],
      "execution_count": null,
      "outputs": [
        {
          "output_type": "execute_result",
          "data": {
            "text/html": [
              "<div>\n",
              "<style scoped>\n",
              "    .dataframe tbody tr th:only-of-type {\n",
              "        vertical-align: middle;\n",
              "    }\n",
              "\n",
              "    .dataframe tbody tr th {\n",
              "        vertical-align: top;\n",
              "    }\n",
              "\n",
              "    .dataframe thead th {\n",
              "        text-align: right;\n",
              "    }\n",
              "</style>\n",
              "<table border=\"1\" class=\"dataframe\">\n",
              "  <thead>\n",
              "    <tr style=\"text-align: right;\">\n",
              "      <th>BMI_CLASSES</th>\n",
              "      <th>Underweight</th>\n",
              "      <th>Normal Range</th>\n",
              "      <th>Overweight</th>\n",
              "      <th>Obese</th>\n",
              "    </tr>\n",
              "    <tr>\n",
              "      <th>Level of satisfaction with the own body</th>\n",
              "      <th></th>\n",
              "      <th></th>\n",
              "      <th></th>\n",
              "      <th></th>\n",
              "    </tr>\n",
              "  </thead>\n",
              "  <tbody>\n",
              "    <tr>\n",
              "      <th>Very satisfied</th>\n",
              "      <td>1783</td>\n",
              "      <td>2461</td>\n",
              "      <td>297</td>\n",
              "      <td>67</td>\n",
              "    </tr>\n",
              "    <tr>\n",
              "      <th>Satisfied</th>\n",
              "      <td>4102</td>\n",
              "      <td>8306</td>\n",
              "      <td>1136</td>\n",
              "      <td>296</td>\n",
              "    </tr>\n",
              "    <tr>\n",
              "      <th>Indifferent</th>\n",
              "      <td>1380</td>\n",
              "      <td>2835</td>\n",
              "      <td>816</td>\n",
              "      <td>390</td>\n",
              "    </tr>\n",
              "    <tr>\n",
              "      <th>Unsatisfied</th>\n",
              "      <td>1808</td>\n",
              "      <td>4884</td>\n",
              "      <td>1824</td>\n",
              "      <td>788</td>\n",
              "    </tr>\n",
              "    <tr>\n",
              "      <th>Very unsatisfied</th>\n",
              "      <td>850</td>\n",
              "      <td>1520</td>\n",
              "      <td>765</td>\n",
              "      <td>435</td>\n",
              "    </tr>\n",
              "    <tr>\n",
              "      <th>Uninformed</th>\n",
              "      <td>5841</td>\n",
              "      <td>10296</td>\n",
              "      <td>1386</td>\n",
              "      <td>396</td>\n",
              "    </tr>\n",
              "  </tbody>\n",
              "</table>\n",
              "</div>"
            ],
            "text/plain": [
              "BMI_CLASSES                              Underweight  ...  Obese\n",
              "Level of satisfaction with the own body               ...       \n",
              "Very satisfied                                  1783  ...     67\n",
              "Satisfied                                       4102  ...    296\n",
              "Indifferent                                     1380  ...    390\n",
              "Unsatisfied                                     1808  ...    788\n",
              "Very unsatisfied                                 850  ...    435\n",
              "Uninformed                                      5841  ...    396\n",
              "\n",
              "[6 rows x 4 columns]"
            ]
          },
          "metadata": {
            "tags": []
          },
          "execution_count": 43
        }
      ]
    },
    {
      "cell_type": "code",
      "metadata": {
        "colab": {
          "base_uri": "https://localhost:8080/",
          "height": 266
        },
        "id": "Bq_PZSyqegTT",
        "outputId": "adbe804d-93c9-4648-964e-416048862be7"
      },
      "source": [
        "# Level of satisfaction with the own body by BMI class (percentage)\n",
        "\n",
        "cross_freq_satisfaction = pd.crosstab(df['VB11007'], df['BMI_CLASSES'], normalize = 'columns') * 100\n",
        "cross_freq_satisfaction.rename(index = answers, inplace = True)\n",
        "cross_freq_satisfaction.rename_axis('Level of satisfaction with the own body', axis=0, inplace = True)\n",
        "cross_freq_satisfaction"
      ],
      "execution_count": null,
      "outputs": [
        {
          "output_type": "execute_result",
          "data": {
            "text/html": [
              "<div>\n",
              "<style scoped>\n",
              "    .dataframe tbody tr th:only-of-type {\n",
              "        vertical-align: middle;\n",
              "    }\n",
              "\n",
              "    .dataframe tbody tr th {\n",
              "        vertical-align: top;\n",
              "    }\n",
              "\n",
              "    .dataframe thead th {\n",
              "        text-align: right;\n",
              "    }\n",
              "</style>\n",
              "<table border=\"1\" class=\"dataframe\">\n",
              "  <thead>\n",
              "    <tr style=\"text-align: right;\">\n",
              "      <th>BMI_CLASSES</th>\n",
              "      <th>Underweight</th>\n",
              "      <th>Normal Range</th>\n",
              "      <th>Overweight</th>\n",
              "      <th>Obese</th>\n",
              "    </tr>\n",
              "    <tr>\n",
              "      <th>Level of satisfaction with the own body</th>\n",
              "      <th></th>\n",
              "      <th></th>\n",
              "      <th></th>\n",
              "      <th></th>\n",
              "    </tr>\n",
              "  </thead>\n",
              "  <tbody>\n",
              "    <tr>\n",
              "      <th>Very satisfied</th>\n",
              "      <td>35.84</td>\n",
              "      <td>26.78</td>\n",
              "      <td>16.88</td>\n",
              "      <td>10.58</td>\n",
              "    </tr>\n",
              "    <tr>\n",
              "      <th>Satisfied</th>\n",
              "      <td>41.23</td>\n",
              "      <td>45.20</td>\n",
              "      <td>32.27</td>\n",
              "      <td>23.38</td>\n",
              "    </tr>\n",
              "    <tr>\n",
              "      <th>Indifferent</th>\n",
              "      <td>9.25</td>\n",
              "      <td>10.29</td>\n",
              "      <td>15.45</td>\n",
              "      <td>20.54</td>\n",
              "    </tr>\n",
              "    <tr>\n",
              "      <th>Unsatisfied</th>\n",
              "      <td>9.09</td>\n",
              "      <td>13.29</td>\n",
              "      <td>25.91</td>\n",
              "      <td>31.12</td>\n",
              "    </tr>\n",
              "    <tr>\n",
              "      <th>Very unsatisfied</th>\n",
              "      <td>3.42</td>\n",
              "      <td>3.31</td>\n",
              "      <td>8.69</td>\n",
              "      <td>13.74</td>\n",
              "    </tr>\n",
              "    <tr>\n",
              "      <th>Uninformed</th>\n",
              "      <td>1.19</td>\n",
              "      <td>1.13</td>\n",
              "      <td>0.80</td>\n",
              "      <td>0.63</td>\n",
              "    </tr>\n",
              "  </tbody>\n",
              "</table>\n",
              "</div>"
            ],
            "text/plain": [
              "BMI_CLASSES                              Underweight  ...  Obese\n",
              "Level of satisfaction with the own body               ...       \n",
              "Very satisfied                                 35.84  ...  10.58\n",
              "Satisfied                                      41.23  ...  23.38\n",
              "Indifferent                                     9.25  ...  20.54\n",
              "Unsatisfied                                     9.09  ...  31.12\n",
              "Very unsatisfied                                3.42  ...  13.74\n",
              "Uninformed                                      1.19  ...   0.63\n",
              "\n",
              "[6 rows x 4 columns]"
            ]
          },
          "metadata": {
            "tags": []
          },
          "execution_count": 44
        }
      ]
    },
    {
      "cell_type": "code",
      "metadata": {
        "colab": {
          "base_uri": "https://localhost:8080/",
          "height": 235
        },
        "id": "khW7o_Zosy8p",
        "outputId": "ac0c6403-7640-4a17-f639-27000f393316"
      },
      "source": [
        "# What are you doing about your weight by BMI classes (absolute numbers)\n",
        "\n",
        "cross_freq_weight_sum = pd.crosstab(df['VB11002'], df['BMI_CLASSES'], values=df['VB11002'], aggfunc=np.sum)\n",
        "cross_freq_weight_sum.rename(index = dict_weight, inplace = True)\n",
        "cross_freq_weight_sum.rename_axis('What are you doing about your weight?', axis=0, inplace = True)\n",
        "cross_freq_weight_sum"
      ],
      "execution_count": null,
      "outputs": [
        {
          "output_type": "execute_result",
          "data": {
            "text/html": [
              "<div>\n",
              "<style scoped>\n",
              "    .dataframe tbody tr th:only-of-type {\n",
              "        vertical-align: middle;\n",
              "    }\n",
              "\n",
              "    .dataframe tbody tr th {\n",
              "        vertical-align: top;\n",
              "    }\n",
              "\n",
              "    .dataframe thead th {\n",
              "        text-align: right;\n",
              "    }\n",
              "</style>\n",
              "<table border=\"1\" class=\"dataframe\">\n",
              "  <thead>\n",
              "    <tr style=\"text-align: right;\">\n",
              "      <th>BMI_CLASSES</th>\n",
              "      <th>Underweight</th>\n",
              "      <th>Normal Range</th>\n",
              "      <th>Overweight</th>\n",
              "      <th>Obese</th>\n",
              "    </tr>\n",
              "    <tr>\n",
              "      <th>What are you doing about your weight?</th>\n",
              "      <th></th>\n",
              "      <th></th>\n",
              "      <th></th>\n",
              "      <th></th>\n",
              "    </tr>\n",
              "  </thead>\n",
              "  <tbody>\n",
              "    <tr>\n",
              "      <th>Nothing</th>\n",
              "      <td>2193</td>\n",
              "      <td>3425</td>\n",
              "      <td>426</td>\n",
              "      <td>125</td>\n",
              "    </tr>\n",
              "    <tr>\n",
              "      <th>Trying to lose weight</th>\n",
              "      <td>662</td>\n",
              "      <td>5528</td>\n",
              "      <td>2250</td>\n",
              "      <td>936</td>\n",
              "    </tr>\n",
              "    <tr>\n",
              "      <th>Trying to gain weight</th>\n",
              "      <td>4779</td>\n",
              "      <td>3114</td>\n",
              "      <td>111</td>\n",
              "      <td>18</td>\n",
              "    </tr>\n",
              "    <tr>\n",
              "      <th>Trying to maintain the same weight</th>\n",
              "      <td>3200</td>\n",
              "      <td>7464</td>\n",
              "      <td>644</td>\n",
              "      <td>128</td>\n",
              "    </tr>\n",
              "    <tr>\n",
              "      <th>Uninformed</th>\n",
              "      <td>5742</td>\n",
              "      <td>9405</td>\n",
              "      <td>1089</td>\n",
              "      <td>198</td>\n",
              "    </tr>\n",
              "  </tbody>\n",
              "</table>\n",
              "</div>"
            ],
            "text/plain": [
              "BMI_CLASSES                            Underweight  ...  Obese\n",
              "What are you doing about your weight?               ...       \n",
              "Nothing                                       2193  ...    125\n",
              "Trying to lose weight                          662  ...    936\n",
              "Trying to gain weight                         4779  ...     18\n",
              "Trying to maintain the same weight            3200  ...    128\n",
              "Uninformed                                    5742  ...    198\n",
              "\n",
              "[5 rows x 4 columns]"
            ]
          },
          "metadata": {
            "tags": []
          },
          "execution_count": 45
        }
      ]
    },
    {
      "cell_type": "code",
      "metadata": {
        "colab": {
          "base_uri": "https://localhost:8080/",
          "height": 235
        },
        "id": "O53GyQRlk-3h",
        "outputId": "d4b3bb77-e4d0-4a8e-ccdb-d459cb6225e9"
      },
      "source": [
        "# What are you doing about your weight by BMI classes (percentage)\n",
        "\n",
        "cross_freq_weight = pd.crosstab(df['VB11002'], df['BMI_CLASSES'], normalize='columns') * 100\n",
        "cross_freq_weight.rename(index = dict_weight, inplace = True)\n",
        "cross_freq_weight.rename_axis('What are you doing about your weight?', axis=0, inplace = True)\n",
        "cross_freq_weight"
      ],
      "execution_count": null,
      "outputs": [
        {
          "output_type": "execute_result",
          "data": {
            "text/html": [
              "<div>\n",
              "<style scoped>\n",
              "    .dataframe tbody tr th:only-of-type {\n",
              "        vertical-align: middle;\n",
              "    }\n",
              "\n",
              "    .dataframe tbody tr th {\n",
              "        vertical-align: top;\n",
              "    }\n",
              "\n",
              "    .dataframe thead th {\n",
              "        text-align: right;\n",
              "    }\n",
              "</style>\n",
              "<table border=\"1\" class=\"dataframe\">\n",
              "  <thead>\n",
              "    <tr style=\"text-align: right;\">\n",
              "      <th>BMI_CLASSES</th>\n",
              "      <th>Underweight</th>\n",
              "      <th>Normal Range</th>\n",
              "      <th>Overweight</th>\n",
              "      <th>Obese</th>\n",
              "    </tr>\n",
              "    <tr>\n",
              "      <th>What are you doing about your weight?</th>\n",
              "      <th></th>\n",
              "      <th></th>\n",
              "      <th></th>\n",
              "      <th></th>\n",
              "    </tr>\n",
              "  </thead>\n",
              "  <tbody>\n",
              "    <tr>\n",
              "      <th>Nothing</th>\n",
              "      <td>44.08</td>\n",
              "      <td>37.28</td>\n",
              "      <td>24.20</td>\n",
              "      <td>19.75</td>\n",
              "    </tr>\n",
              "    <tr>\n",
              "      <th>Trying to lose weight</th>\n",
              "      <td>6.65</td>\n",
              "      <td>30.08</td>\n",
              "      <td>63.92</td>\n",
              "      <td>73.93</td>\n",
              "    </tr>\n",
              "    <tr>\n",
              "      <th>Trying to gain weight</th>\n",
              "      <td>32.02</td>\n",
              "      <td>11.30</td>\n",
              "      <td>2.10</td>\n",
              "      <td>0.95</td>\n",
              "    </tr>\n",
              "    <tr>\n",
              "      <th>Trying to maintain the same weight</th>\n",
              "      <td>16.08</td>\n",
              "      <td>20.31</td>\n",
              "      <td>9.15</td>\n",
              "      <td>5.06</td>\n",
              "    </tr>\n",
              "    <tr>\n",
              "      <th>Uninformed</th>\n",
              "      <td>1.17</td>\n",
              "      <td>1.03</td>\n",
              "      <td>0.62</td>\n",
              "      <td>0.32</td>\n",
              "    </tr>\n",
              "  </tbody>\n",
              "</table>\n",
              "</div>"
            ],
            "text/plain": [
              "BMI_CLASSES                            Underweight  ...  Obese\n",
              "What are you doing about your weight?               ...       \n",
              "Nothing                                      44.08  ...  19.75\n",
              "Trying to lose weight                         6.65  ...  73.93\n",
              "Trying to gain weight                        32.02  ...   0.95\n",
              "Trying to maintain the same weight           16.08  ...   5.06\n",
              "Uninformed                                    1.17  ...   0.32\n",
              "\n",
              "[5 rows x 4 columns]"
            ]
          },
          "metadata": {
            "tags": []
          },
          "execution_count": 46
        }
      ]
    },
    {
      "cell_type": "markdown",
      "metadata": {
        "id": "hb1tsIGf_shl"
      },
      "source": [
        "# Histogram and Boxplot"
      ]
    },
    {
      "cell_type": "markdown",
      "metadata": {
        "id": "gubK6dE9_60C"
      },
      "source": [
        "## Histogram and Distribuitions"
      ]
    },
    {
      "cell_type": "code",
      "metadata": {
        "id": "4k7gMOmkpKBq",
        "colab": {
          "base_uri": "https://localhost:8080/",
          "height": 404
        },
        "outputId": "e978c16d-ee79-4a98-a189-69702014fba7"
      },
      "source": [
        "# Histogram\n",
        "ax = sns.histplot(x = 'VB17004', data = df, kde = True)\n",
        "\n",
        "# Parameters\n",
        "ax.figure.set_size_inches(12, 6)\n",
        "ax.set_title('Frequency distribution')\n",
        "ax.set_xlabel('Height')\n",
        "\n",
        "ax;"
      ],
      "execution_count": null,
      "outputs": [
        {
          "output_type": "display_data",
          "data": {
            "image/png": "[encoded data removed]",
            "text/plain": [
              "<Figure size 864x432 with 1 Axes>"
            ]
          },
          "metadata": {
            "tags": [],
            "needs_background": "light"
          }
        }
      ]
    },
    {
      "cell_type": "code",
      "metadata": {
        "colab": {
          "base_uri": "https://localhost:8080/",
          "height": 404
        },
        "id": "W7lxeWMMAfVE",
        "outputId": "9dbc911e-32f5-4931-f96c-940e81b76547"
      },
      "source": [
        "# Histogram\n",
        "ax = sns.histplot(x = 'VB17004', data = df, kde = True, hue = 'VB01001')\n",
        "\n",
        "# Parameters\n",
        "ax.figure.set_size_inches(12, 6)\n",
        "ax.set_title('Frequency distribution')\n",
        "ax.set_xlabel('Height')\n",
        "\n",
        "ax;"
      ],
      "execution_count": null,
      "outputs": [
        {
          "output_type": "display_data",
          "data": {
            "image/png": "[encoded data removed]",
            "text/plain": [
              "<Figure size 864x432 with 1 Axes>"
            ]
          },
          "metadata": {
            "tags": [],
            "needs_background": "light"
          }
        }
      ]
    },
    {
      "cell_type": "code",
      "metadata": {
        "colab": {
          "base_uri": "https://localhost:8080/",
          "height": 404
        },
        "id": "qNg58QW3Avja",
        "outputId": "f4bf3b09-c832-4979-d658-c5f067a14927"
      },
      "source": [
        "# Histogram\n",
        "ax = sns.histplot(x = 'VB17004', data = df, kde = True, hue = 'VB01003')\n",
        "\n",
        "# Parameters\n",
        "ax.figure.set_size_inches(12, 6)\n",
        "ax.set_title('Frequency distribution')\n",
        "ax.set_xlabel('Height')\n",
        "\n",
        "ax;"
      ],
      "execution_count": null,
      "outputs": [
        {
          "output_type": "display_data",
          "data": {
            "image/png": "[encoded data removed]",
            "text/plain": [
              "<Figure size 864x432 with 1 Axes>"
            ]
          },
          "metadata": {
            "tags": [],
            "needs_background": "light"
          }
        }
      ]
    },
    {
      "cell_type": "markdown",
      "metadata": {
        "id": "lKiUh7ycA3vi"
      },
      "source": [
        "When there are many classes (age), the histogram is difficult to understand."
      ]
    },
    {
      "cell_type": "markdown",
      "metadata": {
        "id": "MVeDieM6BXgZ"
      },
      "source": [
        "### Challenge 07: Calculate the standard deviation, mean, mode, and median, and plot on the histogram."
      ]
    },
    {
      "cell_type": "code",
      "metadata": {
        "id": "SMVlxUL6A1iB",
        "colab": {
          "base_uri": "https://localhost:8080/"
        },
        "outputId": "00eaa241-60a3-4ff3-e532-dc2ac96f1b1d"
      },
      "source": [
        "# Mean, median, mode, std\n",
        "\n",
        "height_mean = df['VB17004'].mean()\n",
        "height_median = df['VB17004'].median()\n",
        "height_mode = df['VB17004'].mode()[0]\n",
        "height_std = df['VB17004'].std()\n",
        "\n",
        "print(f'Mean: {round(height_mean, 2)}, Median: {round(height_median, 2)}, Mode: {round(height_mode, 2)}, Standard deviation: {round(height_std, 2)}')"
      ],
      "execution_count": null,
      "outputs": [
        {
          "output_type": "stream",
          "text": [
            "Mean: 160.71, Median: 160.4, Mode: 160.0, Standard deviation: 10.34\n"
          ],
          "name": "stdout"
        }
      ]
    },
    {
      "cell_type": "code",
      "metadata": {
        "colab": {
          "base_uri": "https://localhost:8080/",
          "height": 404
        },
        "id": "sngoRXEvalMh",
        "outputId": "811a6d4d-66e4-4934-8bb9-8f0c92183ff9"
      },
      "source": [
        "# Histogram\n",
        "ax = sns.histplot(x = 'VB17004', data = df, kde = True)\n",
        "\n",
        "# Mean, median, mode, and std lines\n",
        "ax.axvline(height_mean, color='r', linestyle='-', label='Mean')\n",
        "ax.axvline(height_median, color='g', linestyle='-', label='Median')\n",
        "ax.axvline(height_mode, color='b', linestyle='-', label='Mode')\n",
        "ax.axvspan((height_mean + height_std), (height_mean - height_std), alpha=0.2, color='y', label='Standard Deviation')\n",
        "\n",
        "# Parameters\n",
        "ax.figure.set_size_inches(12, 6)\n",
        "ax.set_title('Frequency distribution')\n",
        "ax.set_xlabel('Height')\n",
        "plt.legend()\n",
        "\n",
        "ax;"
      ],
      "execution_count": null,
      "outputs": [
        {
          "output_type": "display_data",
          "data": {
            "image/png": "[encoded data removed]",
            "text/plain": [
              "<Figure size 864x432 with 1 Axes>"
            ]
          },
          "metadata": {
            "tags": [],
            "needs_background": "light"
          }
        }
      ]
    },
    {
      "cell_type": "markdown",
      "metadata": {
        "id": "dwABBUvrBlYe"
      },
      "source": [
        "### Challenge 08: Plot a histogram using another information in the database."
      ]
    },
    {
      "cell_type": "code",
      "metadata": {
        "colab": {
          "base_uri": "https://localhost:8080/"
        },
        "id": "2zHOcN2ByHc_",
        "outputId": "dc204f36-df5a-4fa4-9d5f-9b39ddd2bfb1"
      },
      "source": [
        "# Mean, median, mode, std\n",
        "\n",
        "weight_mean = df['VB17003'].mean()\n",
        "weight_median = df['VB17003'].median()\n",
        "weight_mode = df['VB17003'].mode()[0]\n",
        "weight_std = df['VB17003'].std()\n",
        "\n",
        "print(f'Mean: {round(height_mean, 2)}, Median: {round(height_median, 2)}, Mode: {round(height_mode, 2)}, Standard deviation: {round(height_std, 2)}')"
      ],
      "execution_count": null,
      "outputs": [
        {
          "output_type": "stream",
          "text": [
            "Mean: 160.71, Median: 160.4, Mode: 160.0, Standard deviation: 10.34\n"
          ],
          "name": "stdout"
        }
      ]
    },
    {
      "cell_type": "code",
      "metadata": {
        "id": "NXzfgmZKButY",
        "colab": {
          "base_uri": "https://localhost:8080/",
          "height": 404
        },
        "outputId": "29650ebd-d9d5-41bb-a77b-b96f1e6c0051"
      },
      "source": [
        "# Histogram\n",
        "ax = sns.histplot(x = 'VB17003', data = df, kde = True)\n",
        "\n",
        "# Mean, median, mode, and std lines\n",
        "ax.axvline(weight_mean, color='r', linestyle='-', label='Mean')\n",
        "ax.axvline(weight_median, color='g', linestyle='-', label='Median')\n",
        "ax.axvline(weight_mode, color='b', linestyle='-', label='Mode')\n",
        "ax.axvspan((weight_mean + weight_std), (weight_mean - weight_std), alpha=0.2, color='y', label='Standard Deviation')\n",
        "\n",
        "# Parameters\n",
        "ax.figure.set_size_inches(12, 6)\n",
        "ax.set_title('Frequency distribution')\n",
        "ax.set_xlabel('Weight')\n",
        "plt.legend()\n",
        "\n",
        "ax;"
      ],
      "execution_count": null,
      "outputs": [
        {
          "output_type": "display_data",
          "data": {
            "image/png": "[encoded data removed]",
            "text/plain": [
              "<Figure size 864x432 with 1 Axes>"
            ]
          },
          "metadata": {
            "tags": [],
            "needs_background": "light"
          }
        }
      ]
    },
    {
      "cell_type": "code",
      "metadata": {
        "colab": {
          "base_uri": "https://localhost:8080/",
          "height": 404
        },
        "id": "Og7bcSRBynWU",
        "outputId": "2a0ad177-cdb0-402b-ef0b-efe396221b9f"
      },
      "source": [
        "# Histogram\n",
        "ax = sns.histplot(x = 'VB17003', kde = True, hue = 'VB01001', data = df)\n",
        "\n",
        "# Parameters\n",
        "ax.figure.set_size_inches(12, 6)\n",
        "ax.set_title('Frequency distribution')\n",
        "ax.set_xlabel('Weight')\n",
        "ax.legend(labels=['Male', 'Female'])\n",
        "\n",
        "ax;"
      ],
      "execution_count": null,
      "outputs": [
        {
          "output_type": "display_data",
          "data": {
            "image/png": "[encoded data removed]",
            "text/plain": [
              "<Figure size 864x432 with 1 Axes>"
            ]
          },
          "metadata": {
            "tags": [],
            "needs_background": "light"
          }
        }
      ]
    },
    {
      "cell_type": "markdown",
      "metadata": {
        "id": "ntp7EpkeBwOj"
      },
      "source": [
        "## Boxplot and Separatrices"
      ]
    },
    {
      "cell_type": "code",
      "metadata": {
        "id": "Ama5nBZ1B3-J",
        "colab": {
          "base_uri": "https://localhost:8080/",
          "height": 458
        },
        "outputId": "27dfb485-9dc6-4d49-c5bf-a232c1ab0eb4"
      },
      "source": [
        "# Boxplot\n",
        "ax = sns.boxplot(df['VB17004'])\n",
        "\n",
        "# Parameters\n",
        "ax.figure.set_size_inches(12, 6)\n",
        "ax.set_title('Height Boxplot')\n",
        "ax.set_xlabel('Height (cm)')\n",
        "\n",
        "ax;"
      ],
      "execution_count": null,
      "outputs": [
        {
          "output_type": "stream",
          "text": [
            "/usr/local/lib/python3.6/dist-packages/seaborn/_decorators.py:43: FutureWarning: Pass the following variable as a keyword arg: x. From version 0.12, the only valid positional argument will be `data`, and passing other arguments without an explicit keyword will result in an error or misinterpretation.\n",
            "  FutureWarning\n"
          ],
          "name": "stderr"
        },
        {
          "output_type": "display_data",
          "data": {
            "image/png": "[encoded data removed]",
            "text/plain": [
              "<Figure size 864x432 with 1 Axes>"
            ]
          },
          "metadata": {
            "tags": [],
            "needs_background": "light"
          }
        }
      ]
    },
    {
      "cell_type": "code",
      "metadata": {
        "colab": {
          "base_uri": "https://localhost:8080/"
        },
        "id": "5YoWsO2fUkTx",
        "outputId": "3f874d22-8653-4190-b283-765193b74ed1"
      },
      "source": [
        "df['VB17004'].quantile(0.25)"
      ],
      "execution_count": null,
      "outputs": [
        {
          "output_type": "execute_result",
          "data": {
            "text/plain": [
              "153.8"
            ]
          },
          "metadata": {
            "tags": []
          },
          "execution_count": 56
        }
      ]
    },
    {
      "cell_type": "code",
      "metadata": {
        "colab": {
          "base_uri": "https://localhost:8080/",
          "height": 404
        },
        "id": "y_YroW_vUtZ4",
        "outputId": "3884c045-ac8d-4820-f5a6-aecb5fa6b53c"
      },
      "source": [
        "# Boxplot\n",
        "ax = sns.boxplot(x='VB17004', y='VB01001', data=df, orient='h')\n",
        "\n",
        "#Parameters\n",
        "ax.figure.set_size_inches(12, 6)\n",
        "ax.set_title('Height Boxplot')\n",
        "ax.set_xlabel('Height (cm)')\n",
        "ax.set_ylabel('Gender (1 - Male, 2 - Female)')\n",
        "\n",
        "ax;"
      ],
      "execution_count": null,
      "outputs": [
        {
          "output_type": "display_data",
          "data": {
            "image/png": "[encoded data removed]",
            "text/plain": [
              "<Figure size 864x432 with 1 Axes>"
            ]
          },
          "metadata": {
            "tags": [],
            "needs_background": "light"
          }
        }
      ]
    },
    {
      "cell_type": "code",
      "metadata": {
        "colab": {
          "base_uri": "https://localhost:8080/",
          "height": 404
        },
        "id": "bFPzFpE7VdEU",
        "outputId": "e92bda6f-fc6b-4188-80e7-3275b74785e2"
      },
      "source": [
        "# Boxplot\n",
        "ax = sns.boxplot(x='VB01003', y='VB17004', hue='VB01001', data=df)\n",
        "\n",
        "# Parameters\n",
        "ax.figure.set_size_inches(12, 6)\n",
        "ax.set_title('Height x Age Boxplot')\n",
        "ax.set_xlabel('Age (years)')\n",
        "ax.set_ylabel('Height (cm)')\n",
        "\n",
        "ax;"
      ],
      "execution_count": null,
      "outputs": [
        {
          "output_type": "display_data",
          "data": {
            "image/png": "[encoded data removed]",
            "text/plain": [
              "<Figure size 864x432 with 1 Axes>"
            ]
          },
          "metadata": {
            "tags": [],
            "needs_background": "light"
          }
        }
      ]
    },
    {
      "cell_type": "code",
      "metadata": {
        "colab": {
          "base_uri": "https://localhost:8080/",
          "height": 404
        },
        "id": "0pHCXaOQVyIz",
        "outputId": "e72ac8fa-815f-4534-f7a0-4b1852b0c87e"
      },
      "source": [
        "# Cumulative histogram\n",
        "ax = sns.histplot(x='VB17004', kde=True, cumulative=True,\n",
        "                  stat='density', bins=5,\n",
        "                  data=df)\n",
        "\n",
        "# Parameters\n",
        "ax.figure.set_size_inches(12, 6)\n",
        "ax.set_title('Cumulative Histogram')\n",
        "ax.set_xlabel('Height (cm)')\n",
        "\n",
        "ax;"
      ],
      "execution_count": null,
      "outputs": [
        {
          "output_type": "display_data",
          "data": {
            "image/png": "[encoded data removed]",
            "text/plain": [
              "<Figure size 864x432 with 1 Axes>"
            ]
          },
          "metadata": {
            "tags": [],
            "needs_background": "light"
          }
        }
      ]
    },
    {
      "cell_type": "markdown",
      "metadata": {
        "id": "XJni3HvIXfCn"
      },
      "source": [
        "### Challenge 09: Research how outliers are determined in the seaborn boxplot."
      ]
    },
    {
      "cell_type": "markdown",
      "metadata": {
        "id": "k679oIZz2pMs"
      },
      "source": [
        "The box shows the quartiles of the dataset while the whiskers extend to show the rest of the distribution, except for points that are determined to be “outliers”, using a method that is a function of the inter-quartile range (IQR).\n",
        "\n",
        "IQR = (upper quartile - lower quartile)\n",
        "\n",
        "Whiskers = Limit ± (1.5 * IQR)\n",
        "\n",
        "For a normal distribution, the IQR contains 50% of the sample, and the whiskers has about 99%. Values outside the whiskers are considered outliers.\n",
        "\n",
        "*P.S.: The constant value in the whiskers calculation can be changed, according to how you want to include in the distribuition.*\n",
        "\n",
        "**Source:** http://seaborn.pydata.org/generated/seaborn.boxplot.html"
      ]
    },
    {
      "cell_type": "code",
      "metadata": {
        "colab": {
          "base_uri": "https://localhost:8080/"
        },
        "id": "-_pq8N3wXS2l",
        "outputId": "7ca9c3b2-dff7-4705-c24d-a2493e47f9f7"
      },
      "source": [
        "lower_quantil = df['VB17004'].quantile(0.25)\n",
        "upper_quantil = df['VB17004'].quantile(0.75)\n",
        "\n",
        "IQR = upper_quantil - lower_quantil\n",
        "IQR"
      ],
      "execution_count": null,
      "outputs": [
        {
          "output_type": "execute_result",
          "data": {
            "text/plain": [
              "14.099999999999994"
            ]
          },
          "metadata": {
            "tags": []
          },
          "execution_count": 60
        }
      ]
    },
    {
      "cell_type": "code",
      "metadata": {
        "colab": {
          "base_uri": "https://localhost:8080/"
        },
        "id": "medxpDn428Yf",
        "outputId": "d1d43bfe-d044-4e0a-a3ad-6226bc5928a6"
      },
      "source": [
        "inferior_limit = lower_quantil - (1.5 * IQR)\n",
        "upper_limit = upper_quantil + (1.5 * IQR)\n",
        "\n",
        "print(f'Inferior Limit: {round(inferior_limit, 2)}, Upper Limit: {round(upper_limit, 2)}')"
      ],
      "execution_count": null,
      "outputs": [
        {
          "output_type": "stream",
          "text": [
            "Inferior Limit: 132.65, Upper Limit: 189.05\n"
          ],
          "name": "stdout"
        }
      ]
    },
    {
      "cell_type": "code",
      "metadata": {
        "colab": {
          "base_uri": "https://localhost:8080/"
        },
        "id": "RKnyC33HCDpB",
        "outputId": "96f8fc59-c3ea-4f16-9037-37dfdb41b799"
      },
      "source": [
        "lower_outliers = df['VB17004'][df['VB17004'] < inferior_limit]\n",
        "lower_outliers"
      ],
      "execution_count": null,
      "outputs": [
        {
          "output_type": "execute_result",
          "data": {
            "text/plain": [
              "85      129.70\n",
              "1144    132.00\n",
              "1461    124.10\n",
              "1728    131.50\n",
              "1729    129.00\n",
              "2044    131.00\n",
              "2920    130.50\n",
              "2931    132.60\n",
              "2942    129.60\n",
              "2947    131.70\n",
              "3243    130.40\n",
              "3255    131.70\n",
              "3393    128.00\n",
              "3662    132.40\n",
              "4830    132.40\n",
              "4972    132.50\n",
              "6905    129.50\n",
              "8298    131.40\n",
              "8511    128.90\n",
              "9325    130.70\n",
              "9628    131.20\n",
              "10293   132.50\n",
              "10600   132.00\n",
              "10720   130.40\n",
              "10811   130.50\n",
              "10813   126.00\n",
              "11380   131.20\n",
              "12542   132.20\n",
              "14205   131.40\n",
              "15391   129.60\n",
              "15735   131.00\n",
              "16039   130.60\n",
              "16201   131.80\n",
              "Name: VB17004, dtype: float64"
            ]
          },
          "metadata": {
            "tags": []
          },
          "execution_count": 62
        }
      ]
    },
    {
      "cell_type": "code",
      "metadata": {
        "colab": {
          "base_uri": "https://localhost:8080/"
        },
        "id": "LO93zrzhHMUm",
        "outputId": "b53a1b0b-25b3-4e5c-cdf2-db142b8dfde7"
      },
      "source": [
        "upper_outliers = df['VB17004'][df['VB17004'] > upper_limit]\n",
        "upper_outliers"
      ],
      "execution_count": null,
      "outputs": [
        {
          "output_type": "execute_result",
          "data": {
            "text/plain": [
              "22      190.00\n",
              "778     194.80\n",
              "1930    192.90\n",
              "4517    191.20\n",
              "5407    190.00\n",
              "5577    190.50\n",
              "6408    190.10\n",
              "6597    194.50\n",
              "7324    191.50\n",
              "8983    189.10\n",
              "9204    189.20\n",
              "9753    191.50\n",
              "9967    192.40\n",
              "10490   189.80\n",
              "11327   190.00\n",
              "11428   191.90\n",
              "11802   189.30\n",
              "12022   190.40\n",
              "12033   195.30\n",
              "12455   189.90\n",
              "13349   191.20\n",
              "13764   189.40\n",
              "14348   191.00\n",
              "14760   191.50\n",
              "14945   193.90\n",
              "14992   189.30\n",
              "16471   190.50\n",
              "Name: VB17004, dtype: float64"
            ]
          },
          "metadata": {
            "tags": []
          },
          "execution_count": 63
        }
      ]
    },
    {
      "cell_type": "markdown",
      "metadata": {
        "id": "mDzpqUUp4yIj"
      },
      "source": [
        "# Centrality and Dispersion Measures"
      ]
    },
    {
      "cell_type": "markdown",
      "metadata": {
        "id": "UMx_adk85AKR"
      },
      "source": [
        "## Centrality Measures"
      ]
    },
    {
      "cell_type": "code",
      "metadata": {
        "id": "U3ZZ-Qw9I25n",
        "colab": {
          "base_uri": "https://localhost:8080/"
        },
        "outputId": "770ea2e4-2f7d-4a0f-b379-682af24ed32c"
      },
      "source": [
        "df['VB17004'].mode()"
      ],
      "execution_count": null,
      "outputs": [
        {
          "output_type": "execute_result",
          "data": {
            "text/plain": [
              "0   160.00\n",
              "dtype: float64"
            ]
          },
          "metadata": {
            "tags": []
          },
          "execution_count": 64
        }
      ]
    },
    {
      "cell_type": "code",
      "metadata": {
        "colab": {
          "base_uri": "https://localhost:8080/"
        },
        "id": "5NHN4ZX65W5F",
        "outputId": "a174a0c0-6c3f-4e16-fb22-9ba0314affa4"
      },
      "source": [
        "df['VB17004'].mean()"
      ],
      "execution_count": null,
      "outputs": [
        {
          "output_type": "execute_result",
          "data": {
            "text/plain": [
              "160.71311307078818"
            ]
          },
          "metadata": {
            "tags": []
          },
          "execution_count": 65
        }
      ]
    },
    {
      "cell_type": "code",
      "metadata": {
        "colab": {
          "base_uri": "https://localhost:8080/"
        },
        "id": "Ye5qTSAw5bB7",
        "outputId": "cdf8542b-0665-4d76-d4e2-9b69774e005e"
      },
      "source": [
        "df.groupby('VB01001')['VB17004'].mean()"
      ],
      "execution_count": null,
      "outputs": [
        {
          "output_type": "execute_result",
          "data": {
            "text/plain": [
              "VB01001\n",
              "1   163.86\n",
              "2   157.56\n",
              "Name: VB17004, dtype: float64"
            ]
          },
          "metadata": {
            "tags": []
          },
          "execution_count": 66
        }
      ]
    },
    {
      "cell_type": "code",
      "metadata": {
        "colab": {
          "base_uri": "https://localhost:8080/"
        },
        "id": "cp9uYEdU5k9O",
        "outputId": "f0414ced-7dc8-495d-9e88-916f0f1ec345"
      },
      "source": [
        "df.groupby(['VB01001', 'VB01003'])['VB17004'].mean()"
      ],
      "execution_count": null,
      "outputs": [
        {
          "output_type": "execute_result",
          "data": {
            "text/plain": [
              "VB01001  VB01003\n",
              "1        11        147.62\n",
              "         12        153.70\n",
              "         13        160.72\n",
              "         14        166.41\n",
              "         15        170.34\n",
              "         16        172.42\n",
              "         17        173.81\n",
              "         18        173.02\n",
              "         19        172.14\n",
              "2        11        149.52\n",
              "         12        154.97\n",
              "         13        157.67\n",
              "         14        159.34\n",
              "         15        160.76\n",
              "         16        160.39\n",
              "         17        160.91\n",
              "         18        159.44\n",
              "         19        158.98\n",
              "Name: VB17004, dtype: float64"
            ]
          },
          "metadata": {
            "tags": []
          },
          "execution_count": 67
        }
      ]
    },
    {
      "cell_type": "markdown",
      "metadata": {
        "id": "TOJMDo7j6m6d"
      },
      "source": [
        "### Challenge 10: Describe other information, analyze, and share the analysis on the Discord chanel."
      ]
    },
    {
      "cell_type": "code",
      "metadata": {
        "colab": {
          "base_uri": "https://localhost:8080/"
        },
        "id": "G1_yL88V512A",
        "outputId": "6175637a-f1fa-4305-8c9c-6f8bec5e3d66"
      },
      "source": [
        "df['VB17003'].mode()"
      ],
      "execution_count": null,
      "outputs": [
        {
          "output_type": "execute_result",
          "data": {
            "text/plain": [
              "0   50.00\n",
              "dtype: float64"
            ]
          },
          "metadata": {
            "tags": []
          },
          "execution_count": 68
        }
      ]
    },
    {
      "cell_type": "code",
      "metadata": {
        "colab": {
          "base_uri": "https://localhost:8080/"
        },
        "id": "Gmv9Ei3uCTwo",
        "outputId": "b10c790d-3b9b-4e2a-8b1c-f4849fc5c90d"
      },
      "source": [
        "df['VB17003'].mean()"
      ],
      "execution_count": null,
      "outputs": [
        {
          "output_type": "execute_result",
          "data": {
            "text/plain": [
              "54.70799710074912"
            ]
          },
          "metadata": {
            "tags": []
          },
          "execution_count": 69
        }
      ]
    },
    {
      "cell_type": "code",
      "metadata": {
        "colab": {
          "base_uri": "https://localhost:8080/",
          "height": 638
        },
        "id": "bZVnnD8-CUAa",
        "outputId": "8123b4cd-3827-4268-fe79-4edd8cb7f9c6"
      },
      "source": [
        "df.groupby(['VB01001', 'VB01003'])[['VB17004', 'VB17003']].mean()"
      ],
      "execution_count": null,
      "outputs": [
        {
          "output_type": "execute_result",
          "data": {
            "text/html": [
              "<div>\n",
              "<style scoped>\n",
              "    .dataframe tbody tr th:only-of-type {\n",
              "        vertical-align: middle;\n",
              "    }\n",
              "\n",
              "    .dataframe tbody tr th {\n",
              "        vertical-align: top;\n",
              "    }\n",
              "\n",
              "    .dataframe thead th {\n",
              "        text-align: right;\n",
              "    }\n",
              "</style>\n",
              "<table border=\"1\" class=\"dataframe\">\n",
              "  <thead>\n",
              "    <tr style=\"text-align: right;\">\n",
              "      <th></th>\n",
              "      <th></th>\n",
              "      <th>VB17004</th>\n",
              "      <th>VB17003</th>\n",
              "    </tr>\n",
              "    <tr>\n",
              "      <th>VB01001</th>\n",
              "      <th>VB01003</th>\n",
              "      <th></th>\n",
              "      <th></th>\n",
              "    </tr>\n",
              "  </thead>\n",
              "  <tbody>\n",
              "    <tr>\n",
              "      <th rowspan=\"9\" valign=\"top\">1</th>\n",
              "      <th>11</th>\n",
              "      <td>147.62</td>\n",
              "      <td>42.53</td>\n",
              "    </tr>\n",
              "    <tr>\n",
              "      <th>12</th>\n",
              "      <td>153.70</td>\n",
              "      <td>47.05</td>\n",
              "    </tr>\n",
              "    <tr>\n",
              "      <th>13</th>\n",
              "      <td>160.72</td>\n",
              "      <td>52.32</td>\n",
              "    </tr>\n",
              "    <tr>\n",
              "      <th>14</th>\n",
              "      <td>166.41</td>\n",
              "      <td>57.89</td>\n",
              "    </tr>\n",
              "    <tr>\n",
              "      <th>15</th>\n",
              "      <td>170.34</td>\n",
              "      <td>62.32</td>\n",
              "    </tr>\n",
              "    <tr>\n",
              "      <th>16</th>\n",
              "      <td>172.42</td>\n",
              "      <td>64.67</td>\n",
              "    </tr>\n",
              "    <tr>\n",
              "      <th>17</th>\n",
              "      <td>173.81</td>\n",
              "      <td>67.89</td>\n",
              "    </tr>\n",
              "    <tr>\n",
              "      <th>18</th>\n",
              "      <td>173.02</td>\n",
              "      <td>67.56</td>\n",
              "    </tr>\n",
              "    <tr>\n",
              "      <th>19</th>\n",
              "      <td>172.14</td>\n",
              "      <td>69.15</td>\n",
              "    </tr>\n",
              "    <tr>\n",
              "      <th rowspan=\"9\" valign=\"top\">2</th>\n",
              "      <th>11</th>\n",
              "      <td>149.52</td>\n",
              "      <td>43.31</td>\n",
              "    </tr>\n",
              "    <tr>\n",
              "      <th>12</th>\n",
              "      <td>154.97</td>\n",
              "      <td>48.47</td>\n",
              "    </tr>\n",
              "    <tr>\n",
              "      <th>13</th>\n",
              "      <td>157.67</td>\n",
              "      <td>51.62</td>\n",
              "    </tr>\n",
              "    <tr>\n",
              "      <th>14</th>\n",
              "      <td>159.34</td>\n",
              "      <td>54.24</td>\n",
              "    </tr>\n",
              "    <tr>\n",
              "      <th>15</th>\n",
              "      <td>160.76</td>\n",
              "      <td>56.20</td>\n",
              "    </tr>\n",
              "    <tr>\n",
              "      <th>16</th>\n",
              "      <td>160.39</td>\n",
              "      <td>56.95</td>\n",
              "    </tr>\n",
              "    <tr>\n",
              "      <th>17</th>\n",
              "      <td>160.91</td>\n",
              "      <td>58.13</td>\n",
              "    </tr>\n",
              "    <tr>\n",
              "      <th>18</th>\n",
              "      <td>159.44</td>\n",
              "      <td>57.69</td>\n",
              "    </tr>\n",
              "    <tr>\n",
              "      <th>19</th>\n",
              "      <td>158.98</td>\n",
              "      <td>60.51</td>\n",
              "    </tr>\n",
              "  </tbody>\n",
              "</table>\n",
              "</div>"
            ],
            "text/plain": [
              "                 VB17004  VB17003\n",
              "VB01001 VB01003                  \n",
              "1       11        147.62    42.53\n",
              "        12        153.70    47.05\n",
              "        13        160.72    52.32\n",
              "        14        166.41    57.89\n",
              "        15        170.34    62.32\n",
              "        16        172.42    64.67\n",
              "        17        173.81    67.89\n",
              "        18        173.02    67.56\n",
              "        19        172.14    69.15\n",
              "2       11        149.52    43.31\n",
              "        12        154.97    48.47\n",
              "        13        157.67    51.62\n",
              "        14        159.34    54.24\n",
              "        15        160.76    56.20\n",
              "        16        160.39    56.95\n",
              "        17        160.91    58.13\n",
              "        18        159.44    57.69\n",
              "        19        158.98    60.51"
            ]
          },
          "metadata": {
            "tags": []
          },
          "execution_count": 70
        }
      ]
    },
    {
      "cell_type": "markdown",
      "metadata": {
        "id": "Vl1FkG-nC-Yh"
      },
      "source": [
        "**VB01001:** Gender (1: Male, 2: Female)\n",
        "\n",
        "**VB01003:** Age (11 to 19 years old)\n",
        "\n",
        "**VB17004:** Height (cm)\n",
        "\n",
        "**VB17003:** Weight (kg)"
      ]
    },
    {
      "cell_type": "markdown",
      "metadata": {
        "id": "RSHIznaCDkOe"
      },
      "source": [
        "As expected the male students are taller and consequently heavier than females.\n",
        "Also, boys tend to grow faster after 13 years old than girls."
      ]
    },
    {
      "cell_type": "markdown",
      "metadata": {
        "id": "-Tft5avP7B9b"
      },
      "source": [
        "### Challenge 11: Calculate the average by gender and age, using CrossTab function."
      ]
    },
    {
      "cell_type": "code",
      "metadata": {
        "colab": {
          "base_uri": "https://localhost:8080/",
          "height": 142
        },
        "id": "MN36JcfZFSRB",
        "outputId": "6731c78e-6a20-492c-a52e-41dd0c4fd3fa"
      },
      "source": [
        "cross_gender_age = pd.crosstab(index=df['VB01001'], columns=df['VB01003'], \n",
        "                               values=df['VB17004'], aggfunc='mean',\n",
        "                               rownames=['Gender'], colnames=['Age (years)'])\n",
        "\n",
        "cross_gender_age.rename(index={1:'Male', 2:'Female'}, inplace=True)\n",
        "\n",
        "cross_gender_age"
      ],
      "execution_count": null,
      "outputs": [
        {
          "output_type": "execute_result",
          "data": {
            "text/html": [
              "<div>\n",
              "<style scoped>\n",
              "    .dataframe tbody tr th:only-of-type {\n",
              "        vertical-align: middle;\n",
              "    }\n",
              "\n",
              "    .dataframe tbody tr th {\n",
              "        vertical-align: top;\n",
              "    }\n",
              "\n",
              "    .dataframe thead th {\n",
              "        text-align: right;\n",
              "    }\n",
              "</style>\n",
              "<table border=\"1\" class=\"dataframe\">\n",
              "  <thead>\n",
              "    <tr style=\"text-align: right;\">\n",
              "      <th>Age (years)</th>\n",
              "      <th>11</th>\n",
              "      <th>12</th>\n",
              "      <th>13</th>\n",
              "      <th>14</th>\n",
              "      <th>15</th>\n",
              "      <th>16</th>\n",
              "      <th>17</th>\n",
              "      <th>18</th>\n",
              "      <th>19</th>\n",
              "    </tr>\n",
              "    <tr>\n",
              "      <th>Gender</th>\n",
              "      <th></th>\n",
              "      <th></th>\n",
              "      <th></th>\n",
              "      <th></th>\n",
              "      <th></th>\n",
              "      <th></th>\n",
              "      <th></th>\n",
              "      <th></th>\n",
              "      <th></th>\n",
              "    </tr>\n",
              "  </thead>\n",
              "  <tbody>\n",
              "    <tr>\n",
              "      <th>Male</th>\n",
              "      <td>147.62</td>\n",
              "      <td>153.70</td>\n",
              "      <td>160.72</td>\n",
              "      <td>166.41</td>\n",
              "      <td>170.34</td>\n",
              "      <td>172.42</td>\n",
              "      <td>173.81</td>\n",
              "      <td>173.02</td>\n",
              "      <td>172.14</td>\n",
              "    </tr>\n",
              "    <tr>\n",
              "      <th>Female</th>\n",
              "      <td>149.52</td>\n",
              "      <td>154.97</td>\n",
              "      <td>157.67</td>\n",
              "      <td>159.34</td>\n",
              "      <td>160.76</td>\n",
              "      <td>160.39</td>\n",
              "      <td>160.91</td>\n",
              "      <td>159.44</td>\n",
              "      <td>158.98</td>\n",
              "    </tr>\n",
              "  </tbody>\n",
              "</table>\n",
              "</div>"
            ],
            "text/plain": [
              "Age (years)     11     12     13     14     15     16     17     18     19\n",
              "Gender                                                                    \n",
              "Male        147.62 153.70 160.72 166.41 170.34 172.42 173.81 173.02 172.14\n",
              "Female      149.52 154.97 157.67 159.34 160.76 160.39 160.91 159.44 158.98"
            ]
          },
          "metadata": {
            "tags": []
          },
          "execution_count": 71
        }
      ]
    },
    {
      "cell_type": "markdown",
      "metadata": {
        "id": "KqX4a3ekPKDw"
      },
      "source": [
        "There are several ways to create a CrossTab data frame. However, it is not possible to include more than one parameter in 'values'. Therefore, was not possible to include the height and weight in the same data frame."
      ]
    },
    {
      "cell_type": "markdown",
      "metadata": {
        "id": "cWzcjKKK7Qxo"
      },
      "source": [
        "## Standard deviation step by step"
      ]
    },
    {
      "cell_type": "code",
      "metadata": {
        "colab": {
          "base_uri": "https://localhost:8080/",
          "height": 419
        },
        "id": "ERSrDHJq7aSP",
        "outputId": "6e5fcbf8-2224-4df5-95a7-fcb6e9c45257"
      },
      "source": [
        "# Mean\n",
        "df['HEIGHT_MEAN'] = height_mean\n",
        "\n",
        "# Difference\n",
        "difference_of_means = df['VB17004'] - height_mean\n",
        "df['DIFFERENCE_MEAN'] = difference_of_means\n",
        "\n",
        "# Square difference\n",
        "square_difference = difference_of_means ** 2\n",
        "df['SQRT_DIFFERENCE'] = square_difference\n",
        "\n",
        "df[['VB17004', 'HEIGHT_MEAN', 'DIFFERENCE_MEAN', 'SQRT_DIFFERENCE']]"
      ],
      "execution_count": null,
      "outputs": [
        {
          "output_type": "execute_result",
          "data": {
            "text/html": [
              "<div>\n",
              "<style scoped>\n",
              "    .dataframe tbody tr th:only-of-type {\n",
              "        vertical-align: middle;\n",
              "    }\n",
              "\n",
              "    .dataframe tbody tr th {\n",
              "        vertical-align: top;\n",
              "    }\n",
              "\n",
              "    .dataframe thead th {\n",
              "        text-align: right;\n",
              "    }\n",
              "</style>\n",
              "<table border=\"1\" class=\"dataframe\">\n",
              "  <thead>\n",
              "    <tr style=\"text-align: right;\">\n",
              "      <th></th>\n",
              "      <th>VB17004</th>\n",
              "      <th>HEIGHT_MEAN</th>\n",
              "      <th>DIFFERENCE_MEAN</th>\n",
              "      <th>SQRT_DIFFERENCE</th>\n",
              "    </tr>\n",
              "  </thead>\n",
              "  <tbody>\n",
              "    <tr>\n",
              "      <th>0</th>\n",
              "      <td>157.00</td>\n",
              "      <td>160.71</td>\n",
              "      <td>-3.71</td>\n",
              "      <td>13.79</td>\n",
              "    </tr>\n",
              "    <tr>\n",
              "      <th>1</th>\n",
              "      <td>152.00</td>\n",
              "      <td>160.71</td>\n",
              "      <td>-8.71</td>\n",
              "      <td>75.92</td>\n",
              "    </tr>\n",
              "    <tr>\n",
              "      <th>2</th>\n",
              "      <td>161.40</td>\n",
              "      <td>160.71</td>\n",
              "      <td>0.69</td>\n",
              "      <td>0.47</td>\n",
              "    </tr>\n",
              "    <tr>\n",
              "      <th>3</th>\n",
              "      <td>172.50</td>\n",
              "      <td>160.71</td>\n",
              "      <td>11.79</td>\n",
              "      <td>138.93</td>\n",
              "    </tr>\n",
              "    <tr>\n",
              "      <th>4</th>\n",
              "      <td>167.50</td>\n",
              "      <td>160.71</td>\n",
              "      <td>6.79</td>\n",
              "      <td>46.06</td>\n",
              "    </tr>\n",
              "    <tr>\n",
              "      <th>...</th>\n",
              "      <td>...</td>\n",
              "      <td>...</td>\n",
              "      <td>...</td>\n",
              "      <td>...</td>\n",
              "    </tr>\n",
              "    <tr>\n",
              "      <th>16551</th>\n",
              "      <td>167.90</td>\n",
              "      <td>160.71</td>\n",
              "      <td>7.19</td>\n",
              "      <td>51.65</td>\n",
              "    </tr>\n",
              "    <tr>\n",
              "      <th>16552</th>\n",
              "      <td>185.80</td>\n",
              "      <td>160.71</td>\n",
              "      <td>25.09</td>\n",
              "      <td>629.35</td>\n",
              "    </tr>\n",
              "    <tr>\n",
              "      <th>16553</th>\n",
              "      <td>159.40</td>\n",
              "      <td>160.71</td>\n",
              "      <td>-1.31</td>\n",
              "      <td>1.72</td>\n",
              "    </tr>\n",
              "    <tr>\n",
              "      <th>16554</th>\n",
              "      <td>157.80</td>\n",
              "      <td>160.71</td>\n",
              "      <td>-2.91</td>\n",
              "      <td>8.49</td>\n",
              "    </tr>\n",
              "    <tr>\n",
              "      <th>16555</th>\n",
              "      <td>163.90</td>\n",
              "      <td>160.71</td>\n",
              "      <td>3.19</td>\n",
              "      <td>10.16</td>\n",
              "    </tr>\n",
              "  </tbody>\n",
              "</table>\n",
              "<p>16556 rows × 4 columns</p>\n",
              "</div>"
            ],
            "text/plain": [
              "       VB17004  HEIGHT_MEAN  DIFFERENCE_MEAN  SQRT_DIFFERENCE\n",
              "0       157.00       160.71            -3.71            13.79\n",
              "1       152.00       160.71            -8.71            75.92\n",
              "2       161.40       160.71             0.69             0.47\n",
              "3       172.50       160.71            11.79           138.93\n",
              "4       167.50       160.71             6.79            46.06\n",
              "...        ...          ...              ...              ...\n",
              "16551   167.90       160.71             7.19            51.65\n",
              "16552   185.80       160.71            25.09           629.35\n",
              "16553   159.40       160.71            -1.31             1.72\n",
              "16554   157.80       160.71            -2.91             8.49\n",
              "16555   163.90       160.71             3.19            10.16\n",
              "\n",
              "[16556 rows x 4 columns]"
            ]
          },
          "metadata": {
            "tags": []
          },
          "execution_count": 72
        }
      ]
    },
    {
      "cell_type": "code",
      "metadata": {
        "colab": {
          "base_uri": "https://localhost:8080/"
        },
        "id": "s6Izia248yeZ",
        "outputId": "d5fac6ef-f45a-4da9-b510-8beca315e826"
      },
      "source": [
        "# Sample Variance\n",
        "\n",
        "sample_variance = 1/(len(df)-1) * df['SQRT_DIFFERENCE'].sum()\n",
        "sample_variance"
      ],
      "execution_count": null,
      "outputs": [
        {
          "output_type": "execute_result",
          "data": {
            "text/plain": [
              "106.91705244049119"
            ]
          },
          "metadata": {
            "tags": []
          },
          "execution_count": 73
        }
      ]
    },
    {
      "cell_type": "code",
      "metadata": {
        "colab": {
          "base_uri": "https://localhost:8080/"
        },
        "id": "ygSq08xz9XGw",
        "outputId": "77e7e691-6a3a-4803-eda4-537d495b8b16"
      },
      "source": [
        "# Standard Deviation\n",
        "\n",
        "std_mean = np.sqrt(sample_variance)\n",
        "std_mean"
      ],
      "execution_count": null,
      "outputs": [
        {
          "output_type": "execute_result",
          "data": {
            "text/plain": [
              "10.340070233827776"
            ]
          },
          "metadata": {
            "tags": []
          },
          "execution_count": 74
        }
      ]
    },
    {
      "cell_type": "markdown",
      "metadata": {
        "id": "1c-7qD3u9mip"
      },
      "source": [
        "### Challenge 12: Study the dispersion measures and calculate it for the other quantitative variables using Pandas."
      ]
    },
    {
      "cell_type": "code",
      "metadata": {
        "id": "9N5DmlbA9h-i",
        "colab": {
          "base_uri": "https://localhost:8080/"
        },
        "outputId": "c09bc069-9ae1-4458-d781-b0d80c3cdfb7"
      },
      "source": [
        "# Mean\n",
        "weight_mean = df['VB17003'].mean()\n",
        "\n",
        "# Variance\n",
        "weight_var = df['VB17003'].var()\n",
        "\n",
        "# Std\n",
        "weight_std = df['VB17003'].std()\n",
        "\n",
        "print(f'Weight Mean: {round(weight_mean, 2)} kg, Weight Variance: {round(weight_var, 2)} kgˆ2, Weight Standard Deviation: {round(weight_var, 2)} kg')"
      ],
      "execution_count": null,
      "outputs": [
        {
          "output_type": "stream",
          "text": [
            "Weight Mean: 54.71 kg, Weight Variance: 211.48 kgˆ2, Weight Standard Deviation: 211.48 kg\n"
          ],
          "name": "stdout"
        }
      ]
    },
    {
      "cell_type": "markdown",
      "metadata": {
        "id": "zYX4UJTZx0x8"
      },
      "source": [
        "# Confidence Interval and Tests"
      ]
    },
    {
      "cell_type": "markdown",
      "metadata": {
        "id": "9r5Tcm1IypoA"
      },
      "source": [
        "## Confidence Interval"
      ]
    },
    {
      "cell_type": "code",
      "metadata": {
        "id": "ZGze719zdlWl"
      },
      "source": [
        "# Statistical libraries\n",
        "\n",
        "from statsmodels.stats.weightstats import zconfint\n",
        "from statsmodels.stats.weightstats import DescrStatsW"
      ],
      "execution_count": null,
      "outputs": []
    },
    {
      "cell_type": "code",
      "metadata": {
        "colab": {
          "base_uri": "https://localhost:8080/"
        },
        "id": "kboGs8t2zs1q",
        "outputId": "ff9f4aa6-2d3b-4280-d910-bc920dbb7fd6"
      },
      "source": [
        "# Z-test\n",
        "\n",
        "zconfint(df['VB17004'].to_list())"
      ],
      "execution_count": null,
      "outputs": [
        {
          "output_type": "execute_result",
          "data": {
            "text/plain": [
              "(160.5556082427712, 160.87061789880892)"
            ]
          },
          "metadata": {
            "tags": []
          },
          "execution_count": 77
        }
      ]
    },
    {
      "cell_type": "code",
      "metadata": {
        "colab": {
          "base_uri": "https://localhost:8080/"
        },
        "id": "OXg0EzY_z9sc",
        "outputId": "499a8ef5-4677-4ba1-c214-b21f31c1a080"
      },
      "source": [
        "# T-test\n",
        "\n",
        "describe_height = DescrStatsW(df['VB17004'])\n",
        "describe_height.tconfint_mean()"
      ],
      "execution_count": null,
      "outputs": [
        {
          "output_type": "execute_result",
          "data": {
            "text/plain": [
              "(160.55559672649298, 160.8706294150872)"
            ]
          },
          "metadata": {
            "tags": []
          },
          "execution_count": 78
        }
      ]
    },
    {
      "cell_type": "markdown",
      "metadata": {
        "id": "1xkILN9S0hoC"
      },
      "source": [
        "### Challenge 13: Search what is the confidence interval, confidence level and significance."
      ]
    },
    {
      "cell_type": "markdown",
      "metadata": {
        "id": "lvmDY2-l0nVm"
      },
      "source": [
        "**Confidence Interval:** A confidence interval (⍬) gives an estimated range of values which is likely to include an unknown population parameter, the estimated range being calculated from a given set of sample data.\n",
        "\n",
        "**Confidence Level:** The confidence level gives the probability that the interval produced includes the true value of the parameter ⍬. Common choices for the confidence level are 0.90, 0.95, and 0.99. \n",
        "\n",
        "**Significance Level:** The significance level  for a given hypothesis test is a value for which a P-value less than or equal to is considered statistically significant. Typical values for  are 0.1, 0.05, and 0.01. These values correspond to the probability of observing such an extreme value by chance.\n",
        "\n",
        "\n",
        "---\n",
        "\n",
        "\n",
        "*Sources:*\n",
        "\n",
        "http://www.stat.yale.edu/Courses/1997-98/101/confint.htm\n",
        "\n",
        "http://www.stat.yale.edu/Courses/1997-98/101/sigtest.htm"
      ]
    },
    {
      "cell_type": "markdown",
      "metadata": {
        "id": "TJzZyLwH0nlv"
      },
      "source": [
        "### Challenge 14: Plot the confidence interval on the height histogram."
      ]
    },
    {
      "cell_type": "code",
      "metadata": {
        "id": "eEPCn5-wDbWX"
      },
      "source": [
        "lower_confidence_interval, upper_confidence_interval = describe_height.tconfint_mean()"
      ],
      "execution_count": null,
      "outputs": []
    },
    {
      "cell_type": "code",
      "metadata": {
        "colab": {
          "base_uri": "https://localhost:8080/",
          "height": 404
        },
        "id": "Au_boQ1u0LjN",
        "outputId": "fe550848-38e4-43b0-fc28-e3ac906f9591"
      },
      "source": [
        "# Histogram\n",
        "ax = sns.histplot(x = 'VB17004', data = df, kde = True)\n",
        "\n",
        "# Mean, median, mode, and std lines\n",
        "ax.axvline(height_mean, color='black', linestyle=':', label='Mean')\n",
        "ax.axvline(height_median, color='g', linestyle='-', label='Median')\n",
        "ax.axvline(height_mode, color='b', linestyle='-', label='Mode')\n",
        "ax.axvspan((height_mean + height_std), (height_mean - height_std), alpha=0.2, color='y', label='Standard Deviation')\n",
        "ax.axvspan(lower_confidence_interval, upper_confidence_interval, alpha=1, color='purple', label='Confidence Interval')\n",
        "\n",
        "# Parameters\n",
        "ax.figure.set_size_inches(12, 6)\n",
        "ax.set_title('Frequency distribution')\n",
        "ax.set_xlabel('Height')\n",
        "plt.legend()\n",
        "\n",
        "ax;"
      ],
      "execution_count": null,
      "outputs": [
        {
          "output_type": "display_data",
          "data": {
            "image/png": "[encoded data removed]",
            "text/plain": [
              "<Figure size 864x432 with 1 Axes>"
            ]
          },
          "metadata": {
            "tags": [],
            "needs_background": "light"
          }
        }
      ]
    },
    {
      "cell_type": "markdown",
      "metadata": {
        "id": "ODKSZJbC0xZe"
      },
      "source": [
        "## Statistical tests (hypotesis)"
      ]
    },
    {
      "cell_type": "code",
      "metadata": {
        "id": "hqJnj0JO04bE"
      },
      "source": [
        "# Statistical libraries\n",
        "\n",
        "from statsmodels.stats.weightstats import ztest\n",
        "from scipy.stats import normaltest\n",
        "from scipy.stats import ranksums"
      ],
      "execution_count": null,
      "outputs": []
    },
    {
      "cell_type": "code",
      "metadata": {
        "colab": {
          "base_uri": "https://localhost:8080/"
        },
        "id": "8oulyT5a1-oh",
        "outputId": "cdb64ab4-933b-439d-b82e-cae96cb2f229"
      },
      "source": [
        "# Comparing the height distributions of males and females students through z-test\n",
        "# If p-value = 0.0 the distributions differ, if p-value = 1.0 they are statistical similar\n",
        "\n",
        "distribution_height_m = df.query('VB01001 == 1')['VB17004']\n",
        "distribution_height_f = df.query('VB01001 == 2')['VB17004']\n",
        "\n",
        "_ , p_value = ztest(distribution_height_m, distribution_height_f)\n",
        "p_value"
      ],
      "execution_count": null,
      "outputs": [
        {
          "output_type": "execute_result",
          "data": {
            "text/plain": [
              "0.0"
            ]
          },
          "metadata": {
            "tags": []
          },
          "execution_count": 84
        }
      ]
    },
    {
      "cell_type": "code",
      "metadata": {
        "colab": {
          "base_uri": "https://localhost:8080/"
        },
        "id": "8vLelRWl2WUo",
        "outputId": "13f11502-83f5-49de-b393-21feaaaeb30f"
      },
      "source": [
        "# Normal test\n",
        "# Verifying if the height distributions are normal \n",
        "# If p-value >= 0.05 = Normal; p-value < 0.05 = Not normal\n",
        "\n",
        "_, p_value_normaltest_m = normaltest(distribution_height_m)\n",
        "_, p_value_normaltest_f = normaltest(distribution_height_f)\n",
        "\n",
        "print(p_value_normaltest_m)\n",
        "print(p_value_normaltest_f)"
      ],
      "execution_count": null,
      "outputs": [
        {
          "output_type": "stream",
          "text": [
            "7.695118853996524e-75\n",
            "7.125189471020874e-47\n"
          ],
          "name": "stdout"
        }
      ]
    },
    {
      "cell_type": "code",
      "metadata": {
        "colab": {
          "base_uri": "https://localhost:8080/"
        },
        "id": "LUolcXWJ3p47",
        "outputId": "bdaaf2a6-774a-4679-c947-eceef7b8a608"
      },
      "source": [
        "# Verifying if the height distribuitions are equal (p-value >= 0.05)\n",
        "\n",
        "ranksums(distribution_height_m, distribution_height_f)"
      ],
      "execution_count": null,
      "outputs": [
        {
          "output_type": "execute_result",
          "data": {
            "text/plain": [
              "RanksumsResult(statistic=40.7525576033863, pvalue=0.0)"
            ]
          },
          "metadata": {
            "tags": []
          },
          "execution_count": 87
        }
      ]
    },
    {
      "cell_type": "markdown",
      "metadata": {
        "id": "xtgMct-u4TnT"
      },
      "source": [
        "### Challenge 15: Perfom the hypothesis tests of other informations and explore the database"
      ]
    },
    {
      "cell_type": "code",
      "metadata": {
        "colab": {
          "base_uri": "https://localhost:8080/"
        },
        "id": "BqTZplhl38SO",
        "outputId": "e585ccc7-9f91-40cc-bdd7-d26fcf0bb5ce"
      },
      "source": [
        "distribution_weight_m = df.query('VB01001 == 1')['VB17003']\n",
        "distribution_weight_f = df.query('VB01001 == 2')['VB17003']\n",
        "\n",
        "_ , p_value = ztest(distribution_weight_m, distribution_weight_f)\n",
        "p_value"
      ],
      "execution_count": null,
      "outputs": [
        {
          "output_type": "execute_result",
          "data": {
            "text/plain": [
              "4.663316252421833e-73"
            ]
          },
          "metadata": {
            "tags": []
          },
          "execution_count": 109
        }
      ]
    },
    {
      "cell_type": "code",
      "metadata": {
        "colab": {
          "base_uri": "https://localhost:8080/"
        },
        "id": "3IIrwStRF8nU",
        "outputId": "4a22d1bb-e886-4b45-d257-920bf7578753"
      },
      "source": [
        "_, p_value_normaltest_weight_m = normaltest(distribution_weight_m)\n",
        "_, p_value_normaltest_weight_f = normaltest(distribution_weight_f)\n",
        "\n",
        "print(p_value_normaltest_m)\n",
        "print(p_value_normaltest_f)"
      ],
      "execution_count": null,
      "outputs": [
        {
          "output_type": "stream",
          "text": [
            "7.695118853996524e-75\n",
            "7.125189471020874e-47\n"
          ],
          "name": "stdout"
        }
      ]
    },
    {
      "cell_type": "code",
      "metadata": {
        "colab": {
          "base_uri": "https://localhost:8080/"
        },
        "id": "hcGLJMhWGAbD",
        "outputId": "172ecb77-a6a1-47f6-8692-d0bbf1495274"
      },
      "source": [
        "ranksums(distribution_weight_m, distribution_weight_f)"
      ],
      "execution_count": null,
      "outputs": [
        {
          "output_type": "execute_result",
          "data": {
            "text/plain": [
              "RanksumsResult(statistic=17.215828551662888, pvalue=2.0203549297844372e-66)"
            ]
          },
          "metadata": {
            "tags": []
          },
          "execution_count": 108
        }
      ]
    },
    {
      "cell_type": "code",
      "metadata": {
        "id": "LymM8aMFGLUp"
      },
      "source": [
        ""
      ],
      "execution_count": null,
      "outputs": []
    }
  ]
}